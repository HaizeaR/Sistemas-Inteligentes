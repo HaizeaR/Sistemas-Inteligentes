{
  "nbformat": 4,
  "nbformat_minor": 0,
  "metadata": {
    "colab": {
      "name": "Práctica 01 - Fuzzy Logic.ipynb",
      "provenance": [],
      "collapsed_sections": []
    },
    "kernelspec": {
      "name": "python3",
      "display_name": "Python 3"
    },
    "language_info": {
      "name": "python"
    }
  },
  "cells": [
    {
      "cell_type": "markdown",
      "metadata": {
        "id": "48txrMHGTK91"
      },
      "source": [
        "## 🛑 Complete los siguientes datos \n",
        "\n",
        "- Nombre y Apellidos: Haizea Rodriguez\n",
        "- Entrega: 01 - Fuzzy Logic\n",
        "- Fecha: 08/10/2021\n",
        "- Tiempo dedicado a la entrega: 5/6 h\n",
        "- Principales dudas y dificultades encontrados en el desarrollo:\n",
        "\n",
        "Dificultad de aproximarme más a valores como 100 en la clasificación, a pesar de probar con distintas variables no lograba obtener mayores de 80 ni menores de 16 \n"
      ]
    },
    {
      "cell_type": "markdown",
      "metadata": {
        "id": "JzBiXMLnKXwu"
      },
      "source": [
        "#Instrucciones Generales\n",
        "\n",
        "**Laboratorio de IA**"
      ]
    },
    {
      "cell_type": "markdown",
      "metadata": {
        "id": "eUhMN-zEVOQf"
      },
      "source": [
        "**Contexto de la práctica, preliminares e instrucciones**\n",
        "\n",
        "Este es el cuaderno que utilizarás como **plantilla** para entrega de la asignatura Laboratorio de IA del tema correpondiente.\n",
        "\n",
        "La práctica está **alineada** con las sesiones de teoría y el ejemplo de código visto en el aula, por lo que es recomendable un repaso al material del tema previo a la implementación de la práctica. \n",
        "\n",
        "Por favor, **lee atentamente** el enunciado. Si tienes alguna duda, utiliza el foro o ponte en contacto con el profesor (pero no compartas código). \n",
        "\n",
        "Consideraciones generales sobre el código:\n",
        "- Cuando se le pida que presente un valor o resultado, muéstrelo con el contexto y la precisión adecuados, es decir, \"La tabla tiene 100 filas y 4 columnas\" en lugar de mostrar \"100 4\" por pantalla o \"precisión del 66,7%\" en lugar de simplemente imprimir \"0,66666666\".\n",
        "- Utilice tantas celdas (de texto o de código) como considere para dar una respuesta legible y clara a las preguntas planteadas.\n",
        "- Mostrar resultados intermedios o finales (tablas, contenido de las variables...) que demuestren que la solución es correcta si fuera necesario.\n",
        "- No olvide importar todas las librerías necesarias para la correcta ejecución del código, incluyendo la instalación de las mismas, si fuera necesario. \n",
        "\n",
        "\n",
        "**Para entregar el cuaderno:**\n",
        "- Imprímelo en un archivo PDF con todas las secciones expandidas y todas las celdas ejecutadas, de forma que se pueda ver todo el código y se muestren todos los resultados.\n",
        "- Guardar el cuaderno como archivo ipynb.\n",
        "\n",
        "Envía ambos archivos en una carpeta zip a ALUD. Nombre los ficheros con su nombre, apellidos y el número de práctica.\n",
        "\n",
        "**Evaluación:**  Esta práctica cuenta un 12.5% de la evaluación final de la asignatura.\n",
        "\n",
        "En las indicaciones, hay instrucciones extra indicadas con el símbolo 🤖. No son requisitos para superar la práctica, sino acciones que puedes realizar para mejorar la calificación.\n",
        "\n",
        "La calificación de los ejercicios se hará con los siguientes criterios:\n",
        "- [9 a 10] puntos: La solución aportada cumple con los requisitos de forma excelente y existen aspectos positivos o extras (🤖) que avalan su excelencia.\n",
        "- [7 a 9] puntos: La solución aportada cumple con los requisitos, pero algunas cuestiones menores son susceptibles de ser mejoradas, tales como: presentación de la solución, justificación de la decisión tomada, eficiencia del código...\n",
        "- [5 a 7] puntos: Las soluciones aportadas no cumplen alguno de los requisitos, como por ejemplo: no se responde a una pregunta, no se aporta la solución a una parte...\n",
        "- [1 a 5] puntos: La solución aportada no cumple con varios requisitos.\n",
        "- [0] puntos: solución no aportada o solución plagiada.\n",
        "\n",
        "La limpieza y la eficiencia del código, así como las explicaciones dadas serán tenidas en cuenta  para la evaluación.\n",
        "\n",
        "**Plazo:** El plazo de entrega de la práctica son dos semanas tras la presentación de la misma en el aula.\n",
        "\n",
        "Tenga presente que la práctica puede entregarse pasado el plazo dado, en cualquier momento del cuatrimestre, teniendo en cuenta que, la entrega pasado el plazo será evaluada sobre el 75% de la calificación.\n"
      ]
    },
    {
      "cell_type": "markdown",
      "metadata": {
        "id": "-YPrfQZnS4_6"
      },
      "source": [
        "# 🛑 Desarrollo a realizar\n",
        "\n",
        "En las próximas celdas, tendrá que desarrollar un Sistema Basado en Lógica Difusa capaz de dar una valoración entre 0 y 100 de los jugadores de baloncesto \n",
        "a partir de las características del fichero de datos que puede encontrar en el directorio Drive de materiales. \n",
        "\n",
        "Fuente de los datos: https://www.kaggle.com/jacobbaruch/basketball-players-stats-per-season-49-leagues\n",
        "\n",
        "**Requisitos básicos**\n",
        " - Utilizar al menos 2 de las variables y codificar cada una de ellas con al menos 3 conjuntos difusos.\n",
        " - Incluir al menos 5 reglas difusas.\n",
        "\n",
        "**Consideraciones deseables**\n",
        " - Dado que hay datos de diferentes temporadas, deberá filtrar los datos y quedarse con aquellos de la última temporada, para evitar tener jugadores repetidos. \n",
        " - Es deseable el sistema sea capaz de asignar una valoración cercana a 0 (en el caso del peor jugador), así como cercana a 100 (en el caso del mejor jugador).\n",
        " - También es deseable que no existan muchos jugadores con puntuación similar.\n",
        "\n",
        "**🤖Requisitos extra**\n",
        " - Utilizar 3 o más variables de entrada, codificando cada una de ellas con al menos 3 conjuntos difusos (más de 12 reglas).\n",
        " - Incluir tantas reglas como sean necesarias para asegurar que la base de reglas es completa (cualquier combinación valor de entrada produce una salida).\n",
        " - Busque documentación y razone la respuesta a lo siguiente: Si quisiéramos hacer un sistema, no que valorara a los jugadores, si no que, recibiendo datos de un jugador, clasifique éste en la posición idónea (Base, Alero, Pivot). ¿Cómo podría implementarse?\n",
        "   - Pista: en este caso, se suele hablar de Sistema de Clasificación basado en Lógica Difusa, y la principal diferencia es que la salida del mismo es una categoría, en lugar de un número o *puntuación*.\n"
      ]
    },
    {
      "cell_type": "markdown",
      "metadata": {
        "id": "_1SWZBLaTLC_"
      },
      "source": [
        "Instalación del paquete necesario"
      ]
    },
    {
      "cell_type": "code",
      "metadata": {
        "id": "o4-JojMW9H0p",
        "colab": {
          "base_uri": "https://localhost:8080/"
        },
        "outputId": "5f65e02c-431f-4c0f-e1e8-5715b02dae8b"
      },
      "source": [
        "pip install scikit-fuzzy"
      ],
      "execution_count": null,
      "outputs": [
        {
          "output_type": "stream",
          "name": "stdout",
          "text": [
            "Collecting scikit-fuzzy\n",
            "  Downloading scikit-fuzzy-0.4.2.tar.gz (993 kB)\n",
            "\u001b[K     |████████████████████████████████| 993 kB 5.5 MB/s \n",
            "\u001b[?25hRequirement already satisfied: numpy>=1.6.0 in /usr/local/lib/python3.7/dist-packages (from scikit-fuzzy) (1.19.5)\n",
            "Requirement already satisfied: scipy>=0.9.0 in /usr/local/lib/python3.7/dist-packages (from scikit-fuzzy) (1.4.1)\n",
            "Requirement already satisfied: networkx>=1.9.0 in /usr/local/lib/python3.7/dist-packages (from scikit-fuzzy) (2.6.3)\n",
            "Building wheels for collected packages: scikit-fuzzy\n",
            "  Building wheel for scikit-fuzzy (setup.py) ... \u001b[?25l\u001b[?25hdone\n",
            "  Created wheel for scikit-fuzzy: filename=scikit_fuzzy-0.4.2-py3-none-any.whl size=894089 sha256=31f7c0cd5b25acd6e372f9f8dd653ba0ba9b7fde14cf3cccb807cd57631022f7\n",
            "  Stored in directory: /root/.cache/pip/wheels/d5/74/fc/38588a3d2e3f34f74588e6daa3aa5b0a322bd6f9420a707131\n",
            "Successfully built scikit-fuzzy\n",
            "Installing collected packages: scikit-fuzzy\n",
            "Successfully installed scikit-fuzzy-0.4.2\n"
          ]
        }
      ]
    },
    {
      "cell_type": "markdown",
      "metadata": {
        "id": "ljJ5vaGr-via"
      },
      "source": [
        "Importar librerías"
      ]
    },
    {
      "cell_type": "code",
      "metadata": {
        "id": "IqE9NMTsNo1b"
      },
      "source": [
        "import numpy as np\n",
        "import pandas as pd\n",
        "import skfuzzy as fuzz\n",
        "from skfuzzy import control as ctrl"
      ],
      "execution_count": null,
      "outputs": []
    },
    {
      "cell_type": "markdown",
      "metadata": {
        "id": "Ua5nabJlDwcV"
      },
      "source": [
        "Lectura del CSV y comprensión de los datos "
      ]
    },
    {
      "cell_type": "code",
      "metadata": {
        "colab": {
          "base_uri": "https://localhost:8080/",
          "height": 652
        },
        "id": "z0x3q8qOD2co",
        "outputId": "1a888ac4-0392-4e7e-cd0a-b8dccfd57877"
      },
      "source": [
        "# Lectura del file desde Github para no tener que cargar constantemente el fichero \n",
        "# Se pasa el url del lugar dónde está guardado el csv y se carga \n",
        "urlDatos = \"https://raw.githubusercontent.com/HaizeaR/Sistemas-Inteligentes/main/Data/Datos%20pr%C3%A1ctica%2001%20-%20players_stats_by_season_full_details.csv\"\n",
        "datos = pd.read_csv(urlDatos)\n",
        "display(datos)"
      ],
      "execution_count": null,
      "outputs": [
        {
          "output_type": "display_data",
          "data": {
            "text/html": [
              "<div>\n",
              "<style scoped>\n",
              "    .dataframe tbody tr th:only-of-type {\n",
              "        vertical-align: middle;\n",
              "    }\n",
              "\n",
              "    .dataframe tbody tr th {\n",
              "        vertical-align: top;\n",
              "    }\n",
              "\n",
              "    .dataframe thead th {\n",
              "        text-align: right;\n",
              "    }\n",
              "</style>\n",
              "<table border=\"1\" class=\"dataframe\">\n",
              "  <thead>\n",
              "    <tr style=\"text-align: right;\">\n",
              "      <th></th>\n",
              "      <th>League</th>\n",
              "      <th>Season</th>\n",
              "      <th>Stage</th>\n",
              "      <th>Player</th>\n",
              "      <th>Team</th>\n",
              "      <th>GP</th>\n",
              "      <th>MIN</th>\n",
              "      <th>FGM</th>\n",
              "      <th>FGA</th>\n",
              "      <th>3PM</th>\n",
              "      <th>3PA</th>\n",
              "      <th>FTM</th>\n",
              "      <th>FTA</th>\n",
              "      <th>TOV</th>\n",
              "      <th>PF</th>\n",
              "      <th>ORB</th>\n",
              "      <th>DRB</th>\n",
              "      <th>REB</th>\n",
              "      <th>AST</th>\n",
              "      <th>STL</th>\n",
              "      <th>BLK</th>\n",
              "      <th>PTS</th>\n",
              "      <th>birth_year</th>\n",
              "      <th>birth_month</th>\n",
              "      <th>birth_date</th>\n",
              "      <th>height</th>\n",
              "      <th>height_cm</th>\n",
              "      <th>weight</th>\n",
              "      <th>weight_kg</th>\n",
              "      <th>nationality</th>\n",
              "      <th>high_school</th>\n",
              "      <th>draft_round</th>\n",
              "      <th>draft_pick</th>\n",
              "      <th>draft_team</th>\n",
              "    </tr>\n",
              "  </thead>\n",
              "  <tbody>\n",
              "    <tr>\n",
              "      <th>0</th>\n",
              "      <td>NBA</td>\n",
              "      <td>1999 - 2000</td>\n",
              "      <td>Regular_Season</td>\n",
              "      <td>Shaquille O'Neal</td>\n",
              "      <td>LAL</td>\n",
              "      <td>79</td>\n",
              "      <td>3163.0</td>\n",
              "      <td>956</td>\n",
              "      <td>1665</td>\n",
              "      <td>0</td>\n",
              "      <td>1</td>\n",
              "      <td>432</td>\n",
              "      <td>824</td>\n",
              "      <td>223</td>\n",
              "      <td>255</td>\n",
              "      <td>336</td>\n",
              "      <td>742</td>\n",
              "      <td>1078</td>\n",
              "      <td>299</td>\n",
              "      <td>36</td>\n",
              "      <td>239</td>\n",
              "      <td>2344</td>\n",
              "      <td>1972.0</td>\n",
              "      <td>Mar</td>\n",
              "      <td>Mar 6, 1972</td>\n",
              "      <td>7-1</td>\n",
              "      <td>216.0</td>\n",
              "      <td>325.0</td>\n",
              "      <td>147.0</td>\n",
              "      <td>United States</td>\n",
              "      <td>Robert G. Cole High School</td>\n",
              "      <td>1.0</td>\n",
              "      <td>1.0</td>\n",
              "      <td>Orlando Magic</td>\n",
              "    </tr>\n",
              "    <tr>\n",
              "      <th>1</th>\n",
              "      <td>NBA</td>\n",
              "      <td>1999 - 2000</td>\n",
              "      <td>Regular_Season</td>\n",
              "      <td>Vince Carter</td>\n",
              "      <td>TOR</td>\n",
              "      <td>82</td>\n",
              "      <td>3126.0</td>\n",
              "      <td>788</td>\n",
              "      <td>1696</td>\n",
              "      <td>95</td>\n",
              "      <td>236</td>\n",
              "      <td>436</td>\n",
              "      <td>551</td>\n",
              "      <td>178</td>\n",
              "      <td>263</td>\n",
              "      <td>150</td>\n",
              "      <td>326</td>\n",
              "      <td>476</td>\n",
              "      <td>322</td>\n",
              "      <td>110</td>\n",
              "      <td>92</td>\n",
              "      <td>2107</td>\n",
              "      <td>1977.0</td>\n",
              "      <td>Jan</td>\n",
              "      <td>Jan 26, 1977</td>\n",
              "      <td>6-6</td>\n",
              "      <td>198.0</td>\n",
              "      <td>220.0</td>\n",
              "      <td>100.0</td>\n",
              "      <td>United States</td>\n",
              "      <td>Mainland High School</td>\n",
              "      <td>1.0</td>\n",
              "      <td>5.0</td>\n",
              "      <td>Golden State Warriors</td>\n",
              "    </tr>\n",
              "    <tr>\n",
              "      <th>2</th>\n",
              "      <td>NBA</td>\n",
              "      <td>1999 - 2000</td>\n",
              "      <td>Regular_Season</td>\n",
              "      <td>Karl Malone</td>\n",
              "      <td>UTA</td>\n",
              "      <td>82</td>\n",
              "      <td>2947.0</td>\n",
              "      <td>752</td>\n",
              "      <td>1476</td>\n",
              "      <td>2</td>\n",
              "      <td>8</td>\n",
              "      <td>589</td>\n",
              "      <td>739</td>\n",
              "      <td>231</td>\n",
              "      <td>229</td>\n",
              "      <td>169</td>\n",
              "      <td>610</td>\n",
              "      <td>779</td>\n",
              "      <td>304</td>\n",
              "      <td>79</td>\n",
              "      <td>71</td>\n",
              "      <td>2095</td>\n",
              "      <td>1963.0</td>\n",
              "      <td>Jul</td>\n",
              "      <td>Jul 24, 1963</td>\n",
              "      <td>6-9</td>\n",
              "      <td>206.0</td>\n",
              "      <td>265.0</td>\n",
              "      <td>120.0</td>\n",
              "      <td>United States</td>\n",
              "      <td>Summerfield High School</td>\n",
              "      <td>1.0</td>\n",
              "      <td>13.0</td>\n",
              "      <td>Utah Jazz</td>\n",
              "    </tr>\n",
              "    <tr>\n",
              "      <th>3</th>\n",
              "      <td>NBA</td>\n",
              "      <td>1999 - 2000</td>\n",
              "      <td>Regular_Season</td>\n",
              "      <td>Allen Iverson</td>\n",
              "      <td>PHI</td>\n",
              "      <td>70</td>\n",
              "      <td>2853.0</td>\n",
              "      <td>729</td>\n",
              "      <td>1733</td>\n",
              "      <td>89</td>\n",
              "      <td>261</td>\n",
              "      <td>442</td>\n",
              "      <td>620</td>\n",
              "      <td>230</td>\n",
              "      <td>162</td>\n",
              "      <td>71</td>\n",
              "      <td>196</td>\n",
              "      <td>267</td>\n",
              "      <td>328</td>\n",
              "      <td>144</td>\n",
              "      <td>5</td>\n",
              "      <td>1989</td>\n",
              "      <td>1975.0</td>\n",
              "      <td>Jun</td>\n",
              "      <td>Jun 7, 1975</td>\n",
              "      <td>6-0</td>\n",
              "      <td>183.0</td>\n",
              "      <td>165.0</td>\n",
              "      <td>75.0</td>\n",
              "      <td>United States</td>\n",
              "      <td>Bethel High School</td>\n",
              "      <td>1.0</td>\n",
              "      <td>1.0</td>\n",
              "      <td>Philadelphia Sixers</td>\n",
              "    </tr>\n",
              "    <tr>\n",
              "      <th>4</th>\n",
              "      <td>NBA</td>\n",
              "      <td>1999 - 2000</td>\n",
              "      <td>Regular_Season</td>\n",
              "      <td>Gary Payton</td>\n",
              "      <td>SEA</td>\n",
              "      <td>82</td>\n",
              "      <td>3425.0</td>\n",
              "      <td>747</td>\n",
              "      <td>1666</td>\n",
              "      <td>177</td>\n",
              "      <td>520</td>\n",
              "      <td>311</td>\n",
              "      <td>423</td>\n",
              "      <td>224</td>\n",
              "      <td>178</td>\n",
              "      <td>100</td>\n",
              "      <td>429</td>\n",
              "      <td>529</td>\n",
              "      <td>732</td>\n",
              "      <td>153</td>\n",
              "      <td>18</td>\n",
              "      <td>1982</td>\n",
              "      <td>1968.0</td>\n",
              "      <td>Jul</td>\n",
              "      <td>Jul 23, 1968</td>\n",
              "      <td>6-4</td>\n",
              "      <td>193.0</td>\n",
              "      <td>180.0</td>\n",
              "      <td>82.0</td>\n",
              "      <td>United States</td>\n",
              "      <td>Skyline High School</td>\n",
              "      <td>1.0</td>\n",
              "      <td>2.0</td>\n",
              "      <td>Seattle SuperSonics</td>\n",
              "    </tr>\n",
              "    <tr>\n",
              "      <th>...</th>\n",
              "      <td>...</td>\n",
              "      <td>...</td>\n",
              "      <td>...</td>\n",
              "      <td>...</td>\n",
              "      <td>...</td>\n",
              "      <td>...</td>\n",
              "      <td>...</td>\n",
              "      <td>...</td>\n",
              "      <td>...</td>\n",
              "      <td>...</td>\n",
              "      <td>...</td>\n",
              "      <td>...</td>\n",
              "      <td>...</td>\n",
              "      <td>...</td>\n",
              "      <td>...</td>\n",
              "      <td>...</td>\n",
              "      <td>...</td>\n",
              "      <td>...</td>\n",
              "      <td>...</td>\n",
              "      <td>...</td>\n",
              "      <td>...</td>\n",
              "      <td>...</td>\n",
              "      <td>...</td>\n",
              "      <td>...</td>\n",
              "      <td>...</td>\n",
              "      <td>...</td>\n",
              "      <td>...</td>\n",
              "      <td>...</td>\n",
              "      <td>...</td>\n",
              "      <td>...</td>\n",
              "      <td>...</td>\n",
              "      <td>...</td>\n",
              "      <td>...</td>\n",
              "      <td>...</td>\n",
              "    </tr>\n",
              "    <tr>\n",
              "      <th>53944</th>\n",
              "      <td>Ukrainian-Superleague</td>\n",
              "      <td>2019 - 2020</td>\n",
              "      <td>International</td>\n",
              "      <td>Kyrylo Meshheryakov</td>\n",
              "      <td>MYK</td>\n",
              "      <td>15</td>\n",
              "      <td>127.0</td>\n",
              "      <td>7</td>\n",
              "      <td>28</td>\n",
              "      <td>2</td>\n",
              "      <td>13</td>\n",
              "      <td>3</td>\n",
              "      <td>4</td>\n",
              "      <td>5</td>\n",
              "      <td>27</td>\n",
              "      <td>4</td>\n",
              "      <td>14</td>\n",
              "      <td>18</td>\n",
              "      <td>8</td>\n",
              "      <td>1</td>\n",
              "      <td>3</td>\n",
              "      <td>19</td>\n",
              "      <td>1995.0</td>\n",
              "      <td>Aug</td>\n",
              "      <td>Aug 17, 1995</td>\n",
              "      <td>6-6</td>\n",
              "      <td>198.0</td>\n",
              "      <td>182.0</td>\n",
              "      <td>83.0</td>\n",
              "      <td>Ukraine</td>\n",
              "      <td>NaN</td>\n",
              "      <td>NaN</td>\n",
              "      <td>NaN</td>\n",
              "      <td>NaN</td>\n",
              "    </tr>\n",
              "    <tr>\n",
              "      <th>53945</th>\n",
              "      <td>Ukrainian-Superleague</td>\n",
              "      <td>2019 - 2020</td>\n",
              "      <td>International</td>\n",
              "      <td>Yaroslav Kadygrob</td>\n",
              "      <td>ODE</td>\n",
              "      <td>10</td>\n",
              "      <td>81.7</td>\n",
              "      <td>5</td>\n",
              "      <td>16</td>\n",
              "      <td>4</td>\n",
              "      <td>14</td>\n",
              "      <td>1</td>\n",
              "      <td>3</td>\n",
              "      <td>3</td>\n",
              "      <td>2</td>\n",
              "      <td>2</td>\n",
              "      <td>4</td>\n",
              "      <td>6</td>\n",
              "      <td>3</td>\n",
              "      <td>0</td>\n",
              "      <td>0</td>\n",
              "      <td>15</td>\n",
              "      <td>1991.0</td>\n",
              "      <td>Oct</td>\n",
              "      <td>Oct 28, 1991</td>\n",
              "      <td>6-3</td>\n",
              "      <td>191.0</td>\n",
              "      <td>187.0</td>\n",
              "      <td>85.0</td>\n",
              "      <td>Ukraine</td>\n",
              "      <td>NaN</td>\n",
              "      <td>NaN</td>\n",
              "      <td>NaN</td>\n",
              "      <td>NaN</td>\n",
              "    </tr>\n",
              "    <tr>\n",
              "      <th>53946</th>\n",
              "      <td>Ukrainian-Superleague</td>\n",
              "      <td>2019 - 2020</td>\n",
              "      <td>International</td>\n",
              "      <td>Ernesto Tkachuk</td>\n",
              "      <td>ODE</td>\n",
              "      <td>16</td>\n",
              "      <td>124.7</td>\n",
              "      <td>1</td>\n",
              "      <td>15</td>\n",
              "      <td>0</td>\n",
              "      <td>11</td>\n",
              "      <td>7</td>\n",
              "      <td>14</td>\n",
              "      <td>11</td>\n",
              "      <td>12</td>\n",
              "      <td>0</td>\n",
              "      <td>15</td>\n",
              "      <td>15</td>\n",
              "      <td>10</td>\n",
              "      <td>6</td>\n",
              "      <td>1</td>\n",
              "      <td>9</td>\n",
              "      <td>1994.0</td>\n",
              "      <td>Sep</td>\n",
              "      <td>Sep 17, 1994</td>\n",
              "      <td>6-2</td>\n",
              "      <td>188.0</td>\n",
              "      <td>200.0</td>\n",
              "      <td>91.0</td>\n",
              "      <td>Ukraine</td>\n",
              "      <td>NaN</td>\n",
              "      <td>NaN</td>\n",
              "      <td>NaN</td>\n",
              "      <td>NaN</td>\n",
              "    </tr>\n",
              "    <tr>\n",
              "      <th>53947</th>\n",
              "      <td>Ukrainian-Superleague</td>\n",
              "      <td>2019 - 2020</td>\n",
              "      <td>International</td>\n",
              "      <td>Andrij Shapovalov</td>\n",
              "      <td>KHAR</td>\n",
              "      <td>12</td>\n",
              "      <td>59.2</td>\n",
              "      <td>0</td>\n",
              "      <td>8</td>\n",
              "      <td>0</td>\n",
              "      <td>7</td>\n",
              "      <td>3</td>\n",
              "      <td>6</td>\n",
              "      <td>5</td>\n",
              "      <td>6</td>\n",
              "      <td>1</td>\n",
              "      <td>4</td>\n",
              "      <td>5</td>\n",
              "      <td>3</td>\n",
              "      <td>1</td>\n",
              "      <td>0</td>\n",
              "      <td>3</td>\n",
              "      <td>1993.0</td>\n",
              "      <td>Nov</td>\n",
              "      <td>Nov 10, 1993</td>\n",
              "      <td>6-2</td>\n",
              "      <td>188.0</td>\n",
              "      <td>171.0</td>\n",
              "      <td>78.0</td>\n",
              "      <td>Ukraine</td>\n",
              "      <td>NaN</td>\n",
              "      <td>NaN</td>\n",
              "      <td>NaN</td>\n",
              "      <td>NaN</td>\n",
              "    </tr>\n",
              "    <tr>\n",
              "      <th>53948</th>\n",
              "      <td>Ukrainian-Superleague</td>\n",
              "      <td>2019 - 2020</td>\n",
              "      <td>International</td>\n",
              "      <td>Dmitriy Lypovtsev</td>\n",
              "      <td>KHAR</td>\n",
              "      <td>5</td>\n",
              "      <td>86.3</td>\n",
              "      <td>1</td>\n",
              "      <td>13</td>\n",
              "      <td>0</td>\n",
              "      <td>9</td>\n",
              "      <td>0</td>\n",
              "      <td>0</td>\n",
              "      <td>7</td>\n",
              "      <td>11</td>\n",
              "      <td>2</td>\n",
              "      <td>12</td>\n",
              "      <td>14</td>\n",
              "      <td>4</td>\n",
              "      <td>2</td>\n",
              "      <td>1</td>\n",
              "      <td>2</td>\n",
              "      <td>1986.0</td>\n",
              "      <td>Oct</td>\n",
              "      <td>Oct 10, 1986</td>\n",
              "      <td>6-8</td>\n",
              "      <td>203.0</td>\n",
              "      <td>220.0</td>\n",
              "      <td>100.0</td>\n",
              "      <td>Ukraine</td>\n",
              "      <td>NaN</td>\n",
              "      <td>NaN</td>\n",
              "      <td>NaN</td>\n",
              "      <td>NaN</td>\n",
              "    </tr>\n",
              "  </tbody>\n",
              "</table>\n",
              "<p>53949 rows × 34 columns</p>\n",
              "</div>"
            ],
            "text/plain": [
              "                      League       Season  ... draft_pick             draft_team\n",
              "0                        NBA  1999 - 2000  ...        1.0          Orlando Magic\n",
              "1                        NBA  1999 - 2000  ...        5.0  Golden State Warriors\n",
              "2                        NBA  1999 - 2000  ...       13.0              Utah Jazz\n",
              "3                        NBA  1999 - 2000  ...        1.0    Philadelphia Sixers\n",
              "4                        NBA  1999 - 2000  ...        2.0    Seattle SuperSonics\n",
              "...                      ...          ...  ...        ...                    ...\n",
              "53944  Ukrainian-Superleague  2019 - 2020  ...        NaN                    NaN\n",
              "53945  Ukrainian-Superleague  2019 - 2020  ...        NaN                    NaN\n",
              "53946  Ukrainian-Superleague  2019 - 2020  ...        NaN                    NaN\n",
              "53947  Ukrainian-Superleague  2019 - 2020  ...        NaN                    NaN\n",
              "53948  Ukrainian-Superleague  2019 - 2020  ...        NaN                    NaN\n",
              "\n",
              "[53949 rows x 34 columns]"
            ]
          },
          "metadata": {}
        }
      ]
    },
    {
      "cell_type": "markdown",
      "metadata": {
        "id": "HDP7GuYIeRME"
      },
      "source": [
        "El siguiente comando muestra la información de las columnas del DF (su tipo)"
      ]
    },
    {
      "cell_type": "code",
      "metadata": {
        "colab": {
          "base_uri": "https://localhost:8080/"
        },
        "id": "STJ1sepZD24k",
        "outputId": "27ccdc53-fe9b-4dcd-8887-d250600a45bc"
      },
      "source": [
        "datos.info()"
      ],
      "execution_count": null,
      "outputs": [
        {
          "output_type": "stream",
          "name": "stdout",
          "text": [
            "<class 'pandas.core.frame.DataFrame'>\n",
            "RangeIndex: 53949 entries, 0 to 53948\n",
            "Data columns (total 34 columns):\n",
            " #   Column       Non-Null Count  Dtype  \n",
            "---  ------       --------------  -----  \n",
            " 0   League       53949 non-null  object \n",
            " 1   Season       53949 non-null  object \n",
            " 2   Stage        53949 non-null  object \n",
            " 3   Player       53949 non-null  object \n",
            " 4   Team         53938 non-null  object \n",
            " 5   GP           53949 non-null  int64  \n",
            " 6   MIN          53949 non-null  float64\n",
            " 7   FGM          53949 non-null  int64  \n",
            " 8   FGA          53949 non-null  int64  \n",
            " 9   3PM          53949 non-null  int64  \n",
            " 10  3PA          53949 non-null  int64  \n",
            " 11  FTM          53949 non-null  int64  \n",
            " 12  FTA          53949 non-null  int64  \n",
            " 13  TOV          53949 non-null  int64  \n",
            " 14  PF           53949 non-null  int64  \n",
            " 15  ORB          53949 non-null  int64  \n",
            " 16  DRB          53949 non-null  int64  \n",
            " 17  REB          53949 non-null  int64  \n",
            " 18  AST          53949 non-null  int64  \n",
            " 19  STL          53949 non-null  int64  \n",
            " 20  BLK          53949 non-null  int64  \n",
            " 21  PTS          53949 non-null  int64  \n",
            " 22  birth_year   53631 non-null  float64\n",
            " 23  birth_month  53631 non-null  object \n",
            " 24  birth_date   53631 non-null  object \n",
            " 25  height       53875 non-null  object \n",
            " 26  height_cm    53875 non-null  float64\n",
            " 27  weight       49385 non-null  float64\n",
            " 28  weight_kg    49385 non-null  float64\n",
            " 29  nationality  53942 non-null  object \n",
            " 30  high_school  23683 non-null  object \n",
            " 31  draft_round  10136 non-null  float64\n",
            " 32  draft_pick   10136 non-null  float64\n",
            " 33  draft_team   10136 non-null  object \n",
            "dtypes: float64(7), int64(16), object(11)\n",
            "memory usage: 14.0+ MB\n"
          ]
        }
      ]
    },
    {
      "cell_type": "code",
      "metadata": {
        "colab": {
          "base_uri": "https://localhost:8080/"
        },
        "id": "Ybf5TnILD4xe",
        "outputId": "d87c2a8e-87ea-409e-8561-745f284940cb"
      },
      "source": [
        "# Con esto verificamos que efectivamente hay valores repetidos y sacamos la cantidad de jugadores \n",
        "# únicos. Valor que nos interesa para luego comprobar que hemos eliminado bien las filas que no necesitamos\n",
        "print(\"Tenemos \"+ str(datos['Player'].count())+\" entradas de jugadores\")\n",
        "print(\"De los cuales únicos solo tenemos \" + str(datos['Player'].unique().size))"
      ],
      "execution_count": null,
      "outputs": [
        {
          "output_type": "stream",
          "name": "stdout",
          "text": [
            "Tenemos 53949 entradas de jugadores\n",
            "De los cuales únicos solo tenemos 14582\n"
          ]
        }
      ]
    },
    {
      "cell_type": "code",
      "metadata": {
        "colab": {
          "base_uri": "https://localhost:8080/"
        },
        "id": "FndFjEYQD9w5",
        "outputId": "bccacf91-4609-421d-ceae-0b526ea6b21a"
      },
      "source": [
        "datos['Season'].value_counts()\n",
        "# Nos quedamos con 2019-2020"
      ],
      "execution_count": null,
      "outputs": [
        {
          "output_type": "execute_result",
          "data": {
            "text/plain": [
              "2019 - 2020    7264\n",
              "2018 - 2019    5146\n",
              "2017 - 2018    4820\n",
              "2016 - 2017    4317\n",
              "2015 - 2016    4257\n",
              "2012 - 2013    4038\n",
              "2013 - 2014    4001\n",
              "2014 - 2015    3965\n",
              "2011 - 2012    3823\n",
              "2007 - 2008    1425\n",
              "2004 - 2005    1376\n",
              "2009 - 2010    1304\n",
              "2008 - 2009    1296\n",
              "2010 - 2011    1282\n",
              "2006 - 2007    1227\n",
              "2005 - 2006    1195\n",
              "2003 - 2004    1170\n",
              "2002 - 2003     703\n",
              "2001 - 2002     520\n",
              "2000 - 2001     478\n",
              "1999 - 2000     342\n",
              "Name: Season, dtype: int64"
            ]
          },
          "metadata": {},
          "execution_count": 6
        }
      ]
    },
    {
      "cell_type": "code",
      "metadata": {
        "colab": {
          "base_uri": "https://localhost:8080/"
        },
        "id": "0_hZoMzJD_Pl",
        "outputId": "fd5838a3-d439-46a0-fd87-cecbd0565727"
      },
      "source": [
        "temporadas = datos['Season'].unique()\n",
        "# Con esto quitamos del array la temporada con la que nos queremos quedar. \n",
        "# El objetivo es crear un array que podamos utilizar para dropear todas las filas que contengan\n",
        "# cualquiera de estos valores\n",
        "temporadas =  np.delete(temporadas,temporadas.size-1, axis=None)\n",
        "print(temporadas)\n"
      ],
      "execution_count": null,
      "outputs": [
        {
          "output_type": "stream",
          "name": "stdout",
          "text": [
            "['1999 - 2000' '2000 - 2001' '2001 - 2002' '2002 - 2003' '2003 - 2004'\n",
            " '2004 - 2005' '2005 - 2006' '2006 - 2007' '2007 - 2008' '2008 - 2009'\n",
            " '2009 - 2010' '2010 - 2011' '2011 - 2012' '2012 - 2013' '2013 - 2014'\n",
            " '2014 - 2015' '2015 - 2016' '2016 - 2017' '2017 - 2018' '2018 - 2019']\n"
          ]
        }
      ]
    },
    {
      "cell_type": "code",
      "metadata": {
        "id": "3jGPta5ZEAvX"
      },
      "source": [
        "datos = datos[~datos['Season'].isin(temporadas)]\n",
        "datos.reset_index(inplace=True, drop=True)"
      ],
      "execution_count": null,
      "outputs": []
    },
    {
      "cell_type": "code",
      "metadata": {
        "colab": {
          "base_uri": "https://localhost:8080/"
        },
        "id": "Dm3WLA00ECOU",
        "outputId": "ee2570e5-7f17-4a75-d3b0-7459d2df07a8"
      },
      "source": [
        "datos['Season'].value_counts()\n",
        "# Con este comando verificamos que la eliminación es correcta y solo tenemos datos de la última temporada "
      ],
      "execution_count": null,
      "outputs": [
        {
          "output_type": "execute_result",
          "data": {
            "text/plain": [
              "2019 - 2020    7264\n",
              "Name: Season, dtype: int64"
            ]
          },
          "metadata": {},
          "execution_count": 9
        }
      ]
    },
    {
      "cell_type": "code",
      "metadata": {
        "colab": {
          "base_uri": "https://localhost:8080/"
        },
        "id": "oXYxQR_HEDxO",
        "outputId": "7ff8a23d-248e-4cc7-e8cb-a742a35a6460"
      },
      "source": [
        "print(\"Tenemos \"+ str(datos['Player'].count())+\" entradas de jugadores\")\n",
        "print(\"De los cuales únicos solo tenemos \" + str(datos['Player'].unique().size))\n",
        "#Se siguen repitiendo varios valores "
      ],
      "execution_count": null,
      "outputs": [
        {
          "output_type": "stream",
          "name": "stdout",
          "text": [
            "Tenemos 7264 entradas de jugadores\n",
            "De los cuales únicos solo tenemos 6304\n"
          ]
        }
      ]
    },
    {
      "cell_type": "code",
      "metadata": {
        "colab": {
          "base_uri": "https://localhost:8080/",
          "height": 320
        },
        "id": "Nm0VQ2rvEFZu",
        "outputId": "ef5f03b5-d0fb-4598-8f70-d556f947c477"
      },
      "source": [
        "datos.describe()"
      ],
      "execution_count": null,
      "outputs": [
        {
          "output_type": "execute_result",
          "data": {
            "text/html": [
              "<div>\n",
              "<style scoped>\n",
              "    .dataframe tbody tr th:only-of-type {\n",
              "        vertical-align: middle;\n",
              "    }\n",
              "\n",
              "    .dataframe tbody tr th {\n",
              "        vertical-align: top;\n",
              "    }\n",
              "\n",
              "    .dataframe thead th {\n",
              "        text-align: right;\n",
              "    }\n",
              "</style>\n",
              "<table border=\"1\" class=\"dataframe\">\n",
              "  <thead>\n",
              "    <tr style=\"text-align: right;\">\n",
              "      <th></th>\n",
              "      <th>GP</th>\n",
              "      <th>MIN</th>\n",
              "      <th>FGM</th>\n",
              "      <th>FGA</th>\n",
              "      <th>3PM</th>\n",
              "      <th>3PA</th>\n",
              "      <th>FTM</th>\n",
              "      <th>FTA</th>\n",
              "      <th>TOV</th>\n",
              "      <th>PF</th>\n",
              "      <th>ORB</th>\n",
              "      <th>DRB</th>\n",
              "      <th>REB</th>\n",
              "      <th>AST</th>\n",
              "      <th>STL</th>\n",
              "      <th>BLK</th>\n",
              "      <th>PTS</th>\n",
              "      <th>birth_year</th>\n",
              "      <th>height_cm</th>\n",
              "      <th>weight</th>\n",
              "      <th>weight_kg</th>\n",
              "      <th>draft_round</th>\n",
              "      <th>draft_pick</th>\n",
              "    </tr>\n",
              "  </thead>\n",
              "  <tbody>\n",
              "    <tr>\n",
              "      <th>count</th>\n",
              "      <td>7264.000000</td>\n",
              "      <td>7264.000000</td>\n",
              "      <td>7264.000000</td>\n",
              "      <td>7264.000000</td>\n",
              "      <td>7264.000000</td>\n",
              "      <td>7264.000000</td>\n",
              "      <td>7264.000000</td>\n",
              "      <td>7264.000000</td>\n",
              "      <td>7264.000000</td>\n",
              "      <td>7264.000000</td>\n",
              "      <td>7264.000000</td>\n",
              "      <td>7264.000000</td>\n",
              "      <td>7264.000000</td>\n",
              "      <td>7264.000000</td>\n",
              "      <td>7264.000000</td>\n",
              "      <td>7264.000000</td>\n",
              "      <td>7264.000000</td>\n",
              "      <td>7125.000000</td>\n",
              "      <td>7228.000000</td>\n",
              "      <td>6096.000000</td>\n",
              "      <td>6096.000000</td>\n",
              "      <td>666.000000</td>\n",
              "      <td>666.000000</td>\n",
              "    </tr>\n",
              "    <tr>\n",
              "      <th>mean</th>\n",
              "      <td>21.354901</td>\n",
              "      <td>462.713175</td>\n",
              "      <td>70.490363</td>\n",
              "      <td>153.009224</td>\n",
              "      <td>20.606415</td>\n",
              "      <td>58.839620</td>\n",
              "      <td>32.911206</td>\n",
              "      <td>44.501652</td>\n",
              "      <td>28.715033</td>\n",
              "      <td>44.467786</td>\n",
              "      <td>20.765419</td>\n",
              "      <td>57.293915</td>\n",
              "      <td>78.059334</td>\n",
              "      <td>41.936812</td>\n",
              "      <td>16.253166</td>\n",
              "      <td>6.000826</td>\n",
              "      <td>194.523541</td>\n",
              "      <td>1992.585684</td>\n",
              "      <td>196.575678</td>\n",
              "      <td>205.190125</td>\n",
              "      <td>93.103346</td>\n",
              "      <td>1.442943</td>\n",
              "      <td>15.036036</td>\n",
              "    </tr>\n",
              "    <tr>\n",
              "      <th>std</th>\n",
              "      <td>11.263403</td>\n",
              "      <td>337.346909</td>\n",
              "      <td>67.350672</td>\n",
              "      <td>140.650193</td>\n",
              "      <td>24.217746</td>\n",
              "      <td>63.702436</td>\n",
              "      <td>38.116978</td>\n",
              "      <td>48.292354</td>\n",
              "      <td>24.442269</td>\n",
              "      <td>29.089834</td>\n",
              "      <td>22.275985</td>\n",
              "      <td>56.776376</td>\n",
              "      <td>75.878425</td>\n",
              "      <td>49.124868</td>\n",
              "      <td>14.366763</td>\n",
              "      <td>10.383796</td>\n",
              "      <td>186.335816</td>\n",
              "      <td>4.692165</td>\n",
              "      <td>8.649419</td>\n",
              "      <td>24.870344</td>\n",
              "      <td>11.282857</td>\n",
              "      <td>0.497107</td>\n",
              "      <td>8.756620</td>\n",
              "    </tr>\n",
              "    <tr>\n",
              "      <th>min</th>\n",
              "      <td>1.000000</td>\n",
              "      <td>13.000000</td>\n",
              "      <td>0.000000</td>\n",
              "      <td>1.000000</td>\n",
              "      <td>0.000000</td>\n",
              "      <td>0.000000</td>\n",
              "      <td>0.000000</td>\n",
              "      <td>0.000000</td>\n",
              "      <td>0.000000</td>\n",
              "      <td>0.000000</td>\n",
              "      <td>0.000000</td>\n",
              "      <td>0.000000</td>\n",
              "      <td>0.000000</td>\n",
              "      <td>0.000000</td>\n",
              "      <td>0.000000</td>\n",
              "      <td>0.000000</td>\n",
              "      <td>0.000000</td>\n",
              "      <td>1970.000000</td>\n",
              "      <td>165.000000</td>\n",
              "      <td>130.000000</td>\n",
              "      <td>59.000000</td>\n",
              "      <td>1.000000</td>\n",
              "      <td>1.000000</td>\n",
              "    </tr>\n",
              "    <tr>\n",
              "      <th>25%</th>\n",
              "      <td>14.000000</td>\n",
              "      <td>244.000000</td>\n",
              "      <td>28.000000</td>\n",
              "      <td>67.000000</td>\n",
              "      <td>4.000000</td>\n",
              "      <td>16.000000</td>\n",
              "      <td>10.000000</td>\n",
              "      <td>15.000000</td>\n",
              "      <td>13.000000</td>\n",
              "      <td>25.000000</td>\n",
              "      <td>7.000000</td>\n",
              "      <td>23.000000</td>\n",
              "      <td>32.000000</td>\n",
              "      <td>13.000000</td>\n",
              "      <td>7.000000</td>\n",
              "      <td>1.000000</td>\n",
              "      <td>79.000000</td>\n",
              "      <td>1989.000000</td>\n",
              "      <td>191.000000</td>\n",
              "      <td>187.000000</td>\n",
              "      <td>85.000000</td>\n",
              "      <td>1.000000</td>\n",
              "      <td>7.000000</td>\n",
              "    </tr>\n",
              "    <tr>\n",
              "      <th>50%</th>\n",
              "      <td>20.000000</td>\n",
              "      <td>398.250000</td>\n",
              "      <td>55.000000</td>\n",
              "      <td>122.000000</td>\n",
              "      <td>14.000000</td>\n",
              "      <td>43.000000</td>\n",
              "      <td>23.000000</td>\n",
              "      <td>32.000000</td>\n",
              "      <td>23.000000</td>\n",
              "      <td>39.000000</td>\n",
              "      <td>14.000000</td>\n",
              "      <td>43.000000</td>\n",
              "      <td>58.000000</td>\n",
              "      <td>27.500000</td>\n",
              "      <td>13.000000</td>\n",
              "      <td>3.000000</td>\n",
              "      <td>153.000000</td>\n",
              "      <td>1993.000000</td>\n",
              "      <td>198.000000</td>\n",
              "      <td>202.000000</td>\n",
              "      <td>92.000000</td>\n",
              "      <td>1.000000</td>\n",
              "      <td>14.000000</td>\n",
              "    </tr>\n",
              "    <tr>\n",
              "      <th>75%</th>\n",
              "      <td>25.000000</td>\n",
              "      <td>580.925000</td>\n",
              "      <td>91.000000</td>\n",
              "      <td>193.000000</td>\n",
              "      <td>29.000000</td>\n",
              "      <td>80.000000</td>\n",
              "      <td>43.000000</td>\n",
              "      <td>58.000000</td>\n",
              "      <td>38.000000</td>\n",
              "      <td>56.000000</td>\n",
              "      <td>27.000000</td>\n",
              "      <td>72.000000</td>\n",
              "      <td>99.000000</td>\n",
              "      <td>53.000000</td>\n",
              "      <td>22.000000</td>\n",
              "      <td>7.000000</td>\n",
              "      <td>249.000000</td>\n",
              "      <td>1996.000000</td>\n",
              "      <td>203.000000</td>\n",
              "      <td>220.000000</td>\n",
              "      <td>100.000000</td>\n",
              "      <td>2.000000</td>\n",
              "      <td>23.000000</td>\n",
              "    </tr>\n",
              "    <tr>\n",
              "      <th>max</th>\n",
              "      <td>74.000000</td>\n",
              "      <td>2556.400000</td>\n",
              "      <td>685.000000</td>\n",
              "      <td>1514.000000</td>\n",
              "      <td>299.000000</td>\n",
              "      <td>843.000000</td>\n",
              "      <td>692.000000</td>\n",
              "      <td>800.000000</td>\n",
              "      <td>308.000000</td>\n",
              "      <td>278.000000</td>\n",
              "      <td>258.000000</td>\n",
              "      <td>716.000000</td>\n",
              "      <td>916.000000</td>\n",
              "      <td>684.000000</td>\n",
              "      <td>132.000000</td>\n",
              "      <td>196.000000</td>\n",
              "      <td>2335.000000</td>\n",
              "      <td>2004.000000</td>\n",
              "      <td>229.000000</td>\n",
              "      <td>304.000000</td>\n",
              "      <td>138.000000</td>\n",
              "      <td>2.000000</td>\n",
              "      <td>30.000000</td>\n",
              "    </tr>\n",
              "  </tbody>\n",
              "</table>\n",
              "</div>"
            ],
            "text/plain": [
              "                GP          MIN  ...  draft_round  draft_pick\n",
              "count  7264.000000  7264.000000  ...   666.000000  666.000000\n",
              "mean     21.354901   462.713175  ...     1.442943   15.036036\n",
              "std      11.263403   337.346909  ...     0.497107    8.756620\n",
              "min       1.000000    13.000000  ...     1.000000    1.000000\n",
              "25%      14.000000   244.000000  ...     1.000000    7.000000\n",
              "50%      20.000000   398.250000  ...     1.000000   14.000000\n",
              "75%      25.000000   580.925000  ...     2.000000   23.000000\n",
              "max      74.000000  2556.400000  ...     2.000000   30.000000\n",
              "\n",
              "[8 rows x 23 columns]"
            ]
          },
          "metadata": {},
          "execution_count": 11
        }
      ]
    },
    {
      "cell_type": "markdown",
      "metadata": {
        "id": "zWK7QZ8uEIpV"
      },
      "source": [
        "Entendiendo las varibles: \n",
        "(Sacado de la wikipedia) \n",
        "\n",
        "- ***GP:*** games played\n",
        "- ***MIN:*** minutes\n",
        "- ***FGM, FGA, FG%:*** field goals made, attempted and percentage\n",
        "- ***3FGM, 3FGA, 3FG%:*** three-point field goals made, attempted and percentage\n",
        "- ***FTM, FTA, FT%:*** free throws made, attempted and percentage\n",
        "- ***TO:*** turnovers\n",
        "- ***PF:*** personal fouls\n",
        "- ***REB, OREB, DREB:*** rebounds, offensive rebounds, defensive rebounds\n",
        "- ***AST:*** assists\n",
        "- ***STL:*** steals\n",
        "- ***BLK:*** blocks\n",
        "- ***PTS:*** points\n"
      ]
    },
    {
      "cell_type": "markdown",
      "metadata": {
        "id": "YuYDR6H_-6YJ"
      },
      "source": [
        "Definición de las variables de entrada / salida."
      ]
    },
    {
      "cell_type": "code",
      "metadata": {
        "id": "MVjuFqnR8C7e"
      },
      "source": [
        "datos['MIN_Partido'] = (datos['MIN'] / datos['GP'])"
      ],
      "execution_count": null,
      "outputs": []
    },
    {
      "cell_type": "code",
      "metadata": {
        "colab": {
          "base_uri": "https://localhost:8080/"
        },
        "id": "5zwkbidq8FcI",
        "outputId": "b312c576-cea3-449a-f8ec-100730dbf2fd"
      },
      "source": [
        "datos['MIN_Partido'].describe()"
      ],
      "execution_count": null,
      "outputs": [
        {
          "output_type": "execute_result",
          "data": {
            "text/plain": [
              "count    7264.000000\n",
              "mean       21.107799\n",
              "std         7.932266\n",
              "min         1.083333\n",
              "25%        15.382269\n",
              "50%        21.663782\n",
              "75%        27.079211\n",
              "max        41.125000\n",
              "Name: MIN_Partido, dtype: float64"
            ]
          },
          "metadata": {},
          "execution_count": 13
        }
      ]
    },
    {
      "cell_type": "code",
      "metadata": {
        "id": "0COLI9sIZgVK"
      },
      "source": [
        "# Con esto sacamos el % de acierto de FG\n",
        "datos['FG%'] = (datos['FGM'] / datos['FGA'])*100"
      ],
      "execution_count": null,
      "outputs": []
    },
    {
      "cell_type": "code",
      "metadata": {
        "colab": {
          "base_uri": "https://localhost:8080/"
        },
        "id": "zJarFt3gZhJp",
        "outputId": "a4180cc0-6244-4d3c-e557-ba417c4d1c80"
      },
      "source": [
        "datos['FG%'].describe()"
      ],
      "execution_count": null,
      "outputs": [
        {
          "output_type": "execute_result",
          "data": {
            "text/plain": [
              "count    7264.000000\n",
              "mean       44.876349\n",
              "std         9.479301\n",
              "min         0.000000\n",
              "25%        39.200000\n",
              "50%        44.512966\n",
              "75%        50.277546\n",
              "max       100.000000\n",
              "Name: FG%, dtype: float64"
            ]
          },
          "metadata": {},
          "execution_count": 15
        }
      ]
    },
    {
      "cell_type": "code",
      "metadata": {
        "id": "SBBFzK-1EGx8"
      },
      "source": [
        "tiros = ctrl.Antecedent(np.arange(0,685,1), 'FGM')\n",
        "min_partido = ctrl.Antecedent(np.arange(0,42,1), 'MIN_Partido')\n",
        "calidad = ctrl.Consequent(np.arange(0,101,1), 'calidad')\n"
      ],
      "execution_count": null,
      "outputs": []
    },
    {
      "cell_type": "code",
      "metadata": {
        "id": "LaBxe6_M_Ddt"
      },
      "source": [
        "# Escriba aquí su código (cree celdas adicionales de texto/código si considera que queda así mejor explicado y más claro todo)"
      ],
      "execution_count": null,
      "outputs": []
    },
    {
      "cell_type": "markdown",
      "metadata": {
        "id": "NyjwxgT7EH1E"
      },
      "source": [
        "Creación de los conjuntos difusos para cada variable\n",
        "\n",
        "    "
      ]
    },
    {
      "cell_type": "code",
      "metadata": {
        "id": "7NswhocQHkju"
      },
      "source": [
        "#tiros.automf(3,names = ['low', 'medium', 'high'])\n",
        "min_partido.automf(3, names = ['low', 'medium', 'high'])\n",
        "\n",
        "tiros['low'] = fuzz.trimf(tiros.universe, [0, 0, 40])\n",
        "tiros['medium'] = fuzz.trimf(tiros.universe, [0, 40, 100])\n",
        "tiros['high'] = fuzz.trimf(tiros.universe, [100, 685, 685])\n",
        "\n",
        "\n",
        "calidad.automf(3, names = ['low', 'medium', 'high'])"
      ],
      "execution_count": null,
      "outputs": []
    },
    {
      "cell_type": "code",
      "metadata": {
        "id": "iRq5v4EfD1pW"
      },
      "source": [
        "# Escriba aquí su código (cree celdas adicionales de texto/código si considera que queda así mejor explicado y más claro todo)"
      ],
      "execution_count": null,
      "outputs": []
    },
    {
      "cell_type": "markdown",
      "metadata": {
        "id": "ejbucZ3uFJDB"
      },
      "source": [
        "Dibujo de los conjuntos difusos generados"
      ]
    },
    {
      "cell_type": "code",
      "metadata": {
        "id": "DVSd9Df09kLh",
        "colab": {
          "base_uri": "https://localhost:8080/",
          "height": 810
        },
        "outputId": "67d58588-bada-4c7c-f2ea-89054cd80e8a"
      },
      "source": [
        "%matplotlib inline\n",
        "tiros.view()\n",
        "min_partido.view()\n",
        "\n",
        "calidad.view()"
      ],
      "execution_count": null,
      "outputs": [
        {
          "output_type": "display_data",
          "data": {
            "image/png": "[encoded data removed]",
            "text/plain": [
              "<Figure size 432x288 with 1 Axes>"
            ]
          },
          "metadata": {
            "needs_background": "light"
          }
        },
        {
          "output_type": "display_data",
          "data": {
            "image/png": "[encoded data removed]",
            "text/plain": [
              "<Figure size 432x288 with 1 Axes>"
            ]
          },
          "metadata": {
            "needs_background": "light"
          }
        },
        {
          "output_type": "display_data",
          "data": {
            "image/png": "[encoded data removed]",
            "text/plain": [
              "<Figure size 432x288 with 1 Axes>"
            ]
          },
          "metadata": {
            "needs_background": "light"
          }
        }
      ]
    },
    {
      "cell_type": "markdown",
      "metadata": {
        "id": "6XOJRLhUFltJ"
      },
      "source": [
        "Definición de la base de reglas"
      ]
    },
    {
      "cell_type": "markdown",
      "metadata": {
        "id": "-vAwo-YZew1h"
      },
      "source": [
        "Definición de reglas con palabras: \n",
        "- Si la cantidad de tiros es alta o juega muchos minutos en los partidos podemos decir que es un jugador de alta calidad\n",
        "- Si la cantidad de tiros es media, el jugador es de calidad media\n",
        "- Si la cantidad de tiros es baja y juega poco, la calidad es baja \n",
        "- Si la cantidad de tiros es muy alta y los minutos que juega por partido son pocos, es de calidad media\n",
        "- Si la cantidad de tiros es alta y juega un tiempo medium en los partidos, el jugador tiene una alta calidad. \n"
      ]
    },
    {
      "cell_type": "code",
      "metadata": {
        "id": "GueJ8YU29vV0"
      },
      "source": [
        "rule1 = ctrl.Rule(tiros['high'] | min_partido['high'] , calidad['high'])\n",
        "rule2 = ctrl.Rule(tiros['medium']                 , calidad['medium'])\n",
        "rule3 = ctrl.Rule(tiros['low'] | min_partido['low']  , calidad['low'])\n",
        "rule4 = ctrl.Rule(tiros['high'] & min_partido['low'] , calidad['medium'])\n",
        "rule5 = ctrl.Rule(tiros['high'] & min_partido['medium'], calidad['high'])\n",
        "\n"
      ],
      "execution_count": null,
      "outputs": []
    },
    {
      "cell_type": "markdown",
      "metadata": {
        "id": "TnDCA1fRGpiU"
      },
      "source": [
        "Realización de prueba con un único elemento y mostrar el resultado y visualizar la salida"
      ]
    },
    {
      "cell_type": "code",
      "metadata": {
        "id": "s8fvayeqJYyK"
      },
      "source": [
        "quality_ctrl = ctrl.ControlSystem([rule1, rule2, rule3, rule4, rule5])\n",
        "quality = ctrl.ControlSystemSimulation(quality_ctrl)"
      ],
      "execution_count": null,
      "outputs": []
    },
    {
      "cell_type": "code",
      "metadata": {
        "id": "0rqVadYv-eQY"
      },
      "source": [
        "quality.input['FGM']  = 80\n",
        "quality.input['MIN_Partido'] = 40\n",
        "\n",
        "quality.compute()"
      ],
      "execution_count": null,
      "outputs": []
    },
    {
      "cell_type": "code",
      "metadata": {
        "colab": {
          "base_uri": "https://localhost:8080/"
        },
        "id": "AyGutAcDJNZu",
        "outputId": "79ed65dc-f686-442e-eadf-d00a9314190c"
      },
      "source": [
        "quality.output['calidad']"
      ],
      "execution_count": null,
      "outputs": [
        {
          "output_type": "execute_result",
          "data": {
            "text/plain": [
              "63.282245928729054"
            ]
          },
          "metadata": {},
          "execution_count": 24
        }
      ]
    },
    {
      "cell_type": "code",
      "metadata": {
        "colab": {
          "base_uri": "https://localhost:8080/",
          "height": 281
        },
        "id": "rMkGvyBL_Azd",
        "outputId": "ce92541c-99b8-41e2-8fc2-192bc549f10b"
      },
      "source": [
        "calidad.view(sim=quality)"
      ],
      "execution_count": null,
      "outputs": [
        {
          "output_type": "display_data",
          "data": {
            "image/png": "[encoded data removed]",
            "text/plain": [
              "<Figure size 432x288 with 1 Axes>"
            ]
          },
          "metadata": {
            "needs_background": "light"
          }
        }
      ]
    },
    {
      "cell_type": "markdown",
      "metadata": {
        "id": "QgYz_xhuGGMx"
      },
      "source": [
        "Cargar los datos de entrada, filtrar y quedarse únicamente con datos de la última temporada y generar una columna vacía para almacenar el resultado de salida que va a dar nuestro sistema"
      ]
    },
    {
      "cell_type": "code",
      "metadata": {
        "id": "SxRInSc_T4Mt"
      },
      "source": [
        "# Escriba aquí su código (cree celdas adicionales de texto/código si considera que queda así mejor explicado y más claro todo)"
      ],
      "execution_count": null,
      "outputs": []
    },
    {
      "cell_type": "markdown",
      "metadata": {
        "id": "K6b7qaCvLibr"
      },
      "source": [
        "Crear un bucle para la ejecución sobre todas las filas del conjunto de datos"
      ]
    },
    {
      "cell_type": "code",
      "metadata": {
        "id": "OgnrKkvfUKib",
        "colab": {
          "base_uri": "https://localhost:8080/"
        },
        "outputId": "b4bca16b-1987-406e-ce32-8ab5f5c3a4dc"
      },
      "source": [
        "datos['calidad'] = \"\"\n",
        "for i in range(datos.shape[0]):\n",
        "  quality.input['FGM'] = datos['FGM'][i]\n",
        "  quality.input['MIN_Partido'] = datos['MIN_Partido'][i]\n",
        "  quality.compute()\n",
        "  datos['calidad'][i] = quality.output['calidad']"
      ],
      "execution_count": null,
      "outputs": [
        {
          "output_type": "stream",
          "name": "stderr",
          "text": [
            "/usr/local/lib/python3.7/dist-packages/ipykernel_launcher.py:6: SettingWithCopyWarning: \n",
            "A value is trying to be set on a copy of a slice from a DataFrame\n",
            "\n",
            "See the caveats in the documentation: https://pandas.pydata.org/pandas-docs/stable/user_guide/indexing.html#returning-a-view-versus-a-copy\n",
            "  \n"
          ]
        }
      ]
    },
    {
      "cell_type": "markdown",
      "metadata": {
        "id": "JtG1fd7pLlQS"
      },
      "source": [
        "Mostrar el conjunto de datos resultante (únicamente las primeras filas)"
      ]
    },
    {
      "cell_type": "code",
      "metadata": {
        "colab": {
          "base_uri": "https://localhost:8080/",
          "height": 670
        },
        "id": "jMsWJgoWKkCZ",
        "outputId": "54200573-5048-4491-807c-4d294026909d"
      },
      "source": [
        "datos_ordenado = datos.sort_values('calidad', ascending = False)\n",
        "datos_ordenado"
      ],
      "execution_count": null,
      "outputs": [
        {
          "output_type": "execute_result",
          "data": {
            "text/html": [
              "<div>\n",
              "<style scoped>\n",
              "    .dataframe tbody tr th:only-of-type {\n",
              "        vertical-align: middle;\n",
              "    }\n",
              "\n",
              "    .dataframe tbody tr th {\n",
              "        vertical-align: top;\n",
              "    }\n",
              "\n",
              "    .dataframe thead th {\n",
              "        text-align: right;\n",
              "    }\n",
              "</style>\n",
              "<table border=\"1\" class=\"dataframe\">\n",
              "  <thead>\n",
              "    <tr style=\"text-align: right;\">\n",
              "      <th></th>\n",
              "      <th>League</th>\n",
              "      <th>Season</th>\n",
              "      <th>Stage</th>\n",
              "      <th>Player</th>\n",
              "      <th>Team</th>\n",
              "      <th>GP</th>\n",
              "      <th>MIN</th>\n",
              "      <th>FGM</th>\n",
              "      <th>FGA</th>\n",
              "      <th>3PM</th>\n",
              "      <th>3PA</th>\n",
              "      <th>FTM</th>\n",
              "      <th>FTA</th>\n",
              "      <th>TOV</th>\n",
              "      <th>PF</th>\n",
              "      <th>ORB</th>\n",
              "      <th>DRB</th>\n",
              "      <th>REB</th>\n",
              "      <th>AST</th>\n",
              "      <th>STL</th>\n",
              "      <th>BLK</th>\n",
              "      <th>PTS</th>\n",
              "      <th>birth_year</th>\n",
              "      <th>birth_month</th>\n",
              "      <th>birth_date</th>\n",
              "      <th>height</th>\n",
              "      <th>height_cm</th>\n",
              "      <th>weight</th>\n",
              "      <th>weight_kg</th>\n",
              "      <th>nationality</th>\n",
              "      <th>high_school</th>\n",
              "      <th>draft_round</th>\n",
              "      <th>draft_pick</th>\n",
              "      <th>draft_team</th>\n",
              "      <th>MIN_Partido</th>\n",
              "      <th>FG%</th>\n",
              "      <th>calidad</th>\n",
              "    </tr>\n",
              "  </thead>\n",
              "  <tbody>\n",
              "    <tr>\n",
              "      <th>5014</th>\n",
              "      <td>NBA</td>\n",
              "      <td>2019 - 2020</td>\n",
              "      <td>Regular_Season</td>\n",
              "      <td>Giannis Antetokounmpo</td>\n",
              "      <td>MIL</td>\n",
              "      <td>63</td>\n",
              "      <td>1916.9</td>\n",
              "      <td>685</td>\n",
              "      <td>1238</td>\n",
              "      <td>89</td>\n",
              "      <td>293</td>\n",
              "      <td>398</td>\n",
              "      <td>629</td>\n",
              "      <td>230</td>\n",
              "      <td>195</td>\n",
              "      <td>140</td>\n",
              "      <td>716</td>\n",
              "      <td>856</td>\n",
              "      <td>354</td>\n",
              "      <td>61</td>\n",
              "      <td>66</td>\n",
              "      <td>1857</td>\n",
              "      <td>1994.0</td>\n",
              "      <td>Dec</td>\n",
              "      <td>Dec 6, 1994</td>\n",
              "      <td>6-11</td>\n",
              "      <td>211.0</td>\n",
              "      <td>242.0</td>\n",
              "      <td>110.0</td>\n",
              "      <td>Greece / Nigeria</td>\n",
              "      <td>NaN</td>\n",
              "      <td>1.0</td>\n",
              "      <td>15.0</td>\n",
              "      <td>Milwaukee Bucks</td>\n",
              "      <td>30.426984</td>\n",
              "      <td>55.331179</td>\n",
              "      <td>83.3333</td>\n",
              "    </tr>\n",
              "    <tr>\n",
              "      <th>5296</th>\n",
              "      <td>NBA</td>\n",
              "      <td>2019 - 2020</td>\n",
              "      <td>Playoffs</td>\n",
              "      <td>Jayson Tatum</td>\n",
              "      <td>BOS</td>\n",
              "      <td>17</td>\n",
              "      <td>690.3</td>\n",
              "      <td>145</td>\n",
              "      <td>334</td>\n",
              "      <td>47</td>\n",
              "      <td>126</td>\n",
              "      <td>100</td>\n",
              "      <td>123</td>\n",
              "      <td>48</td>\n",
              "      <td>41</td>\n",
              "      <td>22</td>\n",
              "      <td>148</td>\n",
              "      <td>170</td>\n",
              "      <td>85</td>\n",
              "      <td>17</td>\n",
              "      <td>20</td>\n",
              "      <td>437</td>\n",
              "      <td>1998.0</td>\n",
              "      <td>Mar</td>\n",
              "      <td>Mar 3, 1998</td>\n",
              "      <td>6-8</td>\n",
              "      <td>203.0</td>\n",
              "      <td>208.0</td>\n",
              "      <td>94.0</td>\n",
              "      <td>United States</td>\n",
              "      <td>Chaminade College Preparatory School</td>\n",
              "      <td>1.0</td>\n",
              "      <td>3.0</td>\n",
              "      <td>Boston Celtics</td>\n",
              "      <td>40.605882</td>\n",
              "      <td>43.413174</td>\n",
              "      <td>83.3273</td>\n",
              "    </tr>\n",
              "    <tr>\n",
              "      <th>1236</th>\n",
              "      <td>Canadian-NBL</td>\n",
              "      <td>2019 - 2020</td>\n",
              "      <td>International</td>\n",
              "      <td>Akeem Ellis</td>\n",
              "      <td>KW</td>\n",
              "      <td>22</td>\n",
              "      <td>893.0</td>\n",
              "      <td>133</td>\n",
              "      <td>316</td>\n",
              "      <td>46</td>\n",
              "      <td>136</td>\n",
              "      <td>77</td>\n",
              "      <td>118</td>\n",
              "      <td>50</td>\n",
              "      <td>66</td>\n",
              "      <td>29</td>\n",
              "      <td>133</td>\n",
              "      <td>162</td>\n",
              "      <td>89</td>\n",
              "      <td>15</td>\n",
              "      <td>5</td>\n",
              "      <td>389</td>\n",
              "      <td>1990.0</td>\n",
              "      <td>Aug</td>\n",
              "      <td>Aug 4, 1990</td>\n",
              "      <td>6-6</td>\n",
              "      <td>198.0</td>\n",
              "      <td>210.0</td>\n",
              "      <td>95.0</td>\n",
              "      <td>United States</td>\n",
              "      <td>John Jay High School</td>\n",
              "      <td>NaN</td>\n",
              "      <td>NaN</td>\n",
              "      <td>NaN</td>\n",
              "      <td>40.590909</td>\n",
              "      <td>42.088608</td>\n",
              "      <td>83.3268</td>\n",
              "    </tr>\n",
              "    <tr>\n",
              "      <th>5011</th>\n",
              "      <td>NBA</td>\n",
              "      <td>2019 - 2020</td>\n",
              "      <td>Regular_Season</td>\n",
              "      <td>James Harden</td>\n",
              "      <td>HOU</td>\n",
              "      <td>68</td>\n",
              "      <td>2482.6</td>\n",
              "      <td>672</td>\n",
              "      <td>1514</td>\n",
              "      <td>299</td>\n",
              "      <td>843</td>\n",
              "      <td>692</td>\n",
              "      <td>800</td>\n",
              "      <td>308</td>\n",
              "      <td>227</td>\n",
              "      <td>70</td>\n",
              "      <td>376</td>\n",
              "      <td>446</td>\n",
              "      <td>512</td>\n",
              "      <td>125</td>\n",
              "      <td>60</td>\n",
              "      <td>2335</td>\n",
              "      <td>1989.0</td>\n",
              "      <td>Aug</td>\n",
              "      <td>Aug 26, 1989</td>\n",
              "      <td>6-5</td>\n",
              "      <td>196.0</td>\n",
              "      <td>220.0</td>\n",
              "      <td>100.0</td>\n",
              "      <td>United States</td>\n",
              "      <td>Artesia High School</td>\n",
              "      <td>1.0</td>\n",
              "      <td>3.0</td>\n",
              "      <td>Oklahoma City Thunder</td>\n",
              "      <td>36.508824</td>\n",
              "      <td>44.385733</td>\n",
              "      <td>83.3253</td>\n",
              "    </tr>\n",
              "    <tr>\n",
              "      <th>1314</th>\n",
              "      <td>Chinese-CBA</td>\n",
              "      <td>2019 - 2020</td>\n",
              "      <td>International</td>\n",
              "      <td>Joe Young</td>\n",
              "      <td>TONG</td>\n",
              "      <td>44</td>\n",
              "      <td>1782.0</td>\n",
              "      <td>617</td>\n",
              "      <td>1220</td>\n",
              "      <td>139</td>\n",
              "      <td>381</td>\n",
              "      <td>314</td>\n",
              "      <td>353</td>\n",
              "      <td>173</td>\n",
              "      <td>68</td>\n",
              "      <td>37</td>\n",
              "      <td>168</td>\n",
              "      <td>205</td>\n",
              "      <td>280</td>\n",
              "      <td>101</td>\n",
              "      <td>0</td>\n",
              "      <td>1687</td>\n",
              "      <td>1992.0</td>\n",
              "      <td>Jun</td>\n",
              "      <td>Jun 27, 1992</td>\n",
              "      <td>6-2</td>\n",
              "      <td>188.0</td>\n",
              "      <td>185.0</td>\n",
              "      <td>84.0</td>\n",
              "      <td>United States</td>\n",
              "      <td>Yates High School</td>\n",
              "      <td>2.0</td>\n",
              "      <td>13.0</td>\n",
              "      <td>Indiana Pacers</td>\n",
              "      <td>40.500000</td>\n",
              "      <td>50.573770</td>\n",
              "      <td>83.3237</td>\n",
              "    </tr>\n",
              "    <tr>\n",
              "      <th>...</th>\n",
              "      <td>...</td>\n",
              "      <td>...</td>\n",
              "      <td>...</td>\n",
              "      <td>...</td>\n",
              "      <td>...</td>\n",
              "      <td>...</td>\n",
              "      <td>...</td>\n",
              "      <td>...</td>\n",
              "      <td>...</td>\n",
              "      <td>...</td>\n",
              "      <td>...</td>\n",
              "      <td>...</td>\n",
              "      <td>...</td>\n",
              "      <td>...</td>\n",
              "      <td>...</td>\n",
              "      <td>...</td>\n",
              "      <td>...</td>\n",
              "      <td>...</td>\n",
              "      <td>...</td>\n",
              "      <td>...</td>\n",
              "      <td>...</td>\n",
              "      <td>...</td>\n",
              "      <td>...</td>\n",
              "      <td>...</td>\n",
              "      <td>...</td>\n",
              "      <td>...</td>\n",
              "      <td>...</td>\n",
              "      <td>...</td>\n",
              "      <td>...</td>\n",
              "      <td>...</td>\n",
              "      <td>...</td>\n",
              "      <td>...</td>\n",
              "      <td>...</td>\n",
              "      <td>...</td>\n",
              "      <td>...</td>\n",
              "      <td>...</td>\n",
              "      <td>...</td>\n",
              "    </tr>\n",
              "    <tr>\n",
              "      <th>1866</th>\n",
              "      <td>Czech-NBL</td>\n",
              "      <td>2019 - 2020</td>\n",
              "      <td>International</td>\n",
              "      <td>Marek Vyroubal</td>\n",
              "      <td>PRA</td>\n",
              "      <td>10</td>\n",
              "      <td>28.4</td>\n",
              "      <td>0</td>\n",
              "      <td>3</td>\n",
              "      <td>0</td>\n",
              "      <td>0</td>\n",
              "      <td>2</td>\n",
              "      <td>2</td>\n",
              "      <td>3</td>\n",
              "      <td>4</td>\n",
              "      <td>0</td>\n",
              "      <td>5</td>\n",
              "      <td>5</td>\n",
              "      <td>1</td>\n",
              "      <td>2</td>\n",
              "      <td>0</td>\n",
              "      <td>2</td>\n",
              "      <td>2001.0</td>\n",
              "      <td>Apr</td>\n",
              "      <td>Apr 2, 2001</td>\n",
              "      <td>6-5</td>\n",
              "      <td>196.0</td>\n",
              "      <td>NaN</td>\n",
              "      <td>NaN</td>\n",
              "      <td>Czech Republic</td>\n",
              "      <td>NaN</td>\n",
              "      <td>NaN</td>\n",
              "      <td>NaN</td>\n",
              "      <td>NaN</td>\n",
              "      <td>2.840000</td>\n",
              "      <td>0.000000</td>\n",
              "      <td>16.6667</td>\n",
              "    </tr>\n",
              "    <tr>\n",
              "      <th>3905</th>\n",
              "      <td>Israeli-BSL</td>\n",
              "      <td>2019 - 2020</td>\n",
              "      <td>International</td>\n",
              "      <td>Shalev Shlomo Lugashi</td>\n",
              "      <td>NAH</td>\n",
              "      <td>12</td>\n",
              "      <td>13.0</td>\n",
              "      <td>0</td>\n",
              "      <td>2</td>\n",
              "      <td>0</td>\n",
              "      <td>2</td>\n",
              "      <td>0</td>\n",
              "      <td>0</td>\n",
              "      <td>0</td>\n",
              "      <td>3</td>\n",
              "      <td>0</td>\n",
              "      <td>1</td>\n",
              "      <td>1</td>\n",
              "      <td>0</td>\n",
              "      <td>0</td>\n",
              "      <td>0</td>\n",
              "      <td>0</td>\n",
              "      <td>2001.0</td>\n",
              "      <td>Sep</td>\n",
              "      <td>Sep 24, 2001</td>\n",
              "      <td>6-4</td>\n",
              "      <td>193.0</td>\n",
              "      <td>NaN</td>\n",
              "      <td>NaN</td>\n",
              "      <td>Israel</td>\n",
              "      <td>NaN</td>\n",
              "      <td>NaN</td>\n",
              "      <td>NaN</td>\n",
              "      <td>NaN</td>\n",
              "      <td>1.083333</td>\n",
              "      <td>0.000000</td>\n",
              "      <td>16.6667</td>\n",
              "    </tr>\n",
              "    <tr>\n",
              "      <th>3760</th>\n",
              "      <td>Hungarian-NBIA</td>\n",
              "      <td>2019 - 2020</td>\n",
              "      <td>International</td>\n",
              "      <td>Csaba Kucsora</td>\n",
              "      <td>OSE</td>\n",
              "      <td>10</td>\n",
              "      <td>29.0</td>\n",
              "      <td>0</td>\n",
              "      <td>1</td>\n",
              "      <td>0</td>\n",
              "      <td>0</td>\n",
              "      <td>2</td>\n",
              "      <td>2</td>\n",
              "      <td>0</td>\n",
              "      <td>3</td>\n",
              "      <td>0</td>\n",
              "      <td>4</td>\n",
              "      <td>4</td>\n",
              "      <td>2</td>\n",
              "      <td>0</td>\n",
              "      <td>0</td>\n",
              "      <td>2</td>\n",
              "      <td>1998.0</td>\n",
              "      <td>Feb</td>\n",
              "      <td>Feb 3, 1998</td>\n",
              "      <td>6-3</td>\n",
              "      <td>191.0</td>\n",
              "      <td>180.0</td>\n",
              "      <td>82.0</td>\n",
              "      <td>Hungary</td>\n",
              "      <td>NaN</td>\n",
              "      <td>NaN</td>\n",
              "      <td>NaN</td>\n",
              "      <td>NaN</td>\n",
              "      <td>2.900000</td>\n",
              "      <td>0.000000</td>\n",
              "      <td>16.6667</td>\n",
              "    </tr>\n",
              "    <tr>\n",
              "      <th>6976</th>\n",
              "      <td>Swiss-LNA</td>\n",
              "      <td>2019 - 2020</td>\n",
              "      <td>International</td>\n",
              "      <td>Dusko Lukic</td>\n",
              "      <td>LUG</td>\n",
              "      <td>10</td>\n",
              "      <td>31.0</td>\n",
              "      <td>0</td>\n",
              "      <td>3</td>\n",
              "      <td>0</td>\n",
              "      <td>1</td>\n",
              "      <td>0</td>\n",
              "      <td>2</td>\n",
              "      <td>0</td>\n",
              "      <td>3</td>\n",
              "      <td>0</td>\n",
              "      <td>0</td>\n",
              "      <td>0</td>\n",
              "      <td>2</td>\n",
              "      <td>0</td>\n",
              "      <td>0</td>\n",
              "      <td>0</td>\n",
              "      <td>1998.0</td>\n",
              "      <td>Feb</td>\n",
              "      <td>Feb 10, 1998</td>\n",
              "      <td>6-1</td>\n",
              "      <td>185.0</td>\n",
              "      <td>175.0</td>\n",
              "      <td>79.0</td>\n",
              "      <td>Switzerland</td>\n",
              "      <td>NaN</td>\n",
              "      <td>NaN</td>\n",
              "      <td>NaN</td>\n",
              "      <td>NaN</td>\n",
              "      <td>3.100000</td>\n",
              "      <td>0.000000</td>\n",
              "      <td>16.6667</td>\n",
              "    </tr>\n",
              "    <tr>\n",
              "      <th>6031</th>\n",
              "      <td>Romanian-Divizia-A</td>\n",
              "      <td>2019 - 2020</td>\n",
              "      <td>International</td>\n",
              "      <td>Alexandru Bratosin</td>\n",
              "      <td>FOCS</td>\n",
              "      <td>11</td>\n",
              "      <td>27.2</td>\n",
              "      <td>0</td>\n",
              "      <td>7</td>\n",
              "      <td>0</td>\n",
              "      <td>0</td>\n",
              "      <td>0</td>\n",
              "      <td>0</td>\n",
              "      <td>3</td>\n",
              "      <td>4</td>\n",
              "      <td>3</td>\n",
              "      <td>2</td>\n",
              "      <td>5</td>\n",
              "      <td>0</td>\n",
              "      <td>1</td>\n",
              "      <td>1</td>\n",
              "      <td>0</td>\n",
              "      <td>2003.0</td>\n",
              "      <td>Mar</td>\n",
              "      <td>Mar 15, 2003</td>\n",
              "      <td>6-3</td>\n",
              "      <td>191.0</td>\n",
              "      <td>165.0</td>\n",
              "      <td>75.0</td>\n",
              "      <td>Romania</td>\n",
              "      <td>NaN</td>\n",
              "      <td>NaN</td>\n",
              "      <td>NaN</td>\n",
              "      <td>NaN</td>\n",
              "      <td>2.472727</td>\n",
              "      <td>0.000000</td>\n",
              "      <td>16.6667</td>\n",
              "    </tr>\n",
              "  </tbody>\n",
              "</table>\n",
              "<p>7264 rows × 37 columns</p>\n",
              "</div>"
            ],
            "text/plain": [
              "                  League       Season  ...        FG%  calidad\n",
              "5014                 NBA  2019 - 2020  ...  55.331179  83.3333\n",
              "5296                 NBA  2019 - 2020  ...  43.413174  83.3273\n",
              "1236        Canadian-NBL  2019 - 2020  ...  42.088608  83.3268\n",
              "5011                 NBA  2019 - 2020  ...  44.385733  83.3253\n",
              "1314         Chinese-CBA  2019 - 2020  ...  50.573770  83.3237\n",
              "...                  ...          ...  ...        ...      ...\n",
              "1866           Czech-NBL  2019 - 2020  ...   0.000000  16.6667\n",
              "3905         Israeli-BSL  2019 - 2020  ...   0.000000  16.6667\n",
              "3760      Hungarian-NBIA  2019 - 2020  ...   0.000000  16.6667\n",
              "6976           Swiss-LNA  2019 - 2020  ...   0.000000  16.6667\n",
              "6031  Romanian-Divizia-A  2019 - 2020  ...   0.000000  16.6667\n",
              "\n",
              "[7264 rows x 37 columns]"
            ]
          },
          "metadata": {},
          "execution_count": 28
        }
      ]
    },
    {
      "cell_type": "markdown",
      "metadata": {
        "id": "TSXagqojLCED"
      },
      "source": [
        "Para la columna de salida, muestre por pantalla los valores:\n",
        "- mínimo, máximo y percentiles 10, 20, 30, 40, ... 90."
      ]
    }
  ]
}