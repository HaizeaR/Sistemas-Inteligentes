{
  "nbformat": 4,
  "nbformat_minor": 0,
  "metadata": {
    "accelerator": "GPU",
    "colab": {
      "name": "Copia de Plantilla de práctica 03 - Image processing.ipynb",
      "provenance": [],
      "collapsed_sections": [
        "ljJ5vaGr-via",
        "YuYDR6H_-6YJ",
        "0sKUu_qyMUgQ",
        "8l-KN5iSMc1f",
        "zXy09yOf4K9O",
        "BwMU5JgPHpDS",
        "NyjwxgT7EH1E",
        "9GLmg_SmHEkY",
        "3Xd2nhYgHqXh",
        "AICzAw4YUru9",
        "JcuJ6WfLnClh",
        "rIcSmEbykl7f",
        "qTOu3Vi-SD5L",
        "vU58hPs98s7w"
      ],
      "toc_visible": true
    },
    "kernelspec": {
      "display_name": "Python 3",
      "name": "python3"
    },
    "language_info": {
      "name": "python"
    }
  },
  "cells": [
    {
      "cell_type": "markdown",
      "metadata": {
        "id": "48txrMHGTK91"
      },
      "source": [
        "## 🛑 Complete los siguientes datos \n",
        "\n",
        "- Nombre y Apellidos:  **Haizea Rodriguez**\n",
        "- Entrega: **Práctica 03 -Image Processing**\n",
        "- Fecha: **12/11/2021**\n",
        "- Tiempo dedicado a la entrega: **10-12h**\n",
        "- Principales dudas y dificultades encontrados en el desarrollo:\n",
        "\n",
        "> Data augmentation no había mucha información respecto a como utilizarlo on the fly\n",
        "\n",
        "> Los modelos a veces fallaban o daban errores, había que reiniciar el entorno y volvían a funcionar lo que hacía perder una gran cantidad de tiempo ya que había que volver a cargar los datos y llegar al final. \n",
        "\n",
        "> La carga de los datos era compleja, llevó bastante tiempo encontrar la forma correcta de cargar los gz hasta que un día en clase comentó un compañero que estabán en Mnist\n",
        "\n",
        "> Los datos para ejecutar las arquitecturas han tenido que ser modificados y esta modficación me llevo bastante tiempo, comentandolo con algunos compañeros nos salía el mismo error y encontramos la forma de añadirle las capas necesarias para poder entrenarlo\n",
        "\n",
        "> Ejecutar toda la práctica lleva demasiado tiempo, más de 30 minutos, aún teniendo la GPU inicializada por lo que realizarla lleva bastante tiempo\n",
        "\n"
      ]
    },
    {
      "cell_type": "markdown",
      "metadata": {
        "id": "JzBiXMLnKXwu"
      },
      "source": [
        "#Instrucciones Generales\n",
        "\n",
        "**Laboratorio de IA**"
      ]
    },
    {
      "cell_type": "markdown",
      "metadata": {
        "id": "eUhMN-zEVOQf"
      },
      "source": [
        "**Contexto de la práctica, preliminares e instrucciones**\n",
        "\n",
        "Este es el cuaderno que utilizarás como **plantilla** para entrega de la asignatura Laboratorio de IA del tema correpondiente.\n",
        "\n",
        "La práctica está **alineada** con las sesiones de teoría y el ejemplo de código visto en el aula, por lo que es recomendable un repaso al material del tema previo a la implementación de la práctica. \n",
        "\n",
        "Por favor, **lee atentamente** el enunciado. Si tienes alguna duda, utiliza el foro o ponte en contacto con el profesor (pero no compartas código). \n",
        "\n",
        "Consideraciones generales sobre el código:\n",
        "- Cuando se le pida que presente un valor o resultado, muéstrelo con el contexto y la precisión adecuados, es decir, \"La tabla tiene 100 filas y 4 columnas\" en lugar de mostrar \"100 4\" por pantalla o \"precisión del 66,7%\" en lugar de simplemente imprimir \"0,66666666\".\n",
        "- Utilice tantas celdas (de texto o de código) como considere para dar una respuesta legible y clara a las preguntas planteadas.\n",
        "- Mostrar resultados intermedios o finales (tablas, contenido de las variables...) que demuestren que la solución es correcta si fuera necesario.\n",
        "- No olvide importar todas las librerías necesarias para la correcta ejecución del código, incluyendo la instalación de las mismas, si fuera necesario. \n",
        "\n",
        "\n",
        "**Para entregar el cuaderno:**\n",
        "- Imprímelo en un archivo PDF con todas las secciones expandidas y todas las celdas ejecutadas, de forma que se pueda ver todo el código y se muestren todos los resultados.\n",
        "- Guardar el cuaderno como archivo ipynb.\n",
        "\n",
        "Envía ambos archivos en una carpeta zip a ALUD. Nombre los ficheros con su nombre, apellidos y el número de práctica.\n",
        "\n",
        "**Evaluación:**  Esta práctica cuenta un 12.5% de la evaluación final de la asignatura.\n",
        "\n",
        "En las indicaciones, hay instrucciones extra indicadas con el símbolo 🤖. No son requisitos para superar la práctica, sino acciones que puedes realizar para mejorar la calificación.\n",
        "\n",
        "La calificación de los ejercicios se hará con los siguientes criterios:\n",
        "- [9 a 10] puntos: La solución aportada cumple con los requisitos de forma excelente y existen aspectos positivos o extras (🤖) que avalan su excelencia.\n",
        "- [7 a 9] puntos: La solución aportada cumple con los requisitos, pero algunas cuestiones menores son susceptibles de ser mejoradas, tales como: presentación de la solución, justificación de la decisión tomada, eficiencia del código...\n",
        "- [5 a 7] puntos: Las soluciones aportadas no cumplen alguno de los requisitos, como por ejemplo: no se responde a una pregunta, no se aporta la solución a una parte...\n",
        "- [1 a 5] puntos: La solución aportada no cumple con varios requisitos.\n",
        "- [0] puntos: solución no aportada o solución plagiada.\n",
        "\n",
        "La limpieza y la eficiencia del código, así como las explicaciones dadas serán tenidas en cuenta  para la evaluación.\n",
        "\n",
        "**Plazo:** El plazo de entrega de la práctica son dos semanas tras la presentación de la misma en el aula.\n",
        "\n",
        "Tenga presente que la práctica puede entregarse pasado el plazo dado, en cualquier momento del cuatrimestre, teniendo en cuenta que, la entrega pasado el plazo será evaluada sobre el 75% de la calificación.\n"
      ]
    },
    {
      "cell_type": "markdown",
      "metadata": {
        "id": "-YPrfQZnS4_6"
      },
      "source": [
        "# 🛑 Desarrollo a realizar\n",
        "\n",
        "En las próximas celdas, tendrá que desarrollar un sistema de clasificación de imágenes de moda, haciendo uso del dataset Fashion-MNIST: [Dataset](https://github.com/zalandoresearch/fashion-mnist). El alumno probará diferentes arquitecturas y proporcionara el accuracy de cada una.\n",
        "\n",
        "**Requisitos básicos**\n",
        " - Utilizar al menos 4 modelos própios.\n",
        " - Utilizar al menos 2 arquitecturas conocidas.\n",
        " - Hacer uso de data augmentation.\n",
        "\n",
        "**Consideraciones deseables**\n",
        " - Incluir alguna métrica adicional para la evaluación de los modelos, como puede ser precision, recall o f1-score. Pista: la librería Scikit-learn incluye clases para hacerlo, por ejemplo [la siguiente clase](https://scikit-learn.org/stable/modules/generated/sklearn.metrics.f1_score.html).\n",
        "\n",
        "**🤖Requisitos extra**\n",
        " - Hacer un ablation study con alguno de los modelos propios. Un ablation study consiste en estudiar como cada una de las variables afecta al resultado final, haciendo experimentos con cada una de ellas por separado y mostrando los resultados. Habra que presentar una tabla mostrando como los cambios de cada variable estudiada afecta al resultado final.\n",
        " - Mostrar las activaciones de las capas convolucionales de uno de los modelos propios, un ejemplo puede encontrarse [aquí](https://towardsdatascience.com/visualizing-intermediate-activation-in-convolutional-neural-networks-with-keras-260b36d60d0).\n",
        "\n"
      ]
    },
    {
      "cell_type": "markdown",
      "metadata": {
        "id": "ljJ5vaGr-via"
      },
      "source": [
        "### Importar librerías"
      ]
    },
    {
      "cell_type": "markdown",
      "metadata": {
        "id": "3zej2BUQnCjx"
      },
      "source": [
        "Intalación de todas las librerías y paquetes necesarios para realizar la práctica\n"
      ]
    },
    {
      "cell_type": "code",
      "metadata": {
        "id": "IqE9NMTsNo1b"
      },
      "source": [
        "import keras\n",
        "from keras.models import Sequential\n",
        "from keras.layers import Dense, Dropout, Flatten\n",
        "from keras.layers import Conv2D, MaxPooling2D, BatchNormalization, Rescaling\n",
        "from keras import backend as K\n",
        "from keras.utils import np_utils\n",
        "import tensorflow as tf\n",
        "from keras.layers import Input, Lambda, GlobalAveragePooling2D, Reshape\n",
        "from keras.backend import resize_images\n",
        "import numpy as np\n",
        "import matplotlib.pyplot as plt\n",
        "\n",
        "\n",
        "from keras.datasets import mnist\n",
        "\n",
        "from keras.applications.mobilenet import MobileNet\n",
        "\n",
        "from keras.applications.densenet import DenseNet121\n",
        "\n",
        "from keras.models import Model\n",
        "\n",
        "from sklearn.model_selection import train_test_split\n"
      ],
      "execution_count": null,
      "outputs": []
    },
    {
      "cell_type": "markdown",
      "metadata": {
        "id": "YuYDR6H_-6YJ"
      },
      "source": [
        "### Carga del dataset y creación de los conjuntos de entrenamiento."
      ]
    },
    {
      "cell_type": "markdown",
      "metadata": {
        "id": "0sKUu_qyMUgQ"
      },
      "source": [
        "#### No usado pero otras maneras de cargar los datos "
      ]
    },
    {
      "cell_type": "markdown",
      "metadata": {
        "id": "mo_Z7tYgnQKC"
      },
      "source": [
        "Los ficheros están cargados en el mi unidad de drive. Poniendo el código que nos muestra la celda siguiente se realiza la lectura de los ficheros gz que en mi caso están metidos en una carpeta data en mi unidad del drive"
      ]
    },
    {
      "cell_type": "code",
      "metadata": {
        "id": "iNsPkJr5TpoP"
      },
      "source": [
        "#from google.colab import drive\n",
        "#drive.mount('/content/drive')"
      ],
      "execution_count": null,
      "outputs": []
    },
    {
      "cell_type": "markdown",
      "metadata": {
        "id": "SjXCJ6wi4b-x"
      },
      "source": [
        "Método sacado de el GitHub compartido en el enunciado (utils). Se encarga de leer los fichero stanto de labels como de imagenes "
      ]
    },
    {
      "cell_type": "code",
      "metadata": {
        "id": "Z1_xvdW02GzI"
      },
      "source": [
        "def load_mnist(path, kind='train'):\n",
        "    import os\n",
        "    import gzip\n",
        "    import numpy as np\n",
        "\n",
        "    \"\"\"Load MNIST data from `path`\"\"\"\n",
        "    labels_path = os.path.join(path,\n",
        "                               '%s-labels-idx1-ubyte.gz'\n",
        "                               % kind)\n",
        "    images_path = os.path.join(path,\n",
        "                               '%s-images-idx3-ubyte.gz'\n",
        "                               % kind)\n",
        "\n",
        "    with gzip.open(labels_path, 'rb') as lbpath:\n",
        "        labels = np.frombuffer(lbpath.read(), dtype=np.uint8,\n",
        "                               offset=8)\n",
        "\n",
        "    with gzip.open(images_path, 'rb') as imgpath:\n",
        "        images = np.frombuffer(imgpath.read(), dtype=np.uint8,\n",
        "                               offset=16).reshape(len(labels), 784)\n",
        "\n",
        "    return images, labels"
      ],
      "execution_count": null,
      "outputs": []
    },
    {
      "cell_type": "markdown",
      "metadata": {
        "id": "AR2siWww9b_9"
      },
      "source": [
        "En mi caso los archivos están guardados dentro de mi unidad de drive en una carpeta data. Es por eso que poniendo esa ruta puedo acceder a ellos. "
      ]
    },
    {
      "cell_type": "code",
      "metadata": {
        "id": "Z3RyVcE-2AVo"
      },
      "source": [
        "#x_train_full, y_train_full = load_mnist('/content/drive/MyDrive/data/', kind='train')\n",
        "#x_test, y_test = load_mnist('/content/drive/MyDrive/data/', kind='t10k')"
      ],
      "execution_count": null,
      "outputs": []
    },
    {
      "cell_type": "markdown",
      "metadata": {
        "id": "V9LCYOlKBeor"
      },
      "source": [
        "Opción si se suben los ficheros al collab (Recuerda que cada vez que se ejecute una nueva sesión se tienen que subir) "
      ]
    },
    {
      "cell_type": "code",
      "metadata": {
        "id": "OMylp8oBBdMg"
      },
      "source": [
        "#Está comentado porque no se usa, se utiliza la otra forma de cargarlo \n",
        "#x_train_full, y_train_full = load_mnist('/content/', kind='train')\n",
        "#x_test, y_test = load_mnist('/content/', kind='t10k')"
      ],
      "execution_count": null,
      "outputs": []
    },
    {
      "cell_type": "markdown",
      "metadata": {
        "id": "8l-KN5iSMc1f"
      },
      "source": [
        "### Lectura de datos desde MINIST"
      ]
    },
    {
      "cell_type": "markdown",
      "metadata": {
        "id": "5rjlGBld37Tu"
      },
      "source": [
        "Los datos actualmente se encuentran cargados en MNIST y como su lectura es más sencilla desde aquí me limito a llamar al método load_data con los datos correctos FASHION "
      ]
    },
    {
      "cell_type": "code",
      "metadata": {
        "id": "C6XJxNrIMcYk",
        "colab": {
          "base_uri": "https://localhost:8080/"
        },
        "outputId": "2dd4d922-6d48-4322-c655-aa8f532044ea"
      },
      "source": [
        "(x_train_full, y_train_full),(x_test, y_test) = tf.keras.datasets.fashion_mnist.load_data()\n"
      ],
      "execution_count": null,
      "outputs": [
        {
          "output_type": "stream",
          "name": "stdout",
          "text": [
            "Downloading data from https://storage.googleapis.com/tensorflow/tf-keras-datasets/train-labels-idx1-ubyte.gz\n",
            "32768/29515 [=================================] - 0s 0us/step\n",
            "40960/29515 [=========================================] - 0s 0us/step\n",
            "Downloading data from https://storage.googleapis.com/tensorflow/tf-keras-datasets/train-images-idx3-ubyte.gz\n",
            "26427392/26421880 [==============================] - 0s 0us/step\n",
            "26435584/26421880 [==============================] - 0s 0us/step\n",
            "Downloading data from https://storage.googleapis.com/tensorflow/tf-keras-datasets/t10k-labels-idx1-ubyte.gz\n",
            "16384/5148 [===============================================================================================] - 0s 0us/step\n",
            "Downloading data from https://storage.googleapis.com/tensorflow/tf-keras-datasets/t10k-images-idx3-ubyte.gz\n",
            "4423680/4422102 [==============================] - 0s 0us/step\n",
            "4431872/4422102 [==============================] - 0s 0us/step\n"
          ]
        }
      ]
    },
    {
      "cell_type": "markdown",
      "metadata": {
        "id": "zXy09yOf4K9O"
      },
      "source": [
        "### Preparar TRAIN, TEST, VAL"
      ]
    },
    {
      "cell_type": "markdown",
      "metadata": {
        "id": "8fdqkUeElLGI"
      },
      "source": [
        "En algunas prácticas realizadas en clase no hemos separado en tres conjuntos, nos hemos quedado con dos test y train ya que son los esenciales para el correcto entrenamiento de los modelos. Si queremos perfeccionar o ser más precisios usamos validation"
      ]
    },
    {
      "cell_type": "markdown",
      "metadata": {
        "id": "OsfYqfWkmpYQ"
      },
      "source": [
        "> TRAIN: La muestra de datos utilizada para ajustar el modelo.\n",
        "\n",
        "> VALIDATE: Son datos que no han visto el modelo por lo que ayudan a realizar una evaluación del ajuste más precisa\n",
        "\n",
        "> TEST: Conjunto de datos imparcial usada para la evaluación final"
      ]
    },
    {
      "cell_type": "markdown",
      "metadata": {
        "id": "6TaUhN7rn95e"
      },
      "source": [
        "![imagen.png](data:image/png;base64,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)"
      ]
    },
    {
      "cell_type": "code",
      "metadata": {
        "colab": {
          "base_uri": "https://localhost:8080/"
        },
        "id": "gKuCDmkhCN9s",
        "outputId": "0d0fa4bd-834f-4f3f-a2f2-69491445ea20"
      },
      "source": [
        "print('x_train.shape: {}, y_train.shape: {}'\n",
        "      .format(x_train_full.shape, y_train_full.shape))\n",
        "print('x_test shape: {}, y_test.shape: {}'.format(x_test.shape, y_test.shape))"
      ],
      "execution_count": null,
      "outputs": [
        {
          "output_type": "stream",
          "name": "stdout",
          "text": [
            "x_train.shape: (60000, 28, 28), y_train.shape: (60000,)\n",
            "x_test shape: (10000, 28, 28), y_test.shape: (10000,)\n"
          ]
        }
      ]
    },
    {
      "cell_type": "code",
      "metadata": {
        "colab": {
          "base_uri": "https://localhost:8080/"
        },
        "id": "DZLu3T5uCS_E",
        "outputId": "dc53fa0b-dce4-4d2e-de0a-d6f9b762d071"
      },
      "source": [
        "print (\"Pixel [1,1] de la segunda imagen:\", x_train_full[1,1])\n",
        "print (\"Label de la imagen:\", y_train_full[1])"
      ],
      "execution_count": null,
      "outputs": [
        {
          "output_type": "stream",
          "name": "stdout",
          "text": [
            "Pixel [1,1] de la segunda imagen: [  0   0   0   1   0   0   0  49 136 219 216 228 236 255 255 255 255 217\n",
            " 215 254 231 160  45   0   0   0   0   0]\n",
            "Label de la imagen: 0\n"
          ]
        }
      ]
    },
    {
      "cell_type": "code",
      "metadata": {
        "id": "_oWxiNB7DGNN"
      },
      "source": [
        "# input image dimensions\n",
        "img_rows, img_cols = 28, 28\n",
        "\n",
        "if K.image_data_format() == 'channels_first':\n",
        "    x_train_full = x_train_full.reshape(x_train_full.shape[0], 1, img_rows, img_cols)\n",
        "    x_test = x_test.reshape(x_test.shape[0], 1, img_rows, img_cols)\n",
        "    input_shape = (1, img_rows, img_cols)\n",
        "else:\n",
        "    x_train_full = x_train_full.reshape(x_train_full.shape[0], img_rows, img_cols, 1)\n",
        "    x_test = x_test.reshape(x_test.shape[0], img_rows, img_cols, 1)\n",
        "    input_shape = (img_rows, img_cols, 1)"
      ],
      "execution_count": null,
      "outputs": []
    },
    {
      "cell_type": "markdown",
      "metadata": {
        "id": "ZTfMzx1knnQy"
      },
      "source": [
        "En la práctica vamosa  trabajar con TRAIN, TEST y VALIDATION. En la siguiente celda se separan los datos creando los tres conjuntos. Validation sale de extraer un 20% del Training "
      ]
    },
    {
      "cell_type": "code",
      "metadata": {
        "colab": {
          "base_uri": "https://localhost:8080/"
        },
        "id": "TRoqycn4XsLf",
        "outputId": "be81090d-e871-4262-a224-2a0c4722f35a"
      },
      "source": [
        "# create validation set\n",
        "split = 0.2\n",
        "x_train, x_val, y_train, y_val = train_test_split(\n",
        "    x_train_full, y_train_full, test_size=0.2, random_state=42)\n",
        "print('x_train: {}, y_train: {}, x_val: {}, y_val: {}'\n",
        "      .format(x_train.shape, y_train.shape, x_val.shape, y_val.shape))"
      ],
      "execution_count": null,
      "outputs": [
        {
          "output_type": "stream",
          "name": "stdout",
          "text": [
            "x_train: (48000, 28, 28, 1), y_train: (48000,), x_val: (12000, 28, 28, 1), y_val: (12000,)\n"
          ]
        }
      ]
    },
    {
      "cell_type": "code",
      "metadata": {
        "colab": {
          "base_uri": "https://localhost:8080/"
        },
        "id": "ZpbozDqVDIy2",
        "outputId": "4400b026-69bc-4b8b-f4ad-cce199bc3cdd"
      },
      "source": [
        "x_train = x_train.astype('float32')\n",
        "x_test = x_test.astype('float32')\n",
        "x_train /= 255\n",
        "x_test /= 255\n",
        "print('x_train shape:', x_train.shape)\n",
        "print(x_train.shape[0], 'train samples')\n",
        "print(x_test.shape[0], 'test samples')\n",
        "print(x_val.shape[0], 'val samples')"
      ],
      "execution_count": null,
      "outputs": [
        {
          "output_type": "stream",
          "name": "stdout",
          "text": [
            "x_train shape: (48000, 28, 28, 1)\n",
            "48000 train samples\n",
            "10000 test samples\n",
            "12000 val samples\n"
          ]
        }
      ]
    },
    {
      "cell_type": "code",
      "metadata": {
        "colab": {
          "base_uri": "https://localhost:8080/"
        },
        "id": "HwW926ZAEHAS",
        "outputId": "0bc3c9b8-8e33-42c0-f245-44a64fd5c3df"
      },
      "source": [
        "num_classes = 10\n",
        "\n",
        "y_train = np_utils.to_categorical(y_train, num_classes)\n",
        "y_test = np_utils.to_categorical(y_test, num_classes)\n",
        "y_val = np_utils.to_categorical(y_val, num_classes)\n",
        "print (y_test[0])\n"
      ],
      "execution_count": null,
      "outputs": [
        {
          "output_type": "stream",
          "name": "stdout",
          "text": [
            "[0. 0. 0. 0. 0. 0. 0. 0. 0. 1.]\n"
          ]
        }
      ]
    },
    {
      "cell_type": "markdown",
      "metadata": {
        "id": "ARtcDMF_n3I9"
      },
      "source": [
        "Print que muestra el shape que tienen nuestras train, test y validation sets"
      ]
    },
    {
      "cell_type": "code",
      "metadata": {
        "colab": {
          "base_uri": "https://localhost:8080/"
        },
        "id": "cDDZ1vYOVbEo",
        "outputId": "c0cfb85c-9947-482f-f1d0-aa9a603049cd"
      },
      "source": [
        "print('x_train.shape: {}, y_train.shape: {}'\n",
        "      .format(x_train.shape, y_train.shape))\n",
        "print('x_test.shape: {}, y_test.shape: {}'.format(x_test.shape, y_test.shape))\n",
        "print('x_val.shape: {}, y_val.shape: {}'.format(x_val.shape, y_val.shape))"
      ],
      "execution_count": null,
      "outputs": [
        {
          "output_type": "stream",
          "name": "stdout",
          "text": [
            "x_train.shape: (48000, 28, 28, 1), y_train.shape: (48000, 10)\n",
            "x_test.shape: (10000, 28, 28, 1), y_test.shape: (10000, 10)\n",
            "x_val.shape: (12000, 28, 28, 1), y_val.shape: (12000, 10)\n"
          ]
        }
      ]
    },
    {
      "cell_type": "code",
      "metadata": {
        "id": "LaBxe6_M_Ddt"
      },
      "source": [
        "# Este dataset no se encuentra por defecto en keras los siguientes enlaces dan algunas pistas de como hacerlo: https://keras.io/examples/vision/image_classification_from_scratch/ y https://colab.research.google.com/notebooks/io.ipynb"
      ],
      "execution_count": null,
      "outputs": []
    },
    {
      "cell_type": "markdown",
      "metadata": {
        "id": "IGhkmChsNf5M"
      },
      "source": [
        "Visualizar las imagenes, código sacado de la siguente página web: https://www.datacamp.com/community/tutorials/cnn-tensorflow-python\n"
      ]
    },
    {
      "cell_type": "code",
      "metadata": {
        "colab": {
          "base_uri": "https://localhost:8080/",
          "height": 205
        },
        "id": "aPNm_AIiK--S",
        "outputId": "f5936df1-2758-46db-b153-0d73d1125946"
      },
      "source": [
        "label_dict = {0: 'T-shirt/top',\n",
        " 1: 'Trouser',\n",
        " 2: 'Pullover',\n",
        " 3: 'Dress',\n",
        " 4: 'Coat',\n",
        " 5: 'Sandal',\n",
        " 6: 'Shirt',\n",
        " 7: 'Sneaker',\n",
        " 8: 'Bag',\n",
        " 9: 'Ankle boot',\n",
        "}\n",
        "plt.figure(figsize=[5,5])\n",
        "\n",
        "# Display the first image in training data\n",
        "plt.subplot(121)\n",
        "curr_img = np.reshape(x_train[0], (28,28))\n",
        "curr_lbl = np.argmax(y_train[0,:])\n",
        "plt.imshow(curr_img, cmap='gray')\n",
        "plt.title(\"(Label: \" + str(label_dict[curr_lbl]) + \")\")\n",
        "\n",
        "# Display the first image in testing data\n",
        "plt.subplot(122)\n",
        "curr_img = np.reshape(x_test[0], (28,28))\n",
        "curr_lbl = np.argmax(y_test[0,:])\n",
        "plt.imshow(curr_img, cmap='gray')\n",
        "plt.title(\"(Label: \" + str(label_dict[curr_lbl]) + \")\")"
      ],
      "execution_count": null,
      "outputs": [
        {
          "output_type": "execute_result",
          "data": {
            "text/plain": [
              "Text(0.5, 1.0, '(Label: Ankle boot)')"
            ]
          },
          "metadata": {},
          "execution_count": 15
        },
        {
          "output_type": "display_data",
          "data": {
            "image/png": "[encoded data removed]",
            "text/plain": [
              "<Figure size 360x360 with 2 Axes>"
            ]
          },
          "metadata": {
            "needs_background": "light"
          }
        }
      ]
    },
    {
      "cell_type": "markdown",
      "metadata": {
        "id": "BwMU5JgPHpDS"
      },
      "source": [
        "### Definición de nuevas métricas"
      ]
    },
    {
      "cell_type": "markdown",
      "metadata": {
        "id": "wmUlYXOZ0TBV"
      },
      "source": [
        "No queremos medir solo accuracy, precision, f1_score son otras métricas que nos interesa. De este enlace han salido los métodos utilizados para las métricas: \n",
        "\n",
        "https://datascience.stackexchange.com/questions/45165/how-to-get-accuracy-f1-precision-and-recall-for-a-keras-model"
      ]
    },
    {
      "cell_type": "markdown",
      "metadata": {
        "id": "QyHAZKgeG_iT"
      },
      "source": [
        "**Información de estas métricas de evaluación**\n",
        "\n",
        "**Recall** es el número de elementos identificados correctamente como positivos del total de positivos verdaderos.\n",
        "\n",
        "Con la métrica de **precisión** podemos medir la calidad del modelo de machine learning en tareas de clasificación. Es el porcentaje total de elementos clasificados correctamente.\n",
        "\n",
        "Está claro que recall nos da información sobre el rendimiento de un clasificador con respecto a falsos negativos (cuántos fallaron), mientras que la precisión nos proporciona información sobre su rendimiento con respecto a los falsos positivos (cuántos capturados).\n",
        "\n",
        "El valor **F1** se utiliza para combinar las medidas de precision y recall en un sólo valor.\n",
        "\n",
        "\n",
        "En la siguiente página aparece un ejemplo de como se peuden evaluar estas métricas: https://sitiobigdata.com/2019/01/19/machine-learning-metrica-clasificacion-parte-3/#\n"
      ]
    },
    {
      "cell_type": "code",
      "metadata": {
        "id": "QGooWslTw9KU"
      },
      "source": [
        "from keras import backend as K\n",
        "\n",
        "def recall_m(y_true, y_pred):\n",
        "    true_positives = K.sum(K.round(K.clip(y_true * y_pred, 0, 1)))\n",
        "    possible_positives = K.sum(K.round(K.clip(y_true, 0, 1)))\n",
        "    recall = true_positives / (possible_positives + K.epsilon())\n",
        "    return recall\n",
        "\n",
        "def precision_m(y_true, y_pred):\n",
        "    true_positives = K.sum(K.round(K.clip(y_true * y_pred, 0, 1)))\n",
        "    predicted_positives = K.sum(K.round(K.clip(y_pred, 0, 1)))\n",
        "    precision = true_positives / (predicted_positives + K.epsilon())\n",
        "    return precision\n",
        "\n",
        "def f1_m(y_true, y_pred):\n",
        "    precision = precision_m(y_true, y_pred)\n",
        "    recall = recall_m(y_true, y_pred)\n",
        "    return 2*((precision*recall)/(precision+recall+K.epsilon()))"
      ],
      "execution_count": null,
      "outputs": []
    },
    {
      "cell_type": "markdown",
      "metadata": {
        "id": "NyjwxgT7EH1E"
      },
      "source": [
        "## Creación de los modelos y entrenamiento \n",
        "\n",
        "\n",
        "    "
      ]
    },
    {
      "cell_type": "markdown",
      "metadata": {
        "id": "9GLmg_SmHEkY"
      },
      "source": [
        "### 1º modelo - el más básico que podemos encontrar \n",
        "\n",
        "INPUT --> Convolucional --> Función de activación --> Pooling --> FC "
      ]
    },
    {
      "cell_type": "code",
      "metadata": {
        "id": "RRaypkJZEK_8"
      },
      "source": [
        "model = Sequential()\n",
        "model.add(Conv2D(32, \n",
        "                 kernel_size=(3, 3),\n",
        "                 strides = 1,\n",
        "                 activation='relu',\n",
        "                 input_shape=input_shape))\n",
        "model.add(Conv2D(64, (3, 3), activation='relu'))\n",
        "model.add(MaxPooling2D(pool_size=(2, 2)))\n",
        "model.add(Dropout(0.25))\n",
        "model.add(Flatten())\n",
        "model.add(Dense(128, activation='relu'))\n",
        "model.add(Dropout(0.5))\n",
        "model.add(Dense(num_classes, activation='softmax'))"
      ],
      "execution_count": null,
      "outputs": []
    },
    {
      "cell_type": "code",
      "metadata": {
        "id": "BCJyEt3RENvV"
      },
      "source": [
        "model.compile(loss=keras.losses.categorical_crossentropy,\n",
        "              optimizer=tf.keras.optimizers.Adadelta(),\n",
        "              metrics=['accuracy',f1_m,precision_m, recall_m])"
      ],
      "execution_count": null,
      "outputs": []
    },
    {
      "cell_type": "code",
      "metadata": {
        "colab": {
          "base_uri": "https://localhost:8080/"
        },
        "id": "VhIXNJ3WEUNo",
        "outputId": "33685640-584c-4a59-ff6c-5187f9fa0a6c"
      },
      "source": [
        "print(model.summary())"
      ],
      "execution_count": null,
      "outputs": [
        {
          "output_type": "stream",
          "name": "stdout",
          "text": [
            "Model: \"sequential\"\n",
            "_________________________________________________________________\n",
            " Layer (type)                Output Shape              Param #   \n",
            "=================================================================\n",
            " conv2d (Conv2D)             (None, 26, 26, 32)        320       \n",
            "                                                                 \n",
            " conv2d_1 (Conv2D)           (None, 24, 24, 64)        18496     \n",
            "                                                                 \n",
            " max_pooling2d (MaxPooling2D  (None, 12, 12, 64)       0         \n",
            " )                                                               \n",
            "                                                                 \n",
            " dropout (Dropout)           (None, 12, 12, 64)        0         \n",
            "                                                                 \n",
            " flatten (Flatten)           (None, 9216)              0         \n",
            "                                                                 \n",
            " dense (Dense)               (None, 128)               1179776   \n",
            "                                                                 \n",
            " dropout_1 (Dropout)         (None, 128)               0         \n",
            "                                                                 \n",
            " dense_1 (Dense)             (None, 10)                1290      \n",
            "                                                                 \n",
            "=================================================================\n",
            "Total params: 1,199,882\n",
            "Trainable params: 1,199,882\n",
            "Non-trainable params: 0\n",
            "_________________________________________________________________\n",
            "None\n"
          ]
        }
      ]
    },
    {
      "cell_type": "code",
      "metadata": {
        "colab": {
          "base_uri": "https://localhost:8080/"
        },
        "id": "WZYs7bnXEW0l",
        "outputId": "82dc2965-fe3c-4490-ce02-332d3662b893"
      },
      "source": [
        "batch_size = 256\n",
        "epochs = 10\n",
        "\n",
        "history1 = model.fit(x_train, y_train,\n",
        "          batch_size=batch_size,\n",
        "          epochs=epochs,\n",
        "          verbose=1,\n",
        "          validation_data=(x_val, y_val))"
      ],
      "execution_count": null,
      "outputs": [
        {
          "output_type": "stream",
          "name": "stdout",
          "text": [
            "Epoch 1/10\n",
            "188/188 [==============================] - 36s 28ms/step - loss: 2.3096 - accuracy: 0.0855 - f1_m: 0.0000e+00 - precision_m: 0.0000e+00 - recall_m: 0.0000e+00 - val_loss: 14.1276 - val_accuracy: 0.1010 - val_f1_m: 0.0998 - val_precision_m: 0.1010 - val_recall_m: 0.0986\n",
            "Epoch 2/10\n",
            "188/188 [==============================] - 5s 25ms/step - loss: 2.2751 - accuracy: 0.1377 - f1_m: 0.0000e+00 - precision_m: 0.0000e+00 - recall_m: 0.0000e+00 - val_loss: 10.5640 - val_accuracy: 0.2587 - val_f1_m: 0.2588 - val_precision_m: 0.2617 - val_recall_m: 0.2560\n",
            "Epoch 3/10\n",
            "188/188 [==============================] - 5s 25ms/step - loss: 2.2401 - accuracy: 0.1944 - f1_m: 0.0000e+00 - precision_m: 0.0000e+00 - recall_m: 0.0000e+00 - val_loss: 9.7645 - val_accuracy: 0.3931 - val_f1_m: 0.3935 - val_precision_m: 0.3956 - val_recall_m: 0.3916\n",
            "Epoch 4/10\n",
            "188/188 [==============================] - 5s 25ms/step - loss: 2.2012 - accuracy: 0.2435 - f1_m: 0.0000e+00 - precision_m: 0.0000e+00 - recall_m: 0.0000e+00 - val_loss: 9.8209 - val_accuracy: 0.4647 - val_f1_m: 0.4646 - val_precision_m: 0.4662 - val_recall_m: 0.4631\n",
            "Epoch 5/10\n",
            "188/188 [==============================] - 5s 26ms/step - loss: 2.1548 - accuracy: 0.2907 - f1_m: 0.0000e+00 - precision_m: 0.0000e+00 - recall_m: 0.0000e+00 - val_loss: 10.9595 - val_accuracy: 0.5200 - val_f1_m: 0.5203 - val_precision_m: 0.5214 - val_recall_m: 0.5192\n",
            "Epoch 6/10\n",
            "188/188 [==============================] - 5s 25ms/step - loss: 2.1030 - accuracy: 0.3330 - f1_m: 0.0000e+00 - precision_m: 0.0000e+00 - recall_m: 0.0000e+00 - val_loss: 12.7392 - val_accuracy: 0.5723 - val_f1_m: 0.5726 - val_precision_m: 0.5732 - val_recall_m: 0.5720\n",
            "Epoch 7/10\n",
            "188/188 [==============================] - 5s 25ms/step - loss: 2.0405 - accuracy: 0.3650 - f1_m: 0.0000e+00 - precision_m: 0.0000e+00 - recall_m: 0.0000e+00 - val_loss: 15.4617 - val_accuracy: 0.5926 - val_f1_m: 0.5927 - val_precision_m: 0.5930 - val_recall_m: 0.5924\n",
            "Epoch 8/10\n",
            "188/188 [==============================] - 5s 25ms/step - loss: 1.9700 - accuracy: 0.3900 - f1_m: 4.1394e-05 - precision_m: 0.0053 - recall_m: 2.0778e-05 - val_loss: 18.6364 - val_accuracy: 0.5991 - val_f1_m: 0.5992 - val_precision_m: 0.5993 - val_recall_m: 0.5990\n",
            "Epoch 9/10\n",
            "188/188 [==============================] - 5s 25ms/step - loss: 1.8948 - accuracy: 0.4100 - f1_m: 4.9673e-04 - precision_m: 0.0638 - recall_m: 2.4934e-04 - val_loss: 22.1529 - val_accuracy: 0.6055 - val_f1_m: 0.6055 - val_precision_m: 0.6056 - val_recall_m: 0.6054\n",
            "Epoch 10/10\n",
            "188/188 [==============================] - 5s 25ms/step - loss: 1.8115 - accuracy: 0.4319 - f1_m: 0.0072 - precision_m: 0.5674 - recall_m: 0.0036 - val_loss: 25.7348 - val_accuracy: 0.6129 - val_f1_m: 0.6129 - val_precision_m: 0.6129 - val_recall_m: 0.6128\n"
          ]
        }
      ]
    },
    {
      "cell_type": "markdown",
      "metadata": {
        "id": "ejbucZ3uFJDB"
      },
      "source": [
        "Evaluación del modelo (replique esta sección por cada modelo)"
      ]
    },
    {
      "cell_type": "code",
      "metadata": {
        "colab": {
          "base_uri": "https://localhost:8080/"
        },
        "id": "AKq7808vzaje",
        "outputId": "a4446ac5-2c4a-47e2-ac8a-bd643e810142"
      },
      "source": [
        "# evaluate the model\n",
        "loss, accuracy, f1_score, precision, recall = model.evaluate(x_test, y_test, verbose=0)\n",
        "print('Test loss:',loss)\n",
        "print('Test accuracy:', accuracy)\n",
        "print('Test f1_score:', f1_score)\n",
        "print('Test precision:', precision)\n",
        "print('Test recall:', recall)"
      ],
      "execution_count": null,
      "outputs": [
        {
          "output_type": "stream",
          "name": "stdout",
          "text": [
            "Test loss: 1.7017558813095093\n",
            "Test accuracy: 0.6111000180244446\n",
            "Test f1_score: 0.0\n",
            "Test precision: 0.0\n",
            "Test recall: 0.0\n"
          ]
        }
      ]
    },
    {
      "cell_type": "code",
      "metadata": {
        "colab": {
          "base_uri": "https://localhost:8080/",
          "height": 608
        },
        "id": "GhJKJE6QLi7h",
        "outputId": "3f440070-1e3f-4ab7-9a54-7f53e1369813"
      },
      "source": [
        "import matplotlib\n",
        "#matplotlib.use('Agg')\n",
        "import matplotlib.pyplot as plt\n",
        "\n",
        "history = history1.history\n",
        "\n",
        "print (history)\n",
        "plt.plot(history['accuracy'])\n",
        "plt.plot(history['val_accuracy'])\n",
        "plt.title('model accuracy')\n",
        "plt.ylabel('accuracy')\n",
        "plt.xlabel('epoch')\n",
        "plt.legend(['train', 'val'], loc='upper left')\n",
        "plt.show()\n",
        "\n",
        "plt.plot(history['loss'])\n",
        "plt.plot(history['val_loss'])\n",
        "plt.title('model loss')\n",
        "plt.ylabel('loss')\n",
        "plt.xlabel('epoch')\n",
        "plt.yscale(\"log\")\n",
        "plt.legend(['train', 'val'], loc='upper left')\n",
        "plt.show()\n"
      ],
      "execution_count": null,
      "outputs": [
        {
          "output_type": "stream",
          "name": "stdout",
          "text": [
            "{'loss': [2.309587001800537, 2.2750940322875977, 2.2400524616241455, 2.201237678527832, 2.1547536849975586, 2.102961540222168, 2.040482997894287, 1.9699913263320923, 1.894838809967041, 1.8114533424377441], 'accuracy': [0.08547917008399963, 0.13770833611488342, 0.19437499344348907, 0.2434791624546051, 0.2906875014305115, 0.3329791724681854, 0.36500000953674316, 0.39004167914390564, 0.4099999964237213, 0.43185415863990784], 'f1_m': [0.0, 0.0, 0.0, 0.0, 0.0, 0.0, 0.0, 4.13941488659475e-05, 0.0004967298591509461, 0.007212693337351084], 'precision_m': [0.0, 0.0, 0.0, 0.0, 0.0, 0.0, 0.0, 0.005319148302078247, 0.06382977962493896, 0.5673758387565613], 'recall_m': [0.0, 0.0, 0.0, 0.0, 0.0, 0.0, 0.0, 2.0777924873982556e-05, 0.0002493351057637483, 0.003636136883869767], 'val_loss': [14.127604484558105, 10.564034461975098, 9.764500617980957, 9.820927619934082, 10.959537506103516, 12.739242553710938, 15.461654663085938, 18.636409759521484, 22.152944564819336, 25.73480796813965], 'val_accuracy': [0.10100000351667404, 0.25874999165534973, 0.3930833339691162, 0.4646666646003723, 0.5199999809265137, 0.5722500085830688, 0.5925833582878113, 0.5990833044052124, 0.6054999828338623, 0.6129166483879089], 'val_f1_m': [0.09979237616062164, 0.2588194012641907, 0.39354538917541504, 0.4646184742450714, 0.520331859588623, 0.5725904703140259, 0.5927178263664246, 0.599158525466919, 0.6055013537406921, 0.6128584146499634], 'val_precision_m': [0.10099998116493225, 0.26169002056121826, 0.39556819200515747, 0.4661564230918884, 0.5214255452156067, 0.5731980204582214, 0.5930290818214417, 0.5992841720581055, 0.605629563331604, 0.612910807132721], 'val_recall_m': [0.09861797094345093, 0.256019651889801, 0.39155110716819763, 0.463098406791687, 0.5192462801933289, 0.5719866156578064, 0.592408299446106, 0.599033534526825, 0.605373740196228, 0.6128063201904297]}\n"
          ]
        },
        {
          "output_type": "display_data",
          "data": {
            "image/png": "[encoded data removed]",
            "text/plain": [
              "<Figure size 432x288 with 1 Axes>"
            ]
          },
          "metadata": {
            "needs_background": "light"
          }
        },
        {
          "output_type": "display_data",
          "data": {
            "image/png": "[encoded data removed]",
            "text/plain": [
              "<Figure size 432x288 with 1 Axes>"
            ]
          },
          "metadata": {
            "needs_background": "light"
          }
        }
      ]
    },
    {
      "cell_type": "markdown",
      "metadata": {
        "id": "3Xd2nhYgHqXh"
      },
      "source": [
        "### 2º Modelo - Básico agrandando\n",
        "\n",
        "La idea es replicar la estructura básica varias veces añadiendo profundidad. Metemos más capas centrandonos en las convoluciones "
      ]
    },
    {
      "cell_type": "code",
      "metadata": {
        "id": "vau-sepIImKs"
      },
      "source": [
        "model2 = Sequential()\n",
        "\n",
        "model2.add(Conv2D(32, kernel_size=(3, 3), strides = 1, activation='relu', input_shape=input_shape))\n",
        "model2.add(Conv2D(64, (3, 3), activation='relu'))\n",
        "\n",
        "model2.add(Conv2D(64,  kernel_size=(3,3), strides = 1, activation='relu', input_shape=(32, 32, 3)))\n",
        "model2.add(BatchNormalization())\n",
        "model2.add(Conv2D(64, (3, 3), activation='relu'))\n",
        "model2.add(BatchNormalization())\n",
        "\n",
        "model2.add(Conv2D(128, kernel_size=(3,3),strides = 1, activation='relu', input_shape=(32, 32, 3)))\n",
        "model2.add(BatchNormalization())\n",
        "model2.add(Conv2D(64, (3, 3), activation='relu'))\n",
        "model2.add(BatchNormalization())\n",
        "\n",
        "model2.add(Flatten())\n",
        "model2.add(Dense(128, activation='relu'))\n",
        "model2.add(Dropout(0.5))\n",
        "model2.add(Dense(num_classes, activation='softmax'))"
      ],
      "execution_count": null,
      "outputs": []
    },
    {
      "cell_type": "code",
      "metadata": {
        "id": "Uzxu5CJ3IoJr"
      },
      "source": [
        "model2.compile(loss=keras.losses.categorical_crossentropy,\n",
        "              optimizer=tf.keras.optimizers.Adadelta(),\n",
        "              metrics=['accuracy',f1_m,precision_m, recall_m])"
      ],
      "execution_count": null,
      "outputs": []
    },
    {
      "cell_type": "code",
      "metadata": {
        "colab": {
          "base_uri": "https://localhost:8080/"
        },
        "id": "jYmp_oKtJ7nn",
        "outputId": "8b59c287-5585-4325-eef1-7070d566cffd"
      },
      "source": [
        "print(model2.summary())"
      ],
      "execution_count": null,
      "outputs": [
        {
          "output_type": "stream",
          "name": "stdout",
          "text": [
            "Model: \"sequential_1\"\n",
            "_________________________________________________________________\n",
            " Layer (type)                Output Shape              Param #   \n",
            "=================================================================\n",
            " conv2d_2 (Conv2D)           (None, 26, 26, 32)        320       \n",
            "                                                                 \n",
            " conv2d_3 (Conv2D)           (None, 24, 24, 64)        18496     \n",
            "                                                                 \n",
            " conv2d_4 (Conv2D)           (None, 22, 22, 64)        36928     \n",
            "                                                                 \n",
            " batch_normalization (BatchN  (None, 22, 22, 64)       256       \n",
            " ormalization)                                                   \n",
            "                                                                 \n",
            " conv2d_5 (Conv2D)           (None, 20, 20, 64)        36928     \n",
            "                                                                 \n",
            " batch_normalization_1 (Batc  (None, 20, 20, 64)       256       \n",
            " hNormalization)                                                 \n",
            "                                                                 \n",
            " conv2d_6 (Conv2D)           (None, 18, 18, 128)       73856     \n",
            "                                                                 \n",
            " batch_normalization_2 (Batc  (None, 18, 18, 128)      512       \n",
            " hNormalization)                                                 \n",
            "                                                                 \n",
            " conv2d_7 (Conv2D)           (None, 16, 16, 64)        73792     \n",
            "                                                                 \n",
            " batch_normalization_3 (Batc  (None, 16, 16, 64)       256       \n",
            " hNormalization)                                                 \n",
            "                                                                 \n",
            " flatten_1 (Flatten)         (None, 16384)             0         \n",
            "                                                                 \n",
            " dense_2 (Dense)             (None, 128)               2097280   \n",
            "                                                                 \n",
            " dropout_2 (Dropout)         (None, 128)               0         \n",
            "                                                                 \n",
            " dense_3 (Dense)             (None, 10)                1290      \n",
            "                                                                 \n",
            "=================================================================\n",
            "Total params: 2,340,170\n",
            "Trainable params: 2,339,530\n",
            "Non-trainable params: 640\n",
            "_________________________________________________________________\n",
            "None\n"
          ]
        }
      ]
    },
    {
      "cell_type": "code",
      "metadata": {
        "colab": {
          "base_uri": "https://localhost:8080/"
        },
        "id": "OKGoANeRIqwJ",
        "outputId": "8668c0da-1da8-4b31-a440-667479973a40"
      },
      "source": [
        "batch_size = 256\n",
        "epochs = 10\n",
        "\n",
        "history2 = model2.fit(x_train, y_train,\n",
        "          batch_size=batch_size,\n",
        "          epochs=epochs,\n",
        "          verbose=1,\n",
        "          validation_data=(x_val, y_val))"
      ],
      "execution_count": null,
      "outputs": [
        {
          "output_type": "stream",
          "name": "stdout",
          "text": [
            "Epoch 1/10\n",
            "188/188 [==============================] - 22s 105ms/step - loss: 2.6367 - accuracy: 0.2518 - f1_m: 0.2083 - precision_m: 0.3189 - recall_m: 0.1549 - val_loss: 78.7718 - val_accuracy: 0.1153 - val_f1_m: 0.1154 - val_precision_m: 0.1154 - val_recall_m: 0.1153\n",
            "Epoch 2/10\n",
            "188/188 [==============================] - 18s 97ms/step - loss: 1.7059 - accuracy: 0.4507 - f1_m: 0.4265 - precision_m: 0.5811 - recall_m: 0.3376 - val_loss: 318.6425 - val_accuracy: 0.1208 - val_f1_m: 0.1209 - val_precision_m: 0.1209 - val_recall_m: 0.1209\n",
            "Epoch 3/10\n",
            "188/188 [==============================] - 18s 97ms/step - loss: 1.3479 - accuracy: 0.5541 - f1_m: 0.5383 - precision_m: 0.6747 - recall_m: 0.4483 - val_loss: 592.1868 - val_accuracy: 0.2033 - val_f1_m: 0.2035 - val_precision_m: 0.2035 - val_recall_m: 0.2035\n",
            "Epoch 4/10\n",
            "188/188 [==============================] - 18s 97ms/step - loss: 1.1690 - accuracy: 0.6075 - f1_m: 0.5962 - precision_m: 0.7145 - recall_m: 0.5118 - val_loss: 736.2166 - val_accuracy: 0.2922 - val_f1_m: 0.2923 - val_precision_m: 0.2923 - val_recall_m: 0.2923\n",
            "Epoch 5/10\n",
            "188/188 [==============================] - 18s 97ms/step - loss: 1.0540 - accuracy: 0.6414 - f1_m: 0.6334 - precision_m: 0.7428 - recall_m: 0.5523 - val_loss: 759.2703 - val_accuracy: 0.3612 - val_f1_m: 0.3613 - val_precision_m: 0.3613 - val_recall_m: 0.3613\n",
            "Epoch 6/10\n",
            "188/188 [==============================] - 18s 97ms/step - loss: 0.9779 - accuracy: 0.6630 - f1_m: 0.6558 - precision_m: 0.7553 - recall_m: 0.5799 - val_loss: 771.4246 - val_accuracy: 0.3872 - val_f1_m: 0.3873 - val_precision_m: 0.3873 - val_recall_m: 0.3873\n",
            "Epoch 7/10\n",
            "188/188 [==============================] - 18s 97ms/step - loss: 0.9135 - accuracy: 0.6830 - f1_m: 0.6780 - precision_m: 0.7750 - recall_m: 0.6028 - val_loss: 763.7286 - val_accuracy: 0.4123 - val_f1_m: 0.4125 - val_precision_m: 0.4125 - val_recall_m: 0.4125\n",
            "Epoch 8/10\n",
            "188/188 [==============================] - 18s 98ms/step - loss: 0.8674 - accuracy: 0.6964 - f1_m: 0.6928 - precision_m: 0.7871 - recall_m: 0.6189 - val_loss: 765.9778 - val_accuracy: 0.4208 - val_f1_m: 0.4210 - val_precision_m: 0.4210 - val_recall_m: 0.4210\n",
            "Epoch 9/10\n",
            "188/188 [==============================] - 18s 97ms/step - loss: 0.8285 - accuracy: 0.7094 - f1_m: 0.7053 - precision_m: 0.7958 - recall_m: 0.6336 - val_loss: 771.7359 - val_accuracy: 0.4316 - val_f1_m: 0.4317 - val_precision_m: 0.4317 - val_recall_m: 0.4317\n",
            "Epoch 10/10\n",
            "188/188 [==============================] - 18s 97ms/step - loss: 0.7960 - accuracy: 0.7199 - f1_m: 0.7150 - precision_m: 0.8037 - recall_m: 0.6442 - val_loss: 775.0239 - val_accuracy: 0.4374 - val_f1_m: 0.4375 - val_precision_m: 0.4375 - val_recall_m: 0.4375\n"
          ]
        }
      ]
    },
    {
      "cell_type": "code",
      "metadata": {
        "colab": {
          "base_uri": "https://localhost:8080/"
        },
        "id": "NBtkAuAbIukS",
        "outputId": "f8b4eecb-2ac5-4259-fdfa-ba1afd082386"
      },
      "source": [
        "# evaluate the model\n",
        "loss, accuracy, f1_score, precision, recall = model2.evaluate(x_test, y_test, verbose=0)\n",
        "print('Test loss:',loss)\n",
        "print('Test accuracy:', accuracy)\n",
        "print('Test f1_score:', f1_score)\n",
        "print('Test precision:', precision)\n",
        "print('Test recall:', recall)"
      ],
      "execution_count": null,
      "outputs": [
        {
          "output_type": "stream",
          "name": "stdout",
          "text": [
            "Test loss: 0.6336977481842041\n",
            "Test accuracy: 0.7709000110626221\n",
            "Test f1_score: 0.7640633583068848\n",
            "Test precision: 0.8576465845108032\n",
            "Test recall: 0.6911941170692444\n"
          ]
        }
      ]
    },
    {
      "cell_type": "code",
      "metadata": {
        "colab": {
          "base_uri": "https://localhost:8080/",
          "height": 608
        },
        "id": "ojrkkTv6IwZx",
        "outputId": "765ca9be-db49-4783-f8fb-9dfce2d320c4"
      },
      "source": [
        "history = history2.history\n",
        "\n",
        "print (history)\n",
        "\n",
        "plt.plot(history['accuracy'])\n",
        "plt.plot(history['val_accuracy'])\n",
        "plt.title('model accuracy')\n",
        "plt.ylabel('accuracy')\n",
        "plt.xlabel('epoch')\n",
        "plt.legend(['train', 'val'], loc='upper left')\n",
        "plt.show()\n",
        "\n",
        "plt.plot(history['loss'])\n",
        "plt.plot(history['val_loss'])\n",
        "plt.title('model loss')\n",
        "plt.ylabel('loss')\n",
        "plt.xlabel('epoch')\n",
        "plt.yscale(\"log\")\n",
        "plt.legend(['train', 'val'], loc='upper left')\n",
        "plt.show()"
      ],
      "execution_count": null,
      "outputs": [
        {
          "output_type": "stream",
          "name": "stdout",
          "text": [
            "{'loss': [2.6366958618164062, 1.7058937549591064, 1.3478764295578003, 1.168978214263916, 1.05397367477417, 0.9779388904571533, 0.9134730696678162, 0.8673955798149109, 0.8284880518913269, 0.7960294485092163], 'accuracy': [0.25181248784065247, 0.4507499933242798, 0.5541250109672546, 0.6074583530426025, 0.6413750052452087, 0.6630416512489319, 0.682979166507721, 0.6963541507720947, 0.7094166874885559, 0.7199375033378601], 'f1_m': [0.2082536220550537, 0.4264884293079376, 0.5382744669914246, 0.5961961150169373, 0.6333544254302979, 0.6558448076248169, 0.6779567003250122, 0.6927619576454163, 0.7053385972976685, 0.7149770259857178], 'precision_m': [0.31887105107307434, 0.5810779929161072, 0.6746952533721924, 0.7145090103149414, 0.742827296257019, 0.7552543878555298, 0.775017499923706, 0.7870570421218872, 0.7957620024681091, 0.8037227988243103], 'recall_m': [0.15492020547389984, 0.3375997245311737, 0.44828373193740845, 0.5118434429168701, 0.5522980093955994, 0.579870343208313, 0.6028299331665039, 0.6189120411872864, 0.6336228251457214, 0.644178032875061], 'val_loss': [78.77180480957031, 318.6425476074219, 592.1868286132812, 736.2166137695312, 759.270263671875, 771.424560546875, 763.7286376953125, 765.9778442382812, 771.7359008789062, 775.02392578125], 'val_accuracy': [0.11533333361148834, 0.12075000256299973, 0.20333333313465118, 0.29216668009757996, 0.36116665601730347, 0.38716667890548706, 0.41233333945274353, 0.4208333194255829, 0.43158334493637085, 0.437416672706604], 'val_f1_m': [0.11535723507404327, 0.12085627764463425, 0.20346929132938385, 0.2922801077365875, 0.36129841208457947, 0.3872886002063751, 0.4124952256679535, 0.420972615480423, 0.43171778321266174, 0.4375118613243103], 'val_precision_m': [0.11536738276481628, 0.12085628509521484, 0.20346932113170624, 0.2922801077365875, 0.36129847168922424, 0.3872886300086975, 0.4124952554702759, 0.42097267508506775, 0.43171781301498413, 0.4375118911266327], 'val_recall_m': [0.11534716933965683, 0.12085628509521484, 0.20346932113170624, 0.2922801077365875, 0.36129847168922424, 0.3872886300086975, 0.4124952554702759, 0.42097267508506775, 0.43171781301498413, 0.4375118911266327]}\n"
          ]
        },
        {
          "output_type": "display_data",
          "data": {
            "image/png": "[encoded data removed]",
            "text/plain": [
              "<Figure size 432x288 with 1 Axes>"
            ]
          },
          "metadata": {
            "needs_background": "light"
          }
        },
        {
          "output_type": "display_data",
          "data": {
            "image/png": "[encoded data removed]",
            "text/plain": [
              "<Figure size 432x288 with 1 Axes>"
            ]
          },
          "metadata": {
            "needs_background": "light"
          }
        }
      ]
    },
    {
      "cell_type": "markdown",
      "metadata": {
        "id": "AICzAw4YUru9"
      },
      "source": [
        "### 3º Modelo - Dropout + MaxPooling\n",
        "\n",
        "Añadimos Dropout al modelo y lo completamos todavía más con capas del estilo Max Pooling\n",
        "\n",
        "\n",
        "El droput es una técnica utilizada para evitar el overfitting. Funciona estableciendo aleatoriamente los bordes de salida de las unidades ocultas (neuronas que componen las capas ocultas) a 0 en cada actualización de la fase de entrenamiento. \n",
        "\n",
        "(https://towardsdatascience.com/machine-learning-part-20-dropout-keras-layers-explained-8c9f6dc4c9ab) "
      ]
    },
    {
      "cell_type": "code",
      "metadata": {
        "id": "iRq5v4EfD1pW"
      },
      "source": [
        "model3 = Sequential()\n",
        "\n",
        "model3.add(Conv2D(32, kernel_size=3, activation='relu', padding='same', input_shape=input_shape))\n",
        "model3.add(BatchNormalization())\n",
        "model3.add(Conv2D(32, kernel_size=3, activation='relu', padding='same'))\n",
        "model3.add(BatchNormalization())\n",
        "\n",
        "model3.add(MaxPooling2D())\n",
        "model3.add(Dropout(0.4))\n",
        "model3.add(Conv2D(64, kernel_size=3, activation='relu', padding='same'))\n",
        "model3.add(BatchNormalization())\n",
        "\n",
        "model3.add(Conv2D(64, kernel_size=3, activation='relu', padding='same'))\n",
        "model3.add(BatchNormalization())\n",
        "model3.add(MaxPooling2D())\n",
        "model3.add(Dropout(0.3))\n",
        "\n",
        "model3.add(Conv2D(128, kernel_size=3, activation='relu', padding='same'))\n",
        "model3.add(BatchNormalization())\n",
        "model3.add(Conv2D(128, kernel_size=3, activation='relu', padding='same'))\n",
        "model3.add(BatchNormalization())\n",
        "model3.add(MaxPooling2D())\n",
        "model3.add(Dropout(0.2))\n",
        "\n",
        "model3.add(Flatten())\n",
        "model3.add(Dense(128, activation='relu'))\n",
        "model3.add(BatchNormalization())\n",
        "model3.add(Dropout(0.1))\n",
        "model3.add(Dense(10, activation='softmax'))\n",
        "\n",
        "\n"
      ],
      "execution_count": null,
      "outputs": []
    },
    {
      "cell_type": "code",
      "metadata": {
        "id": "49p9R-d-WmtP"
      },
      "source": [
        "\n",
        "model3.compile(loss=keras.losses.categorical_crossentropy,\n",
        "              optimizer=tf.keras.optimizers.Adadelta(),\n",
        "              metrics=['accuracy',f1_m,precision_m, recall_m])"
      ],
      "execution_count": null,
      "outputs": []
    },
    {
      "cell_type": "code",
      "metadata": {
        "colab": {
          "base_uri": "https://localhost:8080/"
        },
        "id": "c7KJXAlaWprZ",
        "outputId": "26a5a0ef-3408-40b3-bbf3-ac15dff3c5f0"
      },
      "source": [
        "print(model3.summary())"
      ],
      "execution_count": null,
      "outputs": [
        {
          "output_type": "stream",
          "name": "stdout",
          "text": [
            "Model: \"sequential_2\"\n",
            "_________________________________________________________________\n",
            " Layer (type)                Output Shape              Param #   \n",
            "=================================================================\n",
            " conv2d_8 (Conv2D)           (None, 28, 28, 32)        320       \n",
            "                                                                 \n",
            " batch_normalization_4 (Batc  (None, 28, 28, 32)       128       \n",
            " hNormalization)                                                 \n",
            "                                                                 \n",
            " conv2d_9 (Conv2D)           (None, 28, 28, 32)        9248      \n",
            "                                                                 \n",
            " batch_normalization_5 (Batc  (None, 28, 28, 32)       128       \n",
            " hNormalization)                                                 \n",
            "                                                                 \n",
            " max_pooling2d_1 (MaxPooling  (None, 14, 14, 32)       0         \n",
            " 2D)                                                             \n",
            "                                                                 \n",
            " dropout_3 (Dropout)         (None, 14, 14, 32)        0         \n",
            "                                                                 \n",
            " conv2d_10 (Conv2D)          (None, 14, 14, 64)        18496     \n",
            "                                                                 \n",
            " batch_normalization_6 (Batc  (None, 14, 14, 64)       256       \n",
            " hNormalization)                                                 \n",
            "                                                                 \n",
            " conv2d_11 (Conv2D)          (None, 14, 14, 64)        36928     \n",
            "                                                                 \n",
            " batch_normalization_7 (Batc  (None, 14, 14, 64)       256       \n",
            " hNormalization)                                                 \n",
            "                                                                 \n",
            " max_pooling2d_2 (MaxPooling  (None, 7, 7, 64)         0         \n",
            " 2D)                                                             \n",
            "                                                                 \n",
            " dropout_4 (Dropout)         (None, 7, 7, 64)          0         \n",
            "                                                                 \n",
            " conv2d_12 (Conv2D)          (None, 7, 7, 128)         73856     \n",
            "                                                                 \n",
            " batch_normalization_8 (Batc  (None, 7, 7, 128)        512       \n",
            " hNormalization)                                                 \n",
            "                                                                 \n",
            " conv2d_13 (Conv2D)          (None, 7, 7, 128)         147584    \n",
            "                                                                 \n",
            " batch_normalization_9 (Batc  (None, 7, 7, 128)        512       \n",
            " hNormalization)                                                 \n",
            "                                                                 \n",
            " max_pooling2d_3 (MaxPooling  (None, 3, 3, 128)        0         \n",
            " 2D)                                                             \n",
            "                                                                 \n",
            " dropout_5 (Dropout)         (None, 3, 3, 128)         0         \n",
            "                                                                 \n",
            " flatten_2 (Flatten)         (None, 1152)              0         \n",
            "                                                                 \n",
            " dense_4 (Dense)             (None, 128)               147584    \n",
            "                                                                 \n",
            " batch_normalization_10 (Bat  (None, 128)              512       \n",
            " chNormalization)                                                \n",
            "                                                                 \n",
            " dropout_6 (Dropout)         (None, 128)               0         \n",
            "                                                                 \n",
            " dense_5 (Dense)             (None, 10)                1290      \n",
            "                                                                 \n",
            "=================================================================\n",
            "Total params: 437,610\n",
            "Trainable params: 436,458\n",
            "Non-trainable params: 1,152\n",
            "_________________________________________________________________\n",
            "None\n"
          ]
        }
      ]
    },
    {
      "cell_type": "code",
      "metadata": {
        "colab": {
          "base_uri": "https://localhost:8080/"
        },
        "id": "ma6clpClWqxe",
        "outputId": "9b679138-ad1c-40f1-d751-12d5f3fa6e1c"
      },
      "source": [
        "batch_size = 128\n",
        "epochs = 10\n",
        "\n",
        "history3 = model3.fit(x_train, y_train,\n",
        "          batch_size=batch_size,\n",
        "          epochs=epochs,\n",
        "          verbose=1,\n",
        "          validation_data=(x_val, y_val))"
      ],
      "execution_count": null,
      "outputs": [
        {
          "output_type": "stream",
          "name": "stdout",
          "text": [
            "Epoch 1/10\n",
            "375/375 [==============================] - 16s 37ms/step - loss: 2.8919 - accuracy: 0.1278 - f1_m: 0.0535 - precision_m: 0.1372 - recall_m: 0.0334 - val_loss: 69.4140 - val_accuracy: 0.1245 - val_f1_m: 0.1246 - val_precision_m: 0.1247 - val_recall_m: 0.1246\n",
            "Epoch 2/10\n",
            "375/375 [==============================] - 13s 36ms/step - loss: 2.6030 - accuracy: 0.1791 - f1_m: 0.0881 - precision_m: 0.2228 - recall_m: 0.0552 - val_loss: 165.8212 - val_accuracy: 0.2103 - val_f1_m: 0.2104 - val_precision_m: 0.2104 - val_recall_m: 0.2104\n",
            "Epoch 3/10\n",
            "375/375 [==============================] - 14s 36ms/step - loss: 2.3772 - accuracy: 0.2304 - f1_m: 0.1279 - precision_m: 0.3048 - recall_m: 0.0813 - val_loss: 169.0849 - val_accuracy: 0.2544 - val_f1_m: 0.2546 - val_precision_m: 0.2546 - val_recall_m: 0.2546\n",
            "Epoch 4/10\n",
            "375/375 [==============================] - 13s 35ms/step - loss: 2.1839 - accuracy: 0.2766 - f1_m: 0.1771 - precision_m: 0.3869 - recall_m: 0.1154 - val_loss: 169.0160 - val_accuracy: 0.2895 - val_f1_m: 0.2896 - val_precision_m: 0.2896 - val_recall_m: 0.2896\n",
            "Epoch 5/10\n",
            "375/375 [==============================] - 13s 35ms/step - loss: 2.0244 - accuracy: 0.3242 - f1_m: 0.2267 - precision_m: 0.4502 - recall_m: 0.1521 - val_loss: 172.4240 - val_accuracy: 0.3037 - val_f1_m: 0.3038 - val_precision_m: 0.3038 - val_recall_m: 0.3038\n",
            "Epoch 6/10\n",
            "375/375 [==============================] - 13s 36ms/step - loss: 1.8892 - accuracy: 0.3658 - f1_m: 0.2736 - precision_m: 0.5023 - recall_m: 0.1887 - val_loss: 172.5448 - val_accuracy: 0.3225 - val_f1_m: 0.3226 - val_precision_m: 0.3226 - val_recall_m: 0.3226\n",
            "Epoch 7/10\n",
            "375/375 [==============================] - 13s 36ms/step - loss: 1.7748 - accuracy: 0.4013 - f1_m: 0.3195 - precision_m: 0.5502 - recall_m: 0.2259 - val_loss: 175.7671 - val_accuracy: 0.3320 - val_f1_m: 0.3321 - val_precision_m: 0.3321 - val_recall_m: 0.3321\n",
            "Epoch 8/10\n",
            "375/375 [==============================] - 13s 36ms/step - loss: 1.6808 - accuracy: 0.4317 - f1_m: 0.3543 - precision_m: 0.5759 - recall_m: 0.2565 - val_loss: 178.8798 - val_accuracy: 0.3408 - val_f1_m: 0.3410 - val_precision_m: 0.3410 - val_recall_m: 0.3410\n",
            "Epoch 9/10\n",
            "375/375 [==============================] - 13s 36ms/step - loss: 1.5903 - accuracy: 0.4626 - f1_m: 0.3959 - precision_m: 0.6126 - recall_m: 0.2932 - val_loss: 174.0052 - val_accuracy: 0.3580 - val_f1_m: 0.3581 - val_precision_m: 0.3581 - val_recall_m: 0.3581\n",
            "Epoch 10/10\n",
            "375/375 [==============================] - 13s 36ms/step - loss: 1.5107 - accuracy: 0.4853 - f1_m: 0.4234 - precision_m: 0.6282 - recall_m: 0.3201 - val_loss: 174.5935 - val_accuracy: 0.3711 - val_f1_m: 0.3711 - val_precision_m: 0.3711 - val_recall_m: 0.3711\n"
          ]
        }
      ]
    },
    {
      "cell_type": "code",
      "metadata": {
        "colab": {
          "base_uri": "https://localhost:8080/"
        },
        "id": "XD1rSUtfld7a",
        "outputId": "63a3ad00-5aa8-4e7b-89fa-5170e4e829f6"
      },
      "source": [
        "# evaluate the model\n",
        "loss, accuracy, f1_score, precision, recall = model3.evaluate(x_test, y_test, verbose=0)\n",
        "print('Test loss:',loss)\n",
        "print('Test accuracy:', accuracy)\n",
        "print('Test f1_score:', f1_score)\n",
        "print('Test precision:', precision)\n",
        "print('Test recall:', recall)"
      ],
      "execution_count": null,
      "outputs": [
        {
          "output_type": "stream",
          "name": "stdout",
          "text": [
            "Test loss: 1.3080830574035645\n",
            "Test accuracy: 0.545199990272522\n",
            "Test f1_score: 0.44146251678466797\n",
            "Test precision: 0.7658759951591492\n",
            "Test recall: 0.31409743428230286\n"
          ]
        }
      ]
    },
    {
      "cell_type": "code",
      "metadata": {
        "colab": {
          "base_uri": "https://localhost:8080/",
          "height": 608
        },
        "id": "tUiMnMKZlgnf",
        "outputId": "3ed73a0c-3a4c-40ce-b4c4-5fc6362d2689"
      },
      "source": [
        "history = history3.history\n",
        "\n",
        "print (history)\n",
        "plt.plot(history['accuracy'])\n",
        "plt.plot(history['val_accuracy'])\n",
        "plt.title('model accuracy')\n",
        "plt.ylabel('accuracy')\n",
        "plt.xlabel('epoch')\n",
        "plt.legend(['train', 'val'], loc='upper left')\n",
        "plt.show()\n",
        "\n",
        "plt.plot(history['loss'])\n",
        "plt.plot(history['val_loss'])\n",
        "plt.title('model loss')\n",
        "plt.ylabel('loss')\n",
        "plt.xlabel('epoch')\n",
        "plt.yscale(\"log\")\n",
        "plt.legend(['train', 'val'], loc='upper left')\n",
        "plt.show()"
      ],
      "execution_count": null,
      "outputs": [
        {
          "output_type": "stream",
          "name": "stdout",
          "text": [
            "{'loss': [2.8918511867523193, 2.602994203567505, 2.3771603107452393, 2.183881998062134, 2.0243897438049316, 1.8891944885253906, 1.7747851610183716, 1.6807934045791626, 1.5902888774871826, 1.5107218027114868], 'accuracy': [0.1277708262205124, 0.17906250059604645, 0.2304375022649765, 0.27664583921432495, 0.3242291808128357, 0.3657916784286499, 0.4013333320617676, 0.43174999952316284, 0.4626041650772095, 0.48527082800865173], 'f1_m': [0.05349263548851013, 0.08813189715147018, 0.12791171669960022, 0.17714820802211761, 0.22667990624904633, 0.2735942304134369, 0.31952613592147827, 0.3542684018611908, 0.39593741297721863, 0.42341044545173645], 'precision_m': [0.1371752917766571, 0.2228420376777649, 0.3047664761543274, 0.3868613541126251, 0.4502066969871521, 0.5023325085639954, 0.5501571297645569, 0.5758812427520752, 0.6126072406768799, 0.6282468438148499], 'recall_m': [0.03337499871850014, 0.05518750101327896, 0.08129166811704636, 0.11537499725818634, 0.15210416913032532, 0.1887291669845581, 0.22585417330265045, 0.2565416693687439, 0.2932083308696747, 0.3200624883174896], 'val_loss': [69.41400909423828, 165.82119750976562, 169.08489990234375, 169.01600646972656, 172.4240264892578, 172.54481506347656, 175.76705932617188, 178.87977600097656, 174.00518798828125, 174.59352111816406], 'val_accuracy': [0.12449999898672104, 0.21025000512599945, 0.25441667437553406, 0.28949999809265137, 0.3036666810512543, 0.32249999046325684, 0.3319999873638153, 0.3408333361148834, 0.3580000102519989, 0.3710833191871643], 'val_f1_m': [0.12462615221738815, 0.21042513847351074, 0.2546265423297882, 0.2896442711353302, 0.30377325415611267, 0.3226396143436432, 0.33214202523231506, 0.3409518897533417, 0.3580728769302368, 0.37114909291267395], 'val_precision_m': [0.12469613552093506, 0.2104392796754837, 0.2546265721321106, 0.2896442711353302, 0.30377328395843506, 0.3226396143436432, 0.33214205503463745, 0.34095191955566406, 0.3580729365348816, 0.3711491525173187], 'val_recall_m': [0.12455673515796661, 0.21041113138198853, 0.2546265721321106, 0.2896442711353302, 0.30377328395843506, 0.3226396143436432, 0.33214205503463745, 0.34095191955566406, 0.3580729365348816, 0.3711491525173187]}\n"
          ]
        },
        {
          "output_type": "display_data",
          "data": {
            "image/png": "[encoded data removed]",
            "text/plain": [
              "<Figure size 432x288 with 1 Axes>"
            ]
          },
          "metadata": {
            "needs_background": "light"
          }
        },
        {
          "output_type": "display_data",
          "data": {
            "image/png": "[encoded data removed]",
            "text/plain": [
              "<Figure size 432x288 with 1 Axes>"
            ]
          },
          "metadata": {
            "needs_background": "light"
          }
        }
      ]
    },
    {
      "cell_type": "markdown",
      "metadata": {
        "id": "JcuJ6WfLnClh"
      },
      "source": [
        "### 4º Modelo -  usando una métrica diferente a relu "
      ]
    },
    {
      "cell_type": "markdown",
      "metadata": {
        "id": "RomwH_vd-bUn"
      },
      "source": [
        "Hay distintas funciones de activación https://www.tensorflow.org/api_docs/python/tf/keras/activations en este enlace podemos ver algunas de ellas. \n",
        "\n",
        "Utilizan distintas formulas por ejemplo sigmoid tiene la siguiente --> Sigmoid activation function, sigmoid(x) = 1 / (1 + exp(-x))."
      ]
    },
    {
      "cell_type": "code",
      "metadata": {
        "id": "OItzDjcVl6ji"
      },
      "source": [
        "model4 = Sequential()\n",
        "\n",
        "model4.add(Conv2D(16, kernel_size=3, activation='sigmoid', padding='same', input_shape=input_shape))\n",
        "model4.add(BatchNormalization())\n",
        "model4.add(Conv2D(16, kernel_size=3, activation='sigmoid', padding='same'))\n",
        "\n",
        "\n",
        "model4.add(MaxPooling2D())\n",
        "model4.add(Dropout(0.5))\n",
        "model4.add(Conv2D(32, kernel_size=3, activation='sigmoid', padding='same'))\n",
        "\n",
        "\n",
        "model4.add(Conv2D(64, kernel_size=3, activation='sigmoid', padding='same'))\n",
        "model4.add(BatchNormalization())\n",
        "model4.add(MaxPooling2D())\n",
        "model4.add(Dropout(0.4))\n",
        "\n",
        "model4.add(Conv2D(128, kernel_size=3, activation='sigmoid', padding='same'))\n",
        "model4.add(BatchNormalization())\n",
        "model4.add(Conv2D(256, kernel_size=3, activation='sigmoid', padding='same'))\n",
        "\n",
        "model4.add(MaxPooling2D())\n",
        "model.add(Dropout(0.3))\n",
        "\n",
        "model4.add(Flatten())\n",
        "model4.add(Dense(256, activation='sigmoid'))\n",
        "model4.add(BatchNormalization())\n",
        "model4.add(Dropout(0.4))\n",
        "model4.add(Dense(10, activation='softmax'))\n",
        "\n",
        "\n"
      ],
      "execution_count": null,
      "outputs": []
    },
    {
      "cell_type": "code",
      "metadata": {
        "id": "_JKC4-8A0QeC"
      },
      "source": [
        "model42 = Sequential()\n",
        "\n",
        "model42.add(Conv2D(32, kernel_size=(3, 3), strides = 1, activation='sigmoid', input_shape=input_shape))\n",
        "model42.add(Conv2D(64, (3, 3), activation='sigmoid'))\n",
        "\n",
        "model42.add(Conv2D(64,  kernel_size=(3,3), strides = 1, activation='sigmoid', input_shape=(32, 32, 3)))\n",
        "model42.add(BatchNormalization())\n",
        "model42.add(Conv2D(64, (3, 3), activation='sigmoid'))\n",
        "model42.add(BatchNormalization())\n",
        "\n",
        "model42.add(Conv2D(128, kernel_size=(3,3),strides = 1, activation='sigmoid', input_shape=(32, 32, 3)))\n",
        "model42.add(BatchNormalization())\n",
        "model42.add(Conv2D(64, (3, 3), activation='sigmoid'))\n",
        "model42.add(BatchNormalization())\n",
        "\n",
        "model42.add(Flatten())\n",
        "model42.add(Dense(128, activation='sigmoid'))\n",
        "model42.add(Dropout(0.5))\n",
        "model42.add(Dense(num_classes, activation='softmax'))"
      ],
      "execution_count": null,
      "outputs": []
    },
    {
      "cell_type": "code",
      "metadata": {
        "id": "aa154uma5I_a"
      },
      "source": [
        "model4.compile(loss=keras.losses.categorical_crossentropy,\n",
        "              optimizer=tf.keras.optimizers.Adam(),\n",
        "              metrics=['accuracy',f1_m,precision_m, recall_m])"
      ],
      "execution_count": null,
      "outputs": []
    },
    {
      "cell_type": "code",
      "metadata": {
        "id": "FD5QKEP20YRB"
      },
      "source": [
        "model42.compile(loss=keras.losses.categorical_crossentropy,\n",
        "              optimizer=tf.keras.optimizers.Adam(),\n",
        "              metrics=['accuracy',f1_m,precision_m, recall_m])"
      ],
      "execution_count": null,
      "outputs": []
    },
    {
      "cell_type": "code",
      "metadata": {
        "colab": {
          "base_uri": "https://localhost:8080/"
        },
        "id": "AL2p6cwz5JfB",
        "outputId": "590beef9-4a49-4f5a-e217-82aeb42125b6"
      },
      "source": [
        "print(model4.summary())"
      ],
      "execution_count": null,
      "outputs": [
        {
          "output_type": "stream",
          "name": "stdout",
          "text": [
            "Model: \"sequential_3\"\n",
            "_________________________________________________________________\n",
            " Layer (type)                Output Shape              Param #   \n",
            "=================================================================\n",
            " conv2d_14 (Conv2D)          (None, 28, 28, 16)        160       \n",
            "                                                                 \n",
            " batch_normalization_11 (Bat  (None, 28, 28, 16)       64        \n",
            " chNormalization)                                                \n",
            "                                                                 \n",
            " conv2d_15 (Conv2D)          (None, 28, 28, 16)        2320      \n",
            "                                                                 \n",
            " max_pooling2d_4 (MaxPooling  (None, 14, 14, 16)       0         \n",
            " 2D)                                                             \n",
            "                                                                 \n",
            " dropout_7 (Dropout)         (None, 14, 14, 16)        0         \n",
            "                                                                 \n",
            " conv2d_16 (Conv2D)          (None, 14, 14, 32)        4640      \n",
            "                                                                 \n",
            " conv2d_17 (Conv2D)          (None, 14, 14, 64)        18496     \n",
            "                                                                 \n",
            " batch_normalization_12 (Bat  (None, 14, 14, 64)       256       \n",
            " chNormalization)                                                \n",
            "                                                                 \n",
            " max_pooling2d_5 (MaxPooling  (None, 7, 7, 64)         0         \n",
            " 2D)                                                             \n",
            "                                                                 \n",
            " dropout_8 (Dropout)         (None, 7, 7, 64)          0         \n",
            "                                                                 \n",
            " conv2d_18 (Conv2D)          (None, 7, 7, 128)         73856     \n",
            "                                                                 \n",
            " batch_normalization_13 (Bat  (None, 7, 7, 128)        512       \n",
            " chNormalization)                                                \n",
            "                                                                 \n",
            " conv2d_19 (Conv2D)          (None, 7, 7, 256)         295168    \n",
            "                                                                 \n",
            " max_pooling2d_6 (MaxPooling  (None, 3, 3, 256)        0         \n",
            " 2D)                                                             \n",
            "                                                                 \n",
            " flatten_3 (Flatten)         (None, 2304)              0         \n",
            "                                                                 \n",
            " dense_6 (Dense)             (None, 256)               590080    \n",
            "                                                                 \n",
            " batch_normalization_14 (Bat  (None, 256)              1024      \n",
            " chNormalization)                                                \n",
            "                                                                 \n",
            " dropout_10 (Dropout)        (None, 256)               0         \n",
            "                                                                 \n",
            " dense_7 (Dense)             (None, 10)                2570      \n",
            "                                                                 \n",
            "=================================================================\n",
            "Total params: 989,146\n",
            "Trainable params: 988,218\n",
            "Non-trainable params: 928\n",
            "_________________________________________________________________\n",
            "None\n"
          ]
        }
      ]
    },
    {
      "cell_type": "code",
      "metadata": {
        "colab": {
          "base_uri": "https://localhost:8080/"
        },
        "id": "FD0Tke386EVB",
        "outputId": "487902a6-a85a-465a-8c91-2a23851b64ba"
      },
      "source": [
        "batch_size = 256\n",
        "epochs = 10\n",
        "\n",
        "history4 = model4.fit(x_train, y_train,\n",
        "          batch_size=batch_size,\n",
        "          epochs=epochs,\n",
        "          verbose=1,\n",
        "          validation_data=(x_val, y_val))"
      ],
      "execution_count": null,
      "outputs": [
        {
          "output_type": "stream",
          "name": "stdout",
          "text": [
            "Epoch 1/10\n",
            "188/188 [==============================] - 11s 47ms/step - loss: 0.7538 - accuracy: 0.7226 - f1_m: 0.7130 - precision_m: 0.7943 - recall_m: 0.6513 - val_loss: 2.3996 - val_accuracy: 0.1753 - val_f1_m: 0.0000e+00 - val_precision_m: 0.0000e+00 - val_recall_m: 0.0000e+00\n",
            "Epoch 2/10\n",
            "188/188 [==============================] - 8s 43ms/step - loss: 0.4842 - accuracy: 0.8216 - f1_m: 0.8189 - precision_m: 0.8605 - recall_m: 0.7814 - val_loss: 0.9657 - val_accuracy: 0.6776 - val_f1_m: 0.6333 - val_precision_m: 0.8594 - val_recall_m: 0.5020\n",
            "Epoch 3/10\n",
            "188/188 [==============================] - 8s 43ms/step - loss: 0.4061 - accuracy: 0.8496 - f1_m: 0.8504 - precision_m: 0.8806 - recall_m: 0.8222 - val_loss: 0.8089 - val_accuracy: 0.7290 - val_f1_m: 0.7292 - val_precision_m: 0.7971 - val_recall_m: 0.6722\n",
            "Epoch 4/10\n",
            "188/188 [==============================] - 8s 43ms/step - loss: 0.3665 - accuracy: 0.8656 - f1_m: 0.8660 - precision_m: 0.8926 - recall_m: 0.8409 - val_loss: 1.2335 - val_accuracy: 0.6214 - val_f1_m: 0.6202 - val_precision_m: 0.6648 - val_recall_m: 0.5813\n",
            "Epoch 5/10\n",
            "188/188 [==============================] - 8s 43ms/step - loss: 0.3413 - accuracy: 0.8758 - f1_m: 0.8750 - precision_m: 0.8982 - recall_m: 0.8530 - val_loss: 1.6517 - val_accuracy: 0.5233 - val_f1_m: 0.5220 - val_precision_m: 0.5558 - val_recall_m: 0.4922\n",
            "Epoch 6/10\n",
            "188/188 [==============================] - 8s 43ms/step - loss: 0.3225 - accuracy: 0.8827 - f1_m: 0.8819 - precision_m: 0.9035 - recall_m: 0.8614 - val_loss: 3.1159 - val_accuracy: 0.3906 - val_f1_m: 0.3917 - val_precision_m: 0.4065 - val_recall_m: 0.3780\n",
            "Epoch 7/10\n",
            "188/188 [==============================] - 8s 43ms/step - loss: 0.3035 - accuracy: 0.8898 - f1_m: 0.8897 - precision_m: 0.9096 - recall_m: 0.8707 - val_loss: 1.8444 - val_accuracy: 0.6264 - val_f1_m: 0.6237 - val_precision_m: 0.6446 - val_recall_m: 0.6041\n",
            "Epoch 8/10\n",
            "188/188 [==============================] - 8s 43ms/step - loss: 0.2895 - accuracy: 0.8939 - f1_m: 0.8942 - precision_m: 0.9132 - recall_m: 0.8762 - val_loss: 1.9430 - val_accuracy: 0.5455 - val_f1_m: 0.5373 - val_precision_m: 0.5554 - val_recall_m: 0.5204\n",
            "Epoch 9/10\n",
            "188/188 [==============================] - 8s 43ms/step - loss: 0.2783 - accuracy: 0.8997 - f1_m: 0.9003 - precision_m: 0.9182 - recall_m: 0.8832 - val_loss: 3.9481 - val_accuracy: 0.2713 - val_f1_m: 0.2744 - val_precision_m: 0.2866 - val_recall_m: 0.2631\n",
            "Epoch 10/10\n",
            "188/188 [==============================] - 8s 43ms/step - loss: 0.2739 - accuracy: 0.9003 - f1_m: 0.9010 - precision_m: 0.9178 - recall_m: 0.8848 - val_loss: 1.7952 - val_accuracy: 0.5283 - val_f1_m: 0.5454 - val_precision_m: 0.5920 - val_recall_m: 0.5058\n"
          ]
        }
      ]
    },
    {
      "cell_type": "code",
      "metadata": {
        "colab": {
          "base_uri": "https://localhost:8080/"
        },
        "id": "WnJNLGtl0hMC",
        "outputId": "239658ac-49f6-4343-8451-573d96c5f46f"
      },
      "source": [
        "batch_size = 256\n",
        "epochs = 10\n",
        "\n",
        "history42 = model42.fit(x_train, y_train,\n",
        "          batch_size=batch_size,\n",
        "          epochs=epochs,\n",
        "          verbose=1,\n",
        "          validation_data=(x_val, y_val))"
      ],
      "execution_count": null,
      "outputs": [
        {
          "output_type": "stream",
          "name": "stdout",
          "text": [
            "Epoch 1/10\n",
            "188/188 [==============================] - 23s 111ms/step - loss: 0.7022 - accuracy: 0.7549 - f1_m: 0.7455 - precision_m: 0.8328 - recall_m: 0.6765 - val_loss: 2.8051 - val_accuracy: 0.1025 - val_f1_m: 0.1029 - val_precision_m: 0.1055 - val_recall_m: 0.1004\n",
            "Epoch 2/10\n",
            "188/188 [==============================] - 19s 101ms/step - loss: 0.5187 - accuracy: 0.8194 - f1_m: 0.8149 - precision_m: 0.8705 - recall_m: 0.7664 - val_loss: 0.7155 - val_accuracy: 0.7612 - val_f1_m: 0.7581 - val_precision_m: 0.8399 - val_recall_m: 0.6911\n",
            "Epoch 3/10\n",
            "188/188 [==============================] - 20s 107ms/step - loss: 0.4623 - accuracy: 0.8384 - f1_m: 0.8362 - precision_m: 0.8800 - recall_m: 0.7967 - val_loss: 0.5555 - val_accuracy: 0.8029 - val_f1_m: 0.7991 - val_precision_m: 0.8571 - val_recall_m: 0.7487\n",
            "Epoch 4/10\n",
            "188/188 [==============================] - 19s 101ms/step - loss: 0.4212 - accuracy: 0.8531 - f1_m: 0.8510 - precision_m: 0.8866 - recall_m: 0.8183 - val_loss: 0.6061 - val_accuracy: 0.7781 - val_f1_m: 0.7728 - val_precision_m: 0.8290 - val_recall_m: 0.7239\n",
            "Epoch 5/10\n",
            "188/188 [==============================] - 19s 101ms/step - loss: 0.3894 - accuracy: 0.8646 - f1_m: 0.8636 - precision_m: 0.8936 - recall_m: 0.8356 - val_loss: 0.5454 - val_accuracy: 0.7962 - val_f1_m: 0.7944 - val_precision_m: 0.8375 - val_recall_m: 0.7556\n",
            "Epoch 6/10\n",
            "188/188 [==============================] - 19s 101ms/step - loss: 0.3670 - accuracy: 0.8714 - f1_m: 0.8710 - precision_m: 0.8974 - recall_m: 0.8462 - val_loss: 0.7290 - val_accuracy: 0.7418 - val_f1_m: 0.7333 - val_precision_m: 0.7980 - val_recall_m: 0.6784\n",
            "Epoch 7/10\n",
            "188/188 [==============================] - 19s 101ms/step - loss: 0.3467 - accuracy: 0.8773 - f1_m: 0.8774 - precision_m: 0.9018 - recall_m: 0.8543 - val_loss: 0.6642 - val_accuracy: 0.7600 - val_f1_m: 0.7540 - val_precision_m: 0.8055 - val_recall_m: 0.7090\n",
            "Epoch 8/10\n",
            "188/188 [==============================] - 19s 101ms/step - loss: 0.3354 - accuracy: 0.8829 - f1_m: 0.8829 - precision_m: 0.9060 - recall_m: 0.8611 - val_loss: 0.5902 - val_accuracy: 0.7883 - val_f1_m: 0.7873 - val_precision_m: 0.8228 - val_recall_m: 0.7548\n",
            "Epoch 9/10\n",
            "188/188 [==============================] - 19s 101ms/step - loss: 0.3176 - accuracy: 0.8869 - f1_m: 0.8884 - precision_m: 0.9102 - recall_m: 0.8677 - val_loss: 0.4902 - val_accuracy: 0.8225 - val_f1_m: 0.8244 - val_precision_m: 0.8645 - val_recall_m: 0.7880\n",
            "Epoch 10/10\n",
            "188/188 [==============================] - 19s 101ms/step - loss: 0.3004 - accuracy: 0.8952 - f1_m: 0.8953 - precision_m: 0.9141 - recall_m: 0.8774 - val_loss: 0.5657 - val_accuracy: 0.8028 - val_f1_m: 0.8032 - val_precision_m: 0.8348 - val_recall_m: 0.7740\n"
          ]
        }
      ]
    },
    {
      "cell_type": "code",
      "metadata": {
        "colab": {
          "base_uri": "https://localhost:8080/"
        },
        "id": "_schLcW86I8Q",
        "outputId": "2764f6a5-d44d-489c-98f7-9a8072031060"
      },
      "source": [
        "# evaluate the model\n",
        "loss, accuracy, f1_score, precision, recall = model4.evaluate(x_test, y_test, verbose=0)\n",
        "print('Test loss:',loss)\n",
        "print('Test accuracy:', accuracy)\n",
        "print('Test f1_score:', f1_score)\n",
        "print('Test precision:', precision)\n",
        "print('Test recall:', recall)"
      ],
      "execution_count": null,
      "outputs": [
        {
          "output_type": "stream",
          "name": "stdout",
          "text": [
            "Test loss: 1.0693368911743164\n",
            "Test accuracy: 0.7411999702453613\n",
            "Test f1_score: 0.7434034943580627\n",
            "Test precision: 0.7578054070472717\n",
            "Test recall: 0.7299321293830872\n"
          ]
        }
      ]
    },
    {
      "cell_type": "code",
      "metadata": {
        "colab": {
          "base_uri": "https://localhost:8080/"
        },
        "id": "d3B_AyA20jDU",
        "outputId": "7ef96ea1-26df-41b2-9854-d922f6e05692"
      },
      "source": [
        "# evaluate the model\n",
        "loss, accuracy, f1_score, precision, recall = model42.evaluate(x_test, y_test, verbose=0)\n",
        "print('Test loss:',loss)\n",
        "print('Test accuracy:', accuracy)\n",
        "print('Test f1_score:', f1_score)\n",
        "print('Test precision:', precision)\n",
        "print('Test recall:', recall)"
      ],
      "execution_count": null,
      "outputs": [
        {
          "output_type": "stream",
          "name": "stdout",
          "text": [
            "Test loss: 8.221040725708008\n",
            "Test accuracy: 0.10000000149011612\n",
            "Test f1_score: 0.10013976693153381\n",
            "Test precision: 0.10013977438211441\n",
            "Test recall: 0.10013977438211441\n"
          ]
        }
      ]
    },
    {
      "cell_type": "markdown",
      "metadata": {
        "id": "xcHnSLCp1d0R"
      },
      "source": [
        "**Conclusión** obtenida al comparar los resutlados del modelo 2 y 3 (función RELU) con el 4 y el 42 (función SIGMOID)\n",
        "\n",
        "-\n",
        "\n",
        "Estos resultados indican que el problema puede estar en la función de activación. Ambos modelos empeoran los resultados obtenidos en el 2 y el 3 si los replicamos usando otra función de activación. \n",
        "\n",
        "En estos casos concretos podemos decir que relu funciona mejor que sigmoid. Podría ser interesante repetir esta expermientación con un diversas funciones y hacer la comparativa total de resultados."
      ]
    },
    {
      "cell_type": "code",
      "metadata": {
        "colab": {
          "base_uri": "https://localhost:8080/",
          "height": 608
        },
        "id": "R1teAWBq6NWz",
        "outputId": "b5995b16-5d15-45e9-9d52-1dedde60368a"
      },
      "source": [
        "history = history4.history\n",
        "\n",
        "print (history)\n",
        "plt.plot(history['accuracy'])\n",
        "plt.plot(history['val_accuracy'])\n",
        "plt.title('model accuracy')\n",
        "plt.ylabel('accuracy')\n",
        "plt.xlabel('epoch')\n",
        "plt.legend(['train', 'val'], loc='upper left')\n",
        "plt.show()\n",
        "\n",
        "plt.plot(history['loss'])\n",
        "plt.plot(history['val_loss'])\n",
        "plt.title('model loss')\n",
        "plt.ylabel('loss')\n",
        "plt.xlabel('epoch')\n",
        "plt.yscale(\"log\")\n",
        "plt.legend(['train', 'val'], loc='upper left')\n",
        "plt.show()"
      ],
      "execution_count": null,
      "outputs": [
        {
          "output_type": "stream",
          "name": "stdout",
          "text": [
            "{'loss': [0.7538155913352966, 0.484150230884552, 0.40611040592193604, 0.3664926290512085, 0.34129130840301514, 0.32253697514533997, 0.3035147190093994, 0.28948265314102173, 0.27830708026885986, 0.2738892734050751], 'accuracy': [0.7225624918937683, 0.8216041922569275, 0.8496041893959045, 0.8655624985694885, 0.8757916688919067, 0.882687509059906, 0.8898333311080933, 0.8938541412353516, 0.8997083306312561, 0.9002500176429749], 'f1_m': [0.7129613161087036, 0.8189188241958618, 0.8503633141517639, 0.8659723401069641, 0.8749819993972778, 0.8818983435630798, 0.8896821737289429, 0.8942453265190125, 0.9003466963768005, 0.9009666442871094], 'precision_m': [0.7943241596221924, 0.8604985475540161, 0.8806356191635132, 0.892630934715271, 0.898182213306427, 0.9034690856933594, 0.9096251726150513, 0.9131749868392944, 0.9182474613189697, 0.9177669882774353], 'recall_m': [0.6513463854789734, 0.7813746929168701, 0.8222240805625916, 0.8409450054168701, 0.8530377149581909, 0.8614112138748169, 0.870678186416626, 0.8761635422706604, 0.8832072615623474, 0.8848279714584351], 'val_loss': [2.399611234664917, 0.9657410383224487, 0.8089145421981812, 1.2335245609283447, 1.6517060995101929, 3.1159095764160156, 1.84443998336792, 1.9429794549942017, 3.9481253623962402, 1.7952123880386353], 'val_accuracy': [0.17533333599567413, 0.6775833368301392, 0.7289999723434448, 0.6214166879653931, 0.5233333110809326, 0.390583336353302, 0.6264166831970215, 0.5454999804496765, 0.27133333683013916, 0.528333306312561], 'val_f1_m': [0.0, 0.6332690715789795, 0.7291795611381531, 0.6201612949371338, 0.5219863057136536, 0.3917136490345001, 0.6236681342124939, 0.5372852683067322, 0.2743528485298157, 0.5454121828079224], 'val_precision_m': [0.0, 0.8593853116035461, 0.7971377968788147, 0.6647800803184509, 0.555781900882721, 0.4065115451812744, 0.6445717215538025, 0.5554112792015076, 0.28664547204971313, 0.5919932723045349], 'val_recall_m': [0.0, 0.5020421743392944, 0.6721599698066711, 0.5812951326370239, 0.4921518564224243, 0.37800392508506775, 0.604138970375061, 0.5203742384910583, 0.26311978697776794, 0.505794107913971]}\n"
          ]
        },
        {
          "output_type": "display_data",
          "data": {
            "image/png": "[encoded data removed]",
            "text/plain": [
              "<Figure size 432x288 with 1 Axes>"
            ]
          },
          "metadata": {
            "needs_background": "light"
          }
        },
        {
          "output_type": "display_data",
          "data": {
            "image/png": "[encoded data removed]",
            "text/plain": [
              "<Figure size 432x288 with 1 Axes>"
            ]
          },
          "metadata": {
            "needs_background": "light"
          }
        }
      ]
    },
    {
      "cell_type": "markdown",
      "metadata": {
        "id": "3pS8JwGN2WOQ"
      },
      "source": [
        "## Arquitecturas "
      ]
    },
    {
      "cell_type": "markdown",
      "metadata": {
        "id": "rIcSmEbykl7f"
      },
      "source": [
        "### Cambios en x_test\n",
        "\n",
        "Para que todo funcione correctamente, a causa de unos errores que estaba teniendo me he dado cuenta que tenia que arreglar el shape de mis datos. Los datos tienen que tener 3 capas, al final tenemos que tener (28,28,3)\n",
        "\n",
        "\n"
      ]
    },
    {
      "cell_type": "code",
      "metadata": {
        "id": "sfz5TweFklaD"
      },
      "source": [
        "x_train_2 = (np.repeat((x_train/x_train.max()).astype(\"float32\")[..., np.newaxis],3,-1))[:,:,:,0]\n",
        "x_test_2 = (np.repeat((x_test/x_test.max()).astype(\"float32\")[..., np.newaxis],3,-1))[:,:,:,0]\n",
        "x_val_2 = (np.repeat((x_val/x_val.max()).astype(\"float32\")[..., np.newaxis],3,-1))[:,:,:,0] "
      ],
      "execution_count": null,
      "outputs": []
    },
    {
      "cell_type": "code",
      "metadata": {
        "colab": {
          "base_uri": "https://localhost:8080/"
        },
        "id": "dzFXOJ0Kk05h",
        "outputId": "b9d8fed2-0d26-457d-e01d-1cd496575fab"
      },
      "source": [
        "print('x_train.shape: {}, y_train.shape: {}'\n",
        "      .format(x_train.shape, y_train.shape))\n",
        "print('x_test shape: {}, y_test.shape: {}'.format(x_test.shape, y_test.shape))"
      ],
      "execution_count": null,
      "outputs": [
        {
          "output_type": "stream",
          "name": "stdout",
          "text": [
            "x_train.shape: (48000, 28, 28, 1), y_train.shape: (48000, 10)\n",
            "x_test shape: (10000, 28, 28, 1), y_test.shape: (10000, 10)\n"
          ]
        }
      ]
    },
    {
      "cell_type": "markdown",
      "metadata": {
        "id": "qTOu3Vi-SD5L"
      },
      "source": [
        "### 5º Modelo - MobileNet\n",
        "\n",
        "Se basan en una arquitectura racionalizada que utiliza convoluciones separables en profundidad para construir redes neuronales profundas de poco peso. "
      ]
    },
    {
      "cell_type": "code",
      "metadata": {
        "colab": {
          "base_uri": "https://localhost:8080/"
        },
        "id": "IRKMGLdiSDDY",
        "outputId": "9ef9b824-b1a1-4af7-d1f9-35f38a74dbff"
      },
      "source": [
        "input_image = Input(shape=(28, 28, 3))\n",
        "resized_image = Lambda(lambda image: resize_images(x=image, height_factor=2, width_factor=2, data_format='channels_last'))(input_image) \n",
        "base_model = MobileNet(weights='imagenet', include_top=False, input_tensor=resized_image)\n",
        "x = base_model.output\n",
        "x = Dropout(0.5)(x)\n",
        "x = GlobalAveragePooling2D()(x)\n",
        "x = Dense(256, activation='relu')(x)\n",
        "x = Dropout(0.5)(x)\n",
        "predictions = Dense(10, activation='softmax')(x)\n",
        "model5 = Model(inputs=base_model.input, outputs=predictions)\n",
        "model5.compile(optimizer='adam', loss='categorical_crossentropy', metrics=['accuracy',f1_m,precision_m, recall_m])\n",
        "model5.summary()"
      ],
      "execution_count": null,
      "outputs": [
        {
          "output_type": "stream",
          "name": "stdout",
          "text": [
            "WARNING:tensorflow:`input_shape` is undefined or non-square, or `rows` is not in [128, 160, 192, 224]. Weights for input shape (224, 224) will be loaded as the default.\n",
            "Downloading data from https://storage.googleapis.com/tensorflow/keras-applications/mobilenet/mobilenet_1_0_224_tf_no_top.h5\n",
            "17227776/17225924 [==============================] - 0s 0us/step\n",
            "17235968/17225924 [==============================] - 0s 0us/step\n",
            "Model: \"model\"\n",
            "_________________________________________________________________\n",
            " Layer (type)                Output Shape              Param #   \n",
            "=================================================================\n",
            " input_1 (InputLayer)        [(None, 28, 28, 3)]       0         \n",
            "                                                                 \n",
            " lambda (Lambda)             (None, 56, 56, 3)         0         \n",
            "                                                                 \n",
            " conv1 (Conv2D)              (None, 28, 28, 32)        864       \n",
            "                                                                 \n",
            " conv1_bn (BatchNormalizatio  (None, 28, 28, 32)       128       \n",
            " n)                                                              \n",
            "                                                                 \n",
            " conv1_relu (ReLU)           (None, 28, 28, 32)        0         \n",
            "                                                                 \n",
            " conv_dw_1 (DepthwiseConv2D)  (None, 28, 28, 32)       288       \n",
            "                                                                 \n",
            " conv_dw_1_bn (BatchNormaliz  (None, 28, 28, 32)       128       \n",
            " ation)                                                          \n",
            "                                                                 \n",
            " conv_dw_1_relu (ReLU)       (None, 28, 28, 32)        0         \n",
            "                                                                 \n",
            " conv_pw_1 (Conv2D)          (None, 28, 28, 64)        2048      \n",
            "                                                                 \n",
            " conv_pw_1_bn (BatchNormaliz  (None, 28, 28, 64)       256       \n",
            " ation)                                                          \n",
            "                                                                 \n",
            " conv_pw_1_relu (ReLU)       (None, 28, 28, 64)        0         \n",
            "                                                                 \n",
            " conv_pad_2 (ZeroPadding2D)  (None, 29, 29, 64)        0         \n",
            "                                                                 \n",
            " conv_dw_2 (DepthwiseConv2D)  (None, 14, 14, 64)       576       \n",
            "                                                                 \n",
            " conv_dw_2_bn (BatchNormaliz  (None, 14, 14, 64)       256       \n",
            " ation)                                                          \n",
            "                                                                 \n",
            " conv_dw_2_relu (ReLU)       (None, 14, 14, 64)        0         \n",
            "                                                                 \n",
            " conv_pw_2 (Conv2D)          (None, 14, 14, 128)       8192      \n",
            "                                                                 \n",
            " conv_pw_2_bn (BatchNormaliz  (None, 14, 14, 128)      512       \n",
            " ation)                                                          \n",
            "                                                                 \n",
            " conv_pw_2_relu (ReLU)       (None, 14, 14, 128)       0         \n",
            "                                                                 \n",
            " conv_dw_3 (DepthwiseConv2D)  (None, 14, 14, 128)      1152      \n",
            "                                                                 \n",
            " conv_dw_3_bn (BatchNormaliz  (None, 14, 14, 128)      512       \n",
            " ation)                                                          \n",
            "                                                                 \n",
            " conv_dw_3_relu (ReLU)       (None, 14, 14, 128)       0         \n",
            "                                                                 \n",
            " conv_pw_3 (Conv2D)          (None, 14, 14, 128)       16384     \n",
            "                                                                 \n",
            " conv_pw_3_bn (BatchNormaliz  (None, 14, 14, 128)      512       \n",
            " ation)                                                          \n",
            "                                                                 \n",
            " conv_pw_3_relu (ReLU)       (None, 14, 14, 128)       0         \n",
            "                                                                 \n",
            " conv_pad_4 (ZeroPadding2D)  (None, 15, 15, 128)       0         \n",
            "                                                                 \n",
            " conv_dw_4 (DepthwiseConv2D)  (None, 7, 7, 128)        1152      \n",
            "                                                                 \n",
            " conv_dw_4_bn (BatchNormaliz  (None, 7, 7, 128)        512       \n",
            " ation)                                                          \n",
            "                                                                 \n",
            " conv_dw_4_relu (ReLU)       (None, 7, 7, 128)         0         \n",
            "                                                                 \n",
            " conv_pw_4 (Conv2D)          (None, 7, 7, 256)         32768     \n",
            "                                                                 \n",
            " conv_pw_4_bn (BatchNormaliz  (None, 7, 7, 256)        1024      \n",
            " ation)                                                          \n",
            "                                                                 \n",
            " conv_pw_4_relu (ReLU)       (None, 7, 7, 256)         0         \n",
            "                                                                 \n",
            " conv_dw_5 (DepthwiseConv2D)  (None, 7, 7, 256)        2304      \n",
            "                                                                 \n",
            " conv_dw_5_bn (BatchNormaliz  (None, 7, 7, 256)        1024      \n",
            " ation)                                                          \n",
            "                                                                 \n",
            " conv_dw_5_relu (ReLU)       (None, 7, 7, 256)         0         \n",
            "                                                                 \n",
            " conv_pw_5 (Conv2D)          (None, 7, 7, 256)         65536     \n",
            "                                                                 \n",
            " conv_pw_5_bn (BatchNormaliz  (None, 7, 7, 256)        1024      \n",
            " ation)                                                          \n",
            "                                                                 \n",
            " conv_pw_5_relu (ReLU)       (None, 7, 7, 256)         0         \n",
            "                                                                 \n",
            " conv_pad_6 (ZeroPadding2D)  (None, 8, 8, 256)         0         \n",
            "                                                                 \n",
            " conv_dw_6 (DepthwiseConv2D)  (None, 3, 3, 256)        2304      \n",
            "                                                                 \n",
            " conv_dw_6_bn (BatchNormaliz  (None, 3, 3, 256)        1024      \n",
            " ation)                                                          \n",
            "                                                                 \n",
            " conv_dw_6_relu (ReLU)       (None, 3, 3, 256)         0         \n",
            "                                                                 \n",
            " conv_pw_6 (Conv2D)          (None, 3, 3, 512)         131072    \n",
            "                                                                 \n",
            " conv_pw_6_bn (BatchNormaliz  (None, 3, 3, 512)        2048      \n",
            " ation)                                                          \n",
            "                                                                 \n",
            " conv_pw_6_relu (ReLU)       (None, 3, 3, 512)         0         \n",
            "                                                                 \n",
            " conv_dw_7 (DepthwiseConv2D)  (None, 3, 3, 512)        4608      \n",
            "                                                                 \n",
            " conv_dw_7_bn (BatchNormaliz  (None, 3, 3, 512)        2048      \n",
            " ation)                                                          \n",
            "                                                                 \n",
            " conv_dw_7_relu (ReLU)       (None, 3, 3, 512)         0         \n",
            "                                                                 \n",
            " conv_pw_7 (Conv2D)          (None, 3, 3, 512)         262144    \n",
            "                                                                 \n",
            " conv_pw_7_bn (BatchNormaliz  (None, 3, 3, 512)        2048      \n",
            " ation)                                                          \n",
            "                                                                 \n",
            " conv_pw_7_relu (ReLU)       (None, 3, 3, 512)         0         \n",
            "                                                                 \n",
            " conv_dw_8 (DepthwiseConv2D)  (None, 3, 3, 512)        4608      \n",
            "                                                                 \n",
            " conv_dw_8_bn (BatchNormaliz  (None, 3, 3, 512)        2048      \n",
            " ation)                                                          \n",
            "                                                                 \n",
            " conv_dw_8_relu (ReLU)       (None, 3, 3, 512)         0         \n",
            "                                                                 \n",
            " conv_pw_8 (Conv2D)          (None, 3, 3, 512)         262144    \n",
            "                                                                 \n",
            " conv_pw_8_bn (BatchNormaliz  (None, 3, 3, 512)        2048      \n",
            " ation)                                                          \n",
            "                                                                 \n",
            " conv_pw_8_relu (ReLU)       (None, 3, 3, 512)         0         \n",
            "                                                                 \n",
            " conv_dw_9 (DepthwiseConv2D)  (None, 3, 3, 512)        4608      \n",
            "                                                                 \n",
            " conv_dw_9_bn (BatchNormaliz  (None, 3, 3, 512)        2048      \n",
            " ation)                                                          \n",
            "                                                                 \n",
            " conv_dw_9_relu (ReLU)       (None, 3, 3, 512)         0         \n",
            "                                                                 \n",
            " conv_pw_9 (Conv2D)          (None, 3, 3, 512)         262144    \n",
            "                                                                 \n",
            " conv_pw_9_bn (BatchNormaliz  (None, 3, 3, 512)        2048      \n",
            " ation)                                                          \n",
            "                                                                 \n",
            " conv_pw_9_relu (ReLU)       (None, 3, 3, 512)         0         \n",
            "                                                                 \n",
            " conv_dw_10 (DepthwiseConv2D  (None, 3, 3, 512)        4608      \n",
            " )                                                               \n",
            "                                                                 \n",
            " conv_dw_10_bn (BatchNormali  (None, 3, 3, 512)        2048      \n",
            " zation)                                                         \n",
            "                                                                 \n",
            " conv_dw_10_relu (ReLU)      (None, 3, 3, 512)         0         \n",
            "                                                                 \n",
            " conv_pw_10 (Conv2D)         (None, 3, 3, 512)         262144    \n",
            "                                                                 \n",
            " conv_pw_10_bn (BatchNormali  (None, 3, 3, 512)        2048      \n",
            " zation)                                                         \n",
            "                                                                 \n",
            " conv_pw_10_relu (ReLU)      (None, 3, 3, 512)         0         \n",
            "                                                                 \n",
            " conv_dw_11 (DepthwiseConv2D  (None, 3, 3, 512)        4608      \n",
            " )                                                               \n",
            "                                                                 \n",
            " conv_dw_11_bn (BatchNormali  (None, 3, 3, 512)        2048      \n",
            " zation)                                                         \n",
            "                                                                 \n",
            " conv_dw_11_relu (ReLU)      (None, 3, 3, 512)         0         \n",
            "                                                                 \n",
            " conv_pw_11 (Conv2D)         (None, 3, 3, 512)         262144    \n",
            "                                                                 \n",
            " conv_pw_11_bn (BatchNormali  (None, 3, 3, 512)        2048      \n",
            " zation)                                                         \n",
            "                                                                 \n",
            " conv_pw_11_relu (ReLU)      (None, 3, 3, 512)         0         \n",
            "                                                                 \n",
            " conv_pad_12 (ZeroPadding2D)  (None, 4, 4, 512)        0         \n",
            "                                                                 \n",
            " conv_dw_12 (DepthwiseConv2D  (None, 1, 1, 512)        4608      \n",
            " )                                                               \n",
            "                                                                 \n",
            " conv_dw_12_bn (BatchNormali  (None, 1, 1, 512)        2048      \n",
            " zation)                                                         \n",
            "                                                                 \n",
            " conv_dw_12_relu (ReLU)      (None, 1, 1, 512)         0         \n",
            "                                                                 \n",
            " conv_pw_12 (Conv2D)         (None, 1, 1, 1024)        524288    \n",
            "                                                                 \n",
            " conv_pw_12_bn (BatchNormali  (None, 1, 1, 1024)       4096      \n",
            " zation)                                                         \n",
            "                                                                 \n",
            " conv_pw_12_relu (ReLU)      (None, 1, 1, 1024)        0         \n",
            "                                                                 \n",
            " conv_dw_13 (DepthwiseConv2D  (None, 1, 1, 1024)       9216      \n",
            " )                                                               \n",
            "                                                                 \n",
            " conv_dw_13_bn (BatchNormali  (None, 1, 1, 1024)       4096      \n",
            " zation)                                                         \n",
            "                                                                 \n",
            " conv_dw_13_relu (ReLU)      (None, 1, 1, 1024)        0         \n",
            "                                                                 \n",
            " conv_pw_13 (Conv2D)         (None, 1, 1, 1024)        1048576   \n",
            "                                                                 \n",
            " conv_pw_13_bn (BatchNormali  (None, 1, 1, 1024)       4096      \n",
            " zation)                                                         \n",
            "                                                                 \n",
            " conv_pw_13_relu (ReLU)      (None, 1, 1, 1024)        0         \n",
            "                                                                 \n",
            " dropout_12 (Dropout)        (None, 1, 1, 1024)        0         \n",
            "                                                                 \n",
            " global_average_pooling2d (G  (None, 1024)             0         \n",
            " lobalAveragePooling2D)                                          \n",
            "                                                                 \n",
            " dense_10 (Dense)            (None, 256)               262400    \n",
            "                                                                 \n",
            " dropout_13 (Dropout)        (None, 256)               0         \n",
            "                                                                 \n",
            " dense_11 (Dense)            (None, 10)                2570      \n",
            "                                                                 \n",
            "=================================================================\n",
            "Total params: 3,493,834\n",
            "Trainable params: 3,471,946\n",
            "Non-trainable params: 21,888\n",
            "_________________________________________________________________\n"
          ]
        }
      ]
    },
    {
      "cell_type": "code",
      "metadata": {
        "id": "DOjgbk_Js4ku",
        "colab": {
          "base_uri": "https://localhost:8080/"
        },
        "outputId": "b567bd16-8ba9-4821-c311-f88f5fe7833c"
      },
      "source": [
        "batch_size = 256\n",
        "epochs = 10\n",
        "\n",
        "history5 = model5.fit(x_train_2, y_train,\n",
        "          batch_size=batch_size,\n",
        "          epochs=epochs,\n",
        "          verbose=1,\n",
        "          validation_data=(x_val_2, y_val))"
      ],
      "execution_count": null,
      "outputs": [
        {
          "output_type": "stream",
          "name": "stdout",
          "text": [
            "Epoch 1/10\n",
            "188/188 [==============================] - 34s 156ms/step - loss: 0.6780 - accuracy: 0.7996 - f1_m: 0.8011 - precision_m: 0.8452 - recall_m: 0.7624 - val_loss: 0.7780 - val_accuracy: 0.6676 - val_f1_m: 0.6546 - val_precision_m: 0.6979 - val_recall_m: 0.6165\n",
            "Epoch 2/10\n",
            "188/188 [==============================] - 27s 144ms/step - loss: 0.2936 - accuracy: 0.8999 - f1_m: 0.9000 - precision_m: 0.9205 - recall_m: 0.8804 - val_loss: 0.3612 - val_accuracy: 0.8658 - val_f1_m: 0.8558 - val_precision_m: 0.9068 - val_recall_m: 0.8104\n",
            "Epoch 3/10\n",
            "188/188 [==============================] - 27s 144ms/step - loss: 0.2305 - accuracy: 0.9205 - f1_m: 0.9208 - precision_m: 0.9361 - recall_m: 0.9060 - val_loss: 0.2368 - val_accuracy: 0.9157 - val_f1_m: 0.9148 - val_precision_m: 0.9370 - val_recall_m: 0.8938\n",
            "Epoch 4/10\n",
            "188/188 [==============================] - 27s 144ms/step - loss: 0.1912 - accuracy: 0.9358 - f1_m: 0.9353 - precision_m: 0.9462 - recall_m: 0.9247 - val_loss: 0.2335 - val_accuracy: 0.9181 - val_f1_m: 0.9185 - val_precision_m: 0.9300 - val_recall_m: 0.9074\n",
            "Epoch 5/10\n",
            "188/188 [==============================] - 27s 144ms/step - loss: 0.1725 - accuracy: 0.9408 - f1_m: 0.9407 - precision_m: 0.9502 - recall_m: 0.9314 - val_loss: 0.2128 - val_accuracy: 0.9259 - val_f1_m: 0.9268 - val_precision_m: 0.9356 - val_recall_m: 0.9181\n",
            "Epoch 6/10\n",
            "188/188 [==============================] - 27s 146ms/step - loss: 0.1527 - accuracy: 0.9479 - f1_m: 0.9485 - precision_m: 0.9571 - recall_m: 0.9402 - val_loss: 0.2338 - val_accuracy: 0.9212 - val_f1_m: 0.9217 - val_precision_m: 0.9287 - val_recall_m: 0.9149\n",
            "Epoch 7/10\n",
            "188/188 [==============================] - 27s 144ms/step - loss: 0.1391 - accuracy: 0.9532 - f1_m: 0.9532 - precision_m: 0.9599 - recall_m: 0.9466 - val_loss: 0.2095 - val_accuracy: 0.9300 - val_f1_m: 0.9307 - val_precision_m: 0.9408 - val_recall_m: 0.9209\n",
            "Epoch 8/10\n",
            "188/188 [==============================] - 27s 144ms/step - loss: 0.1306 - accuracy: 0.9563 - f1_m: 0.9563 - precision_m: 0.9628 - recall_m: 0.9500 - val_loss: 0.2459 - val_accuracy: 0.9193 - val_f1_m: 0.9200 - val_precision_m: 0.9275 - val_recall_m: 0.9127\n",
            "Epoch 9/10\n",
            "188/188 [==============================] - 27s 146ms/step - loss: 0.1121 - accuracy: 0.9625 - f1_m: 0.9624 - precision_m: 0.9676 - recall_m: 0.9572 - val_loss: 0.2747 - val_accuracy: 0.9163 - val_f1_m: 0.9180 - val_precision_m: 0.9258 - val_recall_m: 0.9103\n",
            "Epoch 10/10\n",
            "188/188 [==============================] - 27s 144ms/step - loss: 0.1145 - accuracy: 0.9624 - f1_m: 0.9623 - precision_m: 0.9671 - recall_m: 0.9575 - val_loss: 0.2449 - val_accuracy: 0.9268 - val_f1_m: 0.9276 - val_precision_m: 0.9355 - val_recall_m: 0.9197\n"
          ]
        }
      ]
    },
    {
      "cell_type": "code",
      "metadata": {
        "id": "RmoeX1_C1tkA",
        "colab": {
          "base_uri": "https://localhost:8080/"
        },
        "outputId": "67150db8-9bb9-4a69-c46a-7ffc01fa73fa"
      },
      "source": [
        "# evaluate the model\n",
        "loss, accuracy, f1_score, precision, recall = model5.evaluate(x_test_2, y_test, verbose=0)\n",
        "print('Test loss:',loss)\n",
        "print('Test accuracy:', accuracy)\n",
        "print('Test f1_score:', f1_score)\n",
        "print('Test precision:', precision)\n",
        "print('Test recall:', recall)"
      ],
      "execution_count": null,
      "outputs": [
        {
          "output_type": "stream",
          "name": "stdout",
          "text": [
            "Test loss: 0.24973620474338531\n",
            "Test accuracy: 0.9254999756813049\n",
            "Test f1_score: 0.9252790212631226\n",
            "Test precision: 0.9336299300193787\n",
            "Test recall: 0.9173322916030884\n"
          ]
        }
      ]
    },
    {
      "cell_type": "code",
      "metadata": {
        "id": "WBKrVSX43xxJ",
        "colab": {
          "base_uri": "https://localhost:8080/",
          "height": 608
        },
        "outputId": "f7735505-8442-4dba-8e18-93e36e1a9c4e"
      },
      "source": [
        "\n",
        "history = history5.history\n",
        "\n",
        "print (history)\n",
        "plt.plot(history['accuracy'])\n",
        "plt.plot(history['val_accuracy'])\n",
        "plt.title('model accuracy')\n",
        "plt.ylabel('accuracy')\n",
        "plt.xlabel('epoch')\n",
        "plt.legend(['train', 'val'], loc='upper left')\n",
        "plt.show()\n",
        "\n",
        "plt.plot(history['loss'])\n",
        "plt.plot(history['val_loss'])\n",
        "plt.title('model loss')\n",
        "plt.ylabel('loss')\n",
        "plt.xlabel('epoch')\n",
        "plt.yscale(\"log\")\n",
        "plt.legend(['train', 'val'], loc='upper left')\n",
        "plt.show()"
      ],
      "execution_count": null,
      "outputs": [
        {
          "output_type": "stream",
          "name": "stdout",
          "text": [
            "{'loss': [0.678007960319519, 0.29360318183898926, 0.23047910630702972, 0.19124725461006165, 0.17254653573036194, 0.1526847779750824, 0.13907843828201294, 0.13056820631027222, 0.11213948577642441, 0.1144871637225151], 'accuracy': [0.7996249794960022, 0.8999375104904175, 0.9204583168029785, 0.9357916712760925, 0.940750002861023, 0.9479166865348816, 0.953166663646698, 0.956250011920929, 0.9624999761581421, 0.9624166488647461], 'f1_m': [0.8010971546173096, 0.8999732136726379, 0.9207573533058167, 0.9353220462799072, 0.9407131671905518, 0.9485349655151367, 0.95317542552948, 0.9563448429107666, 0.9623552560806274, 0.9622576236724854], 'precision_m': [0.8452420234680176, 0.9205288887023926, 0.9361199140548706, 0.9462350010871887, 0.9502291679382324, 0.9571005702018738, 0.9598718285560608, 0.9627571702003479, 0.967635452747345, 0.9671157002449036], 'recall_m': [0.7623836398124695, 0.8804230093955994, 0.9059591293334961, 0.9247007966041565, 0.931432843208313, 0.9401595592498779, 0.9466007351875305, 0.950049877166748, 0.9571559429168701, 0.9574676156044006], 'val_loss': [0.7779676914215088, 0.36118224263191223, 0.23684357106685638, 0.2334943413734436, 0.21279963850975037, 0.23381097614765167, 0.20952768623828888, 0.24591872096061707, 0.27468010783195496, 0.244933620095253], 'val_accuracy': [0.6675833463668823, 0.8657500147819519, 0.9156666398048401, 0.9180833101272583, 0.9259166717529297, 0.9211666584014893, 0.9300000071525574, 0.9193333387374878, 0.9163333177566528, 0.9267500042915344], 'val_f1_m': [0.65458744764328, 0.8558050990104675, 0.9148418307304382, 0.9185094833374023, 0.9267829060554504, 0.9217273592948914, 0.9307253360748291, 0.9200255274772644, 0.9179797172546387, 0.9275546073913574], 'val_precision_m': [0.6979109048843384, 0.9067525863647461, 0.937035083770752, 0.9299699664115906, 0.9356157779693604, 0.9286808371543884, 0.940800130367279, 0.927470862865448, 0.9258247017860413, 0.9355457425117493], 'val_recall_m': [0.6164513826370239, 0.8104221820831299, 0.8937594890594482, 0.9073779582977295, 0.9181468486785889, 0.9149054884910583, 0.9209014177322388, 0.912732720375061, 0.9102987051010132, 0.9197259545326233]}\n"
          ]
        },
        {
          "output_type": "display_data",
          "data": {
            "image/png": "[encoded data removed]",
            "text/plain": [
              "<Figure size 432x288 with 1 Axes>"
            ]
          },
          "metadata": {
            "needs_background": "light"
          }
        },
        {
          "output_type": "display_data",
          "data": {
            "image/png": "[encoded data removed]",
            "text/plain": [
              "<Figure size 432x288 with 1 Axes>"
            ]
          },
          "metadata": {
            "needs_background": "light"
          }
        }
      ]
    },
    {
      "cell_type": "markdown",
      "metadata": {
        "id": "yEZCMlH0r5YI"
      },
      "source": [
        "### 6º Modelo - DenseNet121\n",
        "\n",
        "\n",
        "La red convolucional densa (DenseNet) conecta cada capa con todas las demás de forma directa. Mientras que las redes convolucionales tradicionales con L capas tienen L conexiones -una entre cada capa.\n",
        "\n",
        "ref(https://pytorch.org/hub/pytorch_vision_densenet/)"
      ]
    },
    {
      "cell_type": "code",
      "metadata": {
        "id": "NbXxMXYdr8Wo",
        "colab": {
          "base_uri": "https://localhost:8080/"
        },
        "outputId": "f98f37fb-96af-41be-8716-bfbc7a88ccbd"
      },
      "source": [
        "input_image = Input(shape=(28, 28, 3))\n",
        "resized_image = Lambda(lambda image: resize_images(x=image, height_factor=2, width_factor=2, data_format='channels_last'))(input_image) \n",
        "base_model = DenseNet121(weights='imagenet', include_top=False, input_tensor=resized_image)\n",
        "x = base_model.output\n",
        "x = Dropout(0.5)(x)\n",
        "x = GlobalAveragePooling2D()(x)\n",
        "x = Dense(256, activation='relu')(x)\n",
        "x = Dropout(0.5)(x)\n",
        "predictions = Dense(10, activation='softmax')(x)\n",
        "model6 = Model(inputs=base_model.input, outputs=predictions)\n",
        "model6.compile(optimizer='adam', loss='categorical_crossentropy', metrics=['accuracy',f1_m,precision_m, recall_m])\n",
        "model6.summary()"
      ],
      "execution_count": null,
      "outputs": [
        {
          "output_type": "stream",
          "name": "stdout",
          "text": [
            "Downloading data from https://storage.googleapis.com/tensorflow/keras-applications/densenet/densenet121_weights_tf_dim_ordering_tf_kernels_notop.h5\n",
            "29089792/29084464 [==============================] - 1s 0us/step\n",
            "29097984/29084464 [==============================] - 1s 0us/step\n",
            "Model: \"model_1\"\n",
            "__________________________________________________________________________________________________\n",
            " Layer (type)                   Output Shape         Param #     Connected to                     \n",
            "==================================================================================================\n",
            " input_2 (InputLayer)           [(None, 28, 28, 3)]  0           []                               \n",
            "                                                                                                  \n",
            " lambda_1 (Lambda)              (None, 56, 56, 3)    0           ['input_2[0][0]']                \n",
            "                                                                                                  \n",
            " zero_padding2d (ZeroPadding2D)  (None, 62, 62, 3)   0           ['lambda_1[0][0]']               \n",
            "                                                                                                  \n",
            " conv1/conv (Conv2D)            (None, 28, 28, 64)   9408        ['zero_padding2d[0][0]']         \n",
            "                                                                                                  \n",
            " conv1/bn (BatchNormalization)  (None, 28, 28, 64)   256         ['conv1/conv[0][0]']             \n",
            "                                                                                                  \n",
            " conv1/relu (Activation)        (None, 28, 28, 64)   0           ['conv1/bn[0][0]']               \n",
            "                                                                                                  \n",
            " zero_padding2d_1 (ZeroPadding2  (None, 30, 30, 64)  0           ['conv1/relu[0][0]']             \n",
            " D)                                                                                               \n",
            "                                                                                                  \n",
            " pool1 (MaxPooling2D)           (None, 14, 14, 64)   0           ['zero_padding2d_1[0][0]']       \n",
            "                                                                                                  \n",
            " conv2_block1_0_bn (BatchNormal  (None, 14, 14, 64)  256         ['pool1[0][0]']                  \n",
            " ization)                                                                                         \n",
            "                                                                                                  \n",
            " conv2_block1_0_relu (Activatio  (None, 14, 14, 64)  0           ['conv2_block1_0_bn[0][0]']      \n",
            " n)                                                                                               \n",
            "                                                                                                  \n",
            " conv2_block1_1_conv (Conv2D)   (None, 14, 14, 128)  8192        ['conv2_block1_0_relu[0][0]']    \n",
            "                                                                                                  \n",
            " conv2_block1_1_bn (BatchNormal  (None, 14, 14, 128)  512        ['conv2_block1_1_conv[0][0]']    \n",
            " ization)                                                                                         \n",
            "                                                                                                  \n",
            " conv2_block1_1_relu (Activatio  (None, 14, 14, 128)  0          ['conv2_block1_1_bn[0][0]']      \n",
            " n)                                                                                               \n",
            "                                                                                                  \n",
            " conv2_block1_2_conv (Conv2D)   (None, 14, 14, 32)   36864       ['conv2_block1_1_relu[0][0]']    \n",
            "                                                                                                  \n",
            " conv2_block1_concat (Concatena  (None, 14, 14, 96)  0           ['pool1[0][0]',                  \n",
            " te)                                                              'conv2_block1_2_conv[0][0]']    \n",
            "                                                                                                  \n",
            " conv2_block2_0_bn (BatchNormal  (None, 14, 14, 96)  384         ['conv2_block1_concat[0][0]']    \n",
            " ization)                                                                                         \n",
            "                                                                                                  \n",
            " conv2_block2_0_relu (Activatio  (None, 14, 14, 96)  0           ['conv2_block2_0_bn[0][0]']      \n",
            " n)                                                                                               \n",
            "                                                                                                  \n",
            " conv2_block2_1_conv (Conv2D)   (None, 14, 14, 128)  12288       ['conv2_block2_0_relu[0][0]']    \n",
            "                                                                                                  \n",
            " conv2_block2_1_bn (BatchNormal  (None, 14, 14, 128)  512        ['conv2_block2_1_conv[0][0]']    \n",
            " ization)                                                                                         \n",
            "                                                                                                  \n",
            " conv2_block2_1_relu (Activatio  (None, 14, 14, 128)  0          ['conv2_block2_1_bn[0][0]']      \n",
            " n)                                                                                               \n",
            "                                                                                                  \n",
            " conv2_block2_2_conv (Conv2D)   (None, 14, 14, 32)   36864       ['conv2_block2_1_relu[0][0]']    \n",
            "                                                                                                  \n",
            " conv2_block2_concat (Concatena  (None, 14, 14, 128)  0          ['conv2_block1_concat[0][0]',    \n",
            " te)                                                              'conv2_block2_2_conv[0][0]']    \n",
            "                                                                                                  \n",
            " conv2_block3_0_bn (BatchNormal  (None, 14, 14, 128)  512        ['conv2_block2_concat[0][0]']    \n",
            " ization)                                                                                         \n",
            "                                                                                                  \n",
            " conv2_block3_0_relu (Activatio  (None, 14, 14, 128)  0          ['conv2_block3_0_bn[0][0]']      \n",
            " n)                                                                                               \n",
            "                                                                                                  \n",
            " conv2_block3_1_conv (Conv2D)   (None, 14, 14, 128)  16384       ['conv2_block3_0_relu[0][0]']    \n",
            "                                                                                                  \n",
            " conv2_block3_1_bn (BatchNormal  (None, 14, 14, 128)  512        ['conv2_block3_1_conv[0][0]']    \n",
            " ization)                                                                                         \n",
            "                                                                                                  \n",
            " conv2_block3_1_relu (Activatio  (None, 14, 14, 128)  0          ['conv2_block3_1_bn[0][0]']      \n",
            " n)                                                                                               \n",
            "                                                                                                  \n",
            " conv2_block3_2_conv (Conv2D)   (None, 14, 14, 32)   36864       ['conv2_block3_1_relu[0][0]']    \n",
            "                                                                                                  \n",
            " conv2_block3_concat (Concatena  (None, 14, 14, 160)  0          ['conv2_block2_concat[0][0]',    \n",
            " te)                                                              'conv2_block3_2_conv[0][0]']    \n",
            "                                                                                                  \n",
            " conv2_block4_0_bn (BatchNormal  (None, 14, 14, 160)  640        ['conv2_block3_concat[0][0]']    \n",
            " ization)                                                                                         \n",
            "                                                                                                  \n",
            " conv2_block4_0_relu (Activatio  (None, 14, 14, 160)  0          ['conv2_block4_0_bn[0][0]']      \n",
            " n)                                                                                               \n",
            "                                                                                                  \n",
            " conv2_block4_1_conv (Conv2D)   (None, 14, 14, 128)  20480       ['conv2_block4_0_relu[0][0]']    \n",
            "                                                                                                  \n",
            " conv2_block4_1_bn (BatchNormal  (None, 14, 14, 128)  512        ['conv2_block4_1_conv[0][0]']    \n",
            " ization)                                                                                         \n",
            "                                                                                                  \n",
            " conv2_block4_1_relu (Activatio  (None, 14, 14, 128)  0          ['conv2_block4_1_bn[0][0]']      \n",
            " n)                                                                                               \n",
            "                                                                                                  \n",
            " conv2_block4_2_conv (Conv2D)   (None, 14, 14, 32)   36864       ['conv2_block4_1_relu[0][0]']    \n",
            "                                                                                                  \n",
            " conv2_block4_concat (Concatena  (None, 14, 14, 192)  0          ['conv2_block3_concat[0][0]',    \n",
            " te)                                                              'conv2_block4_2_conv[0][0]']    \n",
            "                                                                                                  \n",
            " conv2_block5_0_bn (BatchNormal  (None, 14, 14, 192)  768        ['conv2_block4_concat[0][0]']    \n",
            " ization)                                                                                         \n",
            "                                                                                                  \n",
            " conv2_block5_0_relu (Activatio  (None, 14, 14, 192)  0          ['conv2_block5_0_bn[0][0]']      \n",
            " n)                                                                                               \n",
            "                                                                                                  \n",
            " conv2_block5_1_conv (Conv2D)   (None, 14, 14, 128)  24576       ['conv2_block5_0_relu[0][0]']    \n",
            "                                                                                                  \n",
            " conv2_block5_1_bn (BatchNormal  (None, 14, 14, 128)  512        ['conv2_block5_1_conv[0][0]']    \n",
            " ization)                                                                                         \n",
            "                                                                                                  \n",
            " conv2_block5_1_relu (Activatio  (None, 14, 14, 128)  0          ['conv2_block5_1_bn[0][0]']      \n",
            " n)                                                                                               \n",
            "                                                                                                  \n",
            " conv2_block5_2_conv (Conv2D)   (None, 14, 14, 32)   36864       ['conv2_block5_1_relu[0][0]']    \n",
            "                                                                                                  \n",
            " conv2_block5_concat (Concatena  (None, 14, 14, 224)  0          ['conv2_block4_concat[0][0]',    \n",
            " te)                                                              'conv2_block5_2_conv[0][0]']    \n",
            "                                                                                                  \n",
            " conv2_block6_0_bn (BatchNormal  (None, 14, 14, 224)  896        ['conv2_block5_concat[0][0]']    \n",
            " ization)                                                                                         \n",
            "                                                                                                  \n",
            " conv2_block6_0_relu (Activatio  (None, 14, 14, 224)  0          ['conv2_block6_0_bn[0][0]']      \n",
            " n)                                                                                               \n",
            "                                                                                                  \n",
            " conv2_block6_1_conv (Conv2D)   (None, 14, 14, 128)  28672       ['conv2_block6_0_relu[0][0]']    \n",
            "                                                                                                  \n",
            " conv2_block6_1_bn (BatchNormal  (None, 14, 14, 128)  512        ['conv2_block6_1_conv[0][0]']    \n",
            " ization)                                                                                         \n",
            "                                                                                                  \n",
            " conv2_block6_1_relu (Activatio  (None, 14, 14, 128)  0          ['conv2_block6_1_bn[0][0]']      \n",
            " n)                                                                                               \n",
            "                                                                                                  \n",
            " conv2_block6_2_conv (Conv2D)   (None, 14, 14, 32)   36864       ['conv2_block6_1_relu[0][0]']    \n",
            "                                                                                                  \n",
            " conv2_block6_concat (Concatena  (None, 14, 14, 256)  0          ['conv2_block5_concat[0][0]',    \n",
            " te)                                                              'conv2_block6_2_conv[0][0]']    \n",
            "                                                                                                  \n",
            " pool2_bn (BatchNormalization)  (None, 14, 14, 256)  1024        ['conv2_block6_concat[0][0]']    \n",
            "                                                                                                  \n",
            " pool2_relu (Activation)        (None, 14, 14, 256)  0           ['pool2_bn[0][0]']               \n",
            "                                                                                                  \n",
            " pool2_conv (Conv2D)            (None, 14, 14, 128)  32768       ['pool2_relu[0][0]']             \n",
            "                                                                                                  \n",
            " pool2_pool (AveragePooling2D)  (None, 7, 7, 128)    0           ['pool2_conv[0][0]']             \n",
            "                                                                                                  \n",
            " conv3_block1_0_bn (BatchNormal  (None, 7, 7, 128)   512         ['pool2_pool[0][0]']             \n",
            " ization)                                                                                         \n",
            "                                                                                                  \n",
            " conv3_block1_0_relu (Activatio  (None, 7, 7, 128)   0           ['conv3_block1_0_bn[0][0]']      \n",
            " n)                                                                                               \n",
            "                                                                                                  \n",
            " conv3_block1_1_conv (Conv2D)   (None, 7, 7, 128)    16384       ['conv3_block1_0_relu[0][0]']    \n",
            "                                                                                                  \n",
            " conv3_block1_1_bn (BatchNormal  (None, 7, 7, 128)   512         ['conv3_block1_1_conv[0][0]']    \n",
            " ization)                                                                                         \n",
            "                                                                                                  \n",
            " conv3_block1_1_relu (Activatio  (None, 7, 7, 128)   0           ['conv3_block1_1_bn[0][0]']      \n",
            " n)                                                                                               \n",
            "                                                                                                  \n",
            " conv3_block1_2_conv (Conv2D)   (None, 7, 7, 32)     36864       ['conv3_block1_1_relu[0][0]']    \n",
            "                                                                                                  \n",
            " conv3_block1_concat (Concatena  (None, 7, 7, 160)   0           ['pool2_pool[0][0]',             \n",
            " te)                                                              'conv3_block1_2_conv[0][0]']    \n",
            "                                                                                                  \n",
            " conv3_block2_0_bn (BatchNormal  (None, 7, 7, 160)   640         ['conv3_block1_concat[0][0]']    \n",
            " ization)                                                                                         \n",
            "                                                                                                  \n",
            " conv3_block2_0_relu (Activatio  (None, 7, 7, 160)   0           ['conv3_block2_0_bn[0][0]']      \n",
            " n)                                                                                               \n",
            "                                                                                                  \n",
            " conv3_block2_1_conv (Conv2D)   (None, 7, 7, 128)    20480       ['conv3_block2_0_relu[0][0]']    \n",
            "                                                                                                  \n",
            " conv3_block2_1_bn (BatchNormal  (None, 7, 7, 128)   512         ['conv3_block2_1_conv[0][0]']    \n",
            " ization)                                                                                         \n",
            "                                                                                                  \n",
            " conv3_block2_1_relu (Activatio  (None, 7, 7, 128)   0           ['conv3_block2_1_bn[0][0]']      \n",
            " n)                                                                                               \n",
            "                                                                                                  \n",
            " conv3_block2_2_conv (Conv2D)   (None, 7, 7, 32)     36864       ['conv3_block2_1_relu[0][0]']    \n",
            "                                                                                                  \n",
            " conv3_block2_concat (Concatena  (None, 7, 7, 192)   0           ['conv3_block1_concat[0][0]',    \n",
            " te)                                                              'conv3_block2_2_conv[0][0]']    \n",
            "                                                                                                  \n",
            " conv3_block3_0_bn (BatchNormal  (None, 7, 7, 192)   768         ['conv3_block2_concat[0][0]']    \n",
            " ization)                                                                                         \n",
            "                                                                                                  \n",
            " conv3_block3_0_relu (Activatio  (None, 7, 7, 192)   0           ['conv3_block3_0_bn[0][0]']      \n",
            " n)                                                                                               \n",
            "                                                                                                  \n",
            " conv3_block3_1_conv (Conv2D)   (None, 7, 7, 128)    24576       ['conv3_block3_0_relu[0][0]']    \n",
            "                                                                                                  \n",
            " conv3_block3_1_bn (BatchNormal  (None, 7, 7, 128)   512         ['conv3_block3_1_conv[0][0]']    \n",
            " ization)                                                                                         \n",
            "                                                                                                  \n",
            " conv3_block3_1_relu (Activatio  (None, 7, 7, 128)   0           ['conv3_block3_1_bn[0][0]']      \n",
            " n)                                                                                               \n",
            "                                                                                                  \n",
            " conv3_block3_2_conv (Conv2D)   (None, 7, 7, 32)     36864       ['conv3_block3_1_relu[0][0]']    \n",
            "                                                                                                  \n",
            " conv3_block3_concat (Concatena  (None, 7, 7, 224)   0           ['conv3_block2_concat[0][0]',    \n",
            " te)                                                              'conv3_block3_2_conv[0][0]']    \n",
            "                                                                                                  \n",
            " conv3_block4_0_bn (BatchNormal  (None, 7, 7, 224)   896         ['conv3_block3_concat[0][0]']    \n",
            " ization)                                                                                         \n",
            "                                                                                                  \n",
            " conv3_block4_0_relu (Activatio  (None, 7, 7, 224)   0           ['conv3_block4_0_bn[0][0]']      \n",
            " n)                                                                                               \n",
            "                                                                                                  \n",
            " conv3_block4_1_conv (Conv2D)   (None, 7, 7, 128)    28672       ['conv3_block4_0_relu[0][0]']    \n",
            "                                                                                                  \n",
            " conv3_block4_1_bn (BatchNormal  (None, 7, 7, 128)   512         ['conv3_block4_1_conv[0][0]']    \n",
            " ization)                                                                                         \n",
            "                                                                                                  \n",
            " conv3_block4_1_relu (Activatio  (None, 7, 7, 128)   0           ['conv3_block4_1_bn[0][0]']      \n",
            " n)                                                                                               \n",
            "                                                                                                  \n",
            " conv3_block4_2_conv (Conv2D)   (None, 7, 7, 32)     36864       ['conv3_block4_1_relu[0][0]']    \n",
            "                                                                                                  \n",
            " conv3_block4_concat (Concatena  (None, 7, 7, 256)   0           ['conv3_block3_concat[0][0]',    \n",
            " te)                                                              'conv3_block4_2_conv[0][0]']    \n",
            "                                                                                                  \n",
            " conv3_block5_0_bn (BatchNormal  (None, 7, 7, 256)   1024        ['conv3_block4_concat[0][0]']    \n",
            " ization)                                                                                         \n",
            "                                                                                                  \n",
            " conv3_block5_0_relu (Activatio  (None, 7, 7, 256)   0           ['conv3_block5_0_bn[0][0]']      \n",
            " n)                                                                                               \n",
            "                                                                                                  \n",
            " conv3_block5_1_conv (Conv2D)   (None, 7, 7, 128)    32768       ['conv3_block5_0_relu[0][0]']    \n",
            "                                                                                                  \n",
            " conv3_block5_1_bn (BatchNormal  (None, 7, 7, 128)   512         ['conv3_block5_1_conv[0][0]']    \n",
            " ization)                                                                                         \n",
            "                                                                                                  \n",
            " conv3_block5_1_relu (Activatio  (None, 7, 7, 128)   0           ['conv3_block5_1_bn[0][0]']      \n",
            " n)                                                                                               \n",
            "                                                                                                  \n",
            " conv3_block5_2_conv (Conv2D)   (None, 7, 7, 32)     36864       ['conv3_block5_1_relu[0][0]']    \n",
            "                                                                                                  \n",
            " conv3_block5_concat (Concatena  (None, 7, 7, 288)   0           ['conv3_block4_concat[0][0]',    \n",
            " te)                                                              'conv3_block5_2_conv[0][0]']    \n",
            "                                                                                                  \n",
            " conv3_block6_0_bn (BatchNormal  (None, 7, 7, 288)   1152        ['conv3_block5_concat[0][0]']    \n",
            " ization)                                                                                         \n",
            "                                                                                                  \n",
            " conv3_block6_0_relu (Activatio  (None, 7, 7, 288)   0           ['conv3_block6_0_bn[0][0]']      \n",
            " n)                                                                                               \n",
            "                                                                                                  \n",
            " conv3_block6_1_conv (Conv2D)   (None, 7, 7, 128)    36864       ['conv3_block6_0_relu[0][0]']    \n",
            "                                                                                                  \n",
            " conv3_block6_1_bn (BatchNormal  (None, 7, 7, 128)   512         ['conv3_block6_1_conv[0][0]']    \n",
            " ization)                                                                                         \n",
            "                                                                                                  \n",
            " conv3_block6_1_relu (Activatio  (None, 7, 7, 128)   0           ['conv3_block6_1_bn[0][0]']      \n",
            " n)                                                                                               \n",
            "                                                                                                  \n",
            " conv3_block6_2_conv (Conv2D)   (None, 7, 7, 32)     36864       ['conv3_block6_1_relu[0][0]']    \n",
            "                                                                                                  \n",
            " conv3_block6_concat (Concatena  (None, 7, 7, 320)   0           ['conv3_block5_concat[0][0]',    \n",
            " te)                                                              'conv3_block6_2_conv[0][0]']    \n",
            "                                                                                                  \n",
            " conv3_block7_0_bn (BatchNormal  (None, 7, 7, 320)   1280        ['conv3_block6_concat[0][0]']    \n",
            " ization)                                                                                         \n",
            "                                                                                                  \n",
            " conv3_block7_0_relu (Activatio  (None, 7, 7, 320)   0           ['conv3_block7_0_bn[0][0]']      \n",
            " n)                                                                                               \n",
            "                                                                                                  \n",
            " conv3_block7_1_conv (Conv2D)   (None, 7, 7, 128)    40960       ['conv3_block7_0_relu[0][0]']    \n",
            "                                                                                                  \n",
            " conv3_block7_1_bn (BatchNormal  (None, 7, 7, 128)   512         ['conv3_block7_1_conv[0][0]']    \n",
            " ization)                                                                                         \n",
            "                                                                                                  \n",
            " conv3_block7_1_relu (Activatio  (None, 7, 7, 128)   0           ['conv3_block7_1_bn[0][0]']      \n",
            " n)                                                                                               \n",
            "                                                                                                  \n",
            " conv3_block7_2_conv (Conv2D)   (None, 7, 7, 32)     36864       ['conv3_block7_1_relu[0][0]']    \n",
            "                                                                                                  \n",
            " conv3_block7_concat (Concatena  (None, 7, 7, 352)   0           ['conv3_block6_concat[0][0]',    \n",
            " te)                                                              'conv3_block7_2_conv[0][0]']    \n",
            "                                                                                                  \n",
            " conv3_block8_0_bn (BatchNormal  (None, 7, 7, 352)   1408        ['conv3_block7_concat[0][0]']    \n",
            " ization)                                                                                         \n",
            "                                                                                                  \n",
            " conv3_block8_0_relu (Activatio  (None, 7, 7, 352)   0           ['conv3_block8_0_bn[0][0]']      \n",
            " n)                                                                                               \n",
            "                                                                                                  \n",
            " conv3_block8_1_conv (Conv2D)   (None, 7, 7, 128)    45056       ['conv3_block8_0_relu[0][0]']    \n",
            "                                                                                                  \n",
            " conv3_block8_1_bn (BatchNormal  (None, 7, 7, 128)   512         ['conv3_block8_1_conv[0][0]']    \n",
            " ization)                                                                                         \n",
            "                                                                                                  \n",
            " conv3_block8_1_relu (Activatio  (None, 7, 7, 128)   0           ['conv3_block8_1_bn[0][0]']      \n",
            " n)                                                                                               \n",
            "                                                                                                  \n",
            " conv3_block8_2_conv (Conv2D)   (None, 7, 7, 32)     36864       ['conv3_block8_1_relu[0][0]']    \n",
            "                                                                                                  \n",
            " conv3_block8_concat (Concatena  (None, 7, 7, 384)   0           ['conv3_block7_concat[0][0]',    \n",
            " te)                                                              'conv3_block8_2_conv[0][0]']    \n",
            "                                                                                                  \n",
            " conv3_block9_0_bn (BatchNormal  (None, 7, 7, 384)   1536        ['conv3_block8_concat[0][0]']    \n",
            " ization)                                                                                         \n",
            "                                                                                                  \n",
            " conv3_block9_0_relu (Activatio  (None, 7, 7, 384)   0           ['conv3_block9_0_bn[0][0]']      \n",
            " n)                                                                                               \n",
            "                                                                                                  \n",
            " conv3_block9_1_conv (Conv2D)   (None, 7, 7, 128)    49152       ['conv3_block9_0_relu[0][0]']    \n",
            "                                                                                                  \n",
            " conv3_block9_1_bn (BatchNormal  (None, 7, 7, 128)   512         ['conv3_block9_1_conv[0][0]']    \n",
            " ization)                                                                                         \n",
            "                                                                                                  \n",
            " conv3_block9_1_relu (Activatio  (None, 7, 7, 128)   0           ['conv3_block9_1_bn[0][0]']      \n",
            " n)                                                                                               \n",
            "                                                                                                  \n",
            " conv3_block9_2_conv (Conv2D)   (None, 7, 7, 32)     36864       ['conv3_block9_1_relu[0][0]']    \n",
            "                                                                                                  \n",
            " conv3_block9_concat (Concatena  (None, 7, 7, 416)   0           ['conv3_block8_concat[0][0]',    \n",
            " te)                                                              'conv3_block9_2_conv[0][0]']    \n",
            "                                                                                                  \n",
            " conv3_block10_0_bn (BatchNorma  (None, 7, 7, 416)   1664        ['conv3_block9_concat[0][0]']    \n",
            " lization)                                                                                        \n",
            "                                                                                                  \n",
            " conv3_block10_0_relu (Activati  (None, 7, 7, 416)   0           ['conv3_block10_0_bn[0][0]']     \n",
            " on)                                                                                              \n",
            "                                                                                                  \n",
            " conv3_block10_1_conv (Conv2D)  (None, 7, 7, 128)    53248       ['conv3_block10_0_relu[0][0]']   \n",
            "                                                                                                  \n",
            " conv3_block10_1_bn (BatchNorma  (None, 7, 7, 128)   512         ['conv3_block10_1_conv[0][0]']   \n",
            " lization)                                                                                        \n",
            "                                                                                                  \n",
            " conv3_block10_1_relu (Activati  (None, 7, 7, 128)   0           ['conv3_block10_1_bn[0][0]']     \n",
            " on)                                                                                              \n",
            "                                                                                                  \n",
            " conv3_block10_2_conv (Conv2D)  (None, 7, 7, 32)     36864       ['conv3_block10_1_relu[0][0]']   \n",
            "                                                                                                  \n",
            " conv3_block10_concat (Concaten  (None, 7, 7, 448)   0           ['conv3_block9_concat[0][0]',    \n",
            " ate)                                                             'conv3_block10_2_conv[0][0]']   \n",
            "                                                                                                  \n",
            " conv3_block11_0_bn (BatchNorma  (None, 7, 7, 448)   1792        ['conv3_block10_concat[0][0]']   \n",
            " lization)                                                                                        \n",
            "                                                                                                  \n",
            " conv3_block11_0_relu (Activati  (None, 7, 7, 448)   0           ['conv3_block11_0_bn[0][0]']     \n",
            " on)                                                                                              \n",
            "                                                                                                  \n",
            " conv3_block11_1_conv (Conv2D)  (None, 7, 7, 128)    57344       ['conv3_block11_0_relu[0][0]']   \n",
            "                                                                                                  \n",
            " conv3_block11_1_bn (BatchNorma  (None, 7, 7, 128)   512         ['conv3_block11_1_conv[0][0]']   \n",
            " lization)                                                                                        \n",
            "                                                                                                  \n",
            " conv3_block11_1_relu (Activati  (None, 7, 7, 128)   0           ['conv3_block11_1_bn[0][0]']     \n",
            " on)                                                                                              \n",
            "                                                                                                  \n",
            " conv3_block11_2_conv (Conv2D)  (None, 7, 7, 32)     36864       ['conv3_block11_1_relu[0][0]']   \n",
            "                                                                                                  \n",
            " conv3_block11_concat (Concaten  (None, 7, 7, 480)   0           ['conv3_block10_concat[0][0]',   \n",
            " ate)                                                             'conv3_block11_2_conv[0][0]']   \n",
            "                                                                                                  \n",
            " conv3_block12_0_bn (BatchNorma  (None, 7, 7, 480)   1920        ['conv3_block11_concat[0][0]']   \n",
            " lization)                                                                                        \n",
            "                                                                                                  \n",
            " conv3_block12_0_relu (Activati  (None, 7, 7, 480)   0           ['conv3_block12_0_bn[0][0]']     \n",
            " on)                                                                                              \n",
            "                                                                                                  \n",
            " conv3_block12_1_conv (Conv2D)  (None, 7, 7, 128)    61440       ['conv3_block12_0_relu[0][0]']   \n",
            "                                                                                                  \n",
            " conv3_block12_1_bn (BatchNorma  (None, 7, 7, 128)   512         ['conv3_block12_1_conv[0][0]']   \n",
            " lization)                                                                                        \n",
            "                                                                                                  \n",
            " conv3_block12_1_relu (Activati  (None, 7, 7, 128)   0           ['conv3_block12_1_bn[0][0]']     \n",
            " on)                                                                                              \n",
            "                                                                                                  \n",
            " conv3_block12_2_conv (Conv2D)  (None, 7, 7, 32)     36864       ['conv3_block12_1_relu[0][0]']   \n",
            "                                                                                                  \n",
            " conv3_block12_concat (Concaten  (None, 7, 7, 512)   0           ['conv3_block11_concat[0][0]',   \n",
            " ate)                                                             'conv3_block12_2_conv[0][0]']   \n",
            "                                                                                                  \n",
            " pool3_bn (BatchNormalization)  (None, 7, 7, 512)    2048        ['conv3_block12_concat[0][0]']   \n",
            "                                                                                                  \n",
            " pool3_relu (Activation)        (None, 7, 7, 512)    0           ['pool3_bn[0][0]']               \n",
            "                                                                                                  \n",
            " pool3_conv (Conv2D)            (None, 7, 7, 256)    131072      ['pool3_relu[0][0]']             \n",
            "                                                                                                  \n",
            " pool3_pool (AveragePooling2D)  (None, 3, 3, 256)    0           ['pool3_conv[0][0]']             \n",
            "                                                                                                  \n",
            " conv4_block1_0_bn (BatchNormal  (None, 3, 3, 256)   1024        ['pool3_pool[0][0]']             \n",
            " ization)                                                                                         \n",
            "                                                                                                  \n",
            " conv4_block1_0_relu (Activatio  (None, 3, 3, 256)   0           ['conv4_block1_0_bn[0][0]']      \n",
            " n)                                                                                               \n",
            "                                                                                                  \n",
            " conv4_block1_1_conv (Conv2D)   (None, 3, 3, 128)    32768       ['conv4_block1_0_relu[0][0]']    \n",
            "                                                                                                  \n",
            " conv4_block1_1_bn (BatchNormal  (None, 3, 3, 128)   512         ['conv4_block1_1_conv[0][0]']    \n",
            " ization)                                                                                         \n",
            "                                                                                                  \n",
            " conv4_block1_1_relu (Activatio  (None, 3, 3, 128)   0           ['conv4_block1_1_bn[0][0]']      \n",
            " n)                                                                                               \n",
            "                                                                                                  \n",
            " conv4_block1_2_conv (Conv2D)   (None, 3, 3, 32)     36864       ['conv4_block1_1_relu[0][0]']    \n",
            "                                                                                                  \n",
            " conv4_block1_concat (Concatena  (None, 3, 3, 288)   0           ['pool3_pool[0][0]',             \n",
            " te)                                                              'conv4_block1_2_conv[0][0]']    \n",
            "                                                                                                  \n",
            " conv4_block2_0_bn (BatchNormal  (None, 3, 3, 288)   1152        ['conv4_block1_concat[0][0]']    \n",
            " ization)                                                                                         \n",
            "                                                                                                  \n",
            " conv4_block2_0_relu (Activatio  (None, 3, 3, 288)   0           ['conv4_block2_0_bn[0][0]']      \n",
            " n)                                                                                               \n",
            "                                                                                                  \n",
            " conv4_block2_1_conv (Conv2D)   (None, 3, 3, 128)    36864       ['conv4_block2_0_relu[0][0]']    \n",
            "                                                                                                  \n",
            " conv4_block2_1_bn (BatchNormal  (None, 3, 3, 128)   512         ['conv4_block2_1_conv[0][0]']    \n",
            " ization)                                                                                         \n",
            "                                                                                                  \n",
            " conv4_block2_1_relu (Activatio  (None, 3, 3, 128)   0           ['conv4_block2_1_bn[0][0]']      \n",
            " n)                                                                                               \n",
            "                                                                                                  \n",
            " conv4_block2_2_conv (Conv2D)   (None, 3, 3, 32)     36864       ['conv4_block2_1_relu[0][0]']    \n",
            "                                                                                                  \n",
            " conv4_block2_concat (Concatena  (None, 3, 3, 320)   0           ['conv4_block1_concat[0][0]',    \n",
            " te)                                                              'conv4_block2_2_conv[0][0]']    \n",
            "                                                                                                  \n",
            " conv4_block3_0_bn (BatchNormal  (None, 3, 3, 320)   1280        ['conv4_block2_concat[0][0]']    \n",
            " ization)                                                                                         \n",
            "                                                                                                  \n",
            " conv4_block3_0_relu (Activatio  (None, 3, 3, 320)   0           ['conv4_block3_0_bn[0][0]']      \n",
            " n)                                                                                               \n",
            "                                                                                                  \n",
            " conv4_block3_1_conv (Conv2D)   (None, 3, 3, 128)    40960       ['conv4_block3_0_relu[0][0]']    \n",
            "                                                                                                  \n",
            " conv4_block3_1_bn (BatchNormal  (None, 3, 3, 128)   512         ['conv4_block3_1_conv[0][0]']    \n",
            " ization)                                                                                         \n",
            "                                                                                                  \n",
            " conv4_block3_1_relu (Activatio  (None, 3, 3, 128)   0           ['conv4_block3_1_bn[0][0]']      \n",
            " n)                                                                                               \n",
            "                                                                                                  \n",
            " conv4_block3_2_conv (Conv2D)   (None, 3, 3, 32)     36864       ['conv4_block3_1_relu[0][0]']    \n",
            "                                                                                                  \n",
            " conv4_block3_concat (Concatena  (None, 3, 3, 352)   0           ['conv4_block2_concat[0][0]',    \n",
            " te)                                                              'conv4_block3_2_conv[0][0]']    \n",
            "                                                                                                  \n",
            " conv4_block4_0_bn (BatchNormal  (None, 3, 3, 352)   1408        ['conv4_block3_concat[0][0]']    \n",
            " ization)                                                                                         \n",
            "                                                                                                  \n",
            " conv4_block4_0_relu (Activatio  (None, 3, 3, 352)   0           ['conv4_block4_0_bn[0][0]']      \n",
            " n)                                                                                               \n",
            "                                                                                                  \n",
            " conv4_block4_1_conv (Conv2D)   (None, 3, 3, 128)    45056       ['conv4_block4_0_relu[0][0]']    \n",
            "                                                                                                  \n",
            " conv4_block4_1_bn (BatchNormal  (None, 3, 3, 128)   512         ['conv4_block4_1_conv[0][0]']    \n",
            " ization)                                                                                         \n",
            "                                                                                                  \n",
            " conv4_block4_1_relu (Activatio  (None, 3, 3, 128)   0           ['conv4_block4_1_bn[0][0]']      \n",
            " n)                                                                                               \n",
            "                                                                                                  \n",
            " conv4_block4_2_conv (Conv2D)   (None, 3, 3, 32)     36864       ['conv4_block4_1_relu[0][0]']    \n",
            "                                                                                                  \n",
            " conv4_block4_concat (Concatena  (None, 3, 3, 384)   0           ['conv4_block3_concat[0][0]',    \n",
            " te)                                                              'conv4_block4_2_conv[0][0]']    \n",
            "                                                                                                  \n",
            " conv4_block5_0_bn (BatchNormal  (None, 3, 3, 384)   1536        ['conv4_block4_concat[0][0]']    \n",
            " ization)                                                                                         \n",
            "                                                                                                  \n",
            " conv4_block5_0_relu (Activatio  (None, 3, 3, 384)   0           ['conv4_block5_0_bn[0][0]']      \n",
            " n)                                                                                               \n",
            "                                                                                                  \n",
            " conv4_block5_1_conv (Conv2D)   (None, 3, 3, 128)    49152       ['conv4_block5_0_relu[0][0]']    \n",
            "                                                                                                  \n",
            " conv4_block5_1_bn (BatchNormal  (None, 3, 3, 128)   512         ['conv4_block5_1_conv[0][0]']    \n",
            " ization)                                                                                         \n",
            "                                                                                                  \n",
            " conv4_block5_1_relu (Activatio  (None, 3, 3, 128)   0           ['conv4_block5_1_bn[0][0]']      \n",
            " n)                                                                                               \n",
            "                                                                                                  \n",
            " conv4_block5_2_conv (Conv2D)   (None, 3, 3, 32)     36864       ['conv4_block5_1_relu[0][0]']    \n",
            "                                                                                                  \n",
            " conv4_block5_concat (Concatena  (None, 3, 3, 416)   0           ['conv4_block4_concat[0][0]',    \n",
            " te)                                                              'conv4_block5_2_conv[0][0]']    \n",
            "                                                                                                  \n",
            " conv4_block6_0_bn (BatchNormal  (None, 3, 3, 416)   1664        ['conv4_block5_concat[0][0]']    \n",
            " ization)                                                                                         \n",
            "                                                                                                  \n",
            " conv4_block6_0_relu (Activatio  (None, 3, 3, 416)   0           ['conv4_block6_0_bn[0][0]']      \n",
            " n)                                                                                               \n",
            "                                                                                                  \n",
            " conv4_block6_1_conv (Conv2D)   (None, 3, 3, 128)    53248       ['conv4_block6_0_relu[0][0]']    \n",
            "                                                                                                  \n",
            " conv4_block6_1_bn (BatchNormal  (None, 3, 3, 128)   512         ['conv4_block6_1_conv[0][0]']    \n",
            " ization)                                                                                         \n",
            "                                                                                                  \n",
            " conv4_block6_1_relu (Activatio  (None, 3, 3, 128)   0           ['conv4_block6_1_bn[0][0]']      \n",
            " n)                                                                                               \n",
            "                                                                                                  \n",
            " conv4_block6_2_conv (Conv2D)   (None, 3, 3, 32)     36864       ['conv4_block6_1_relu[0][0]']    \n",
            "                                                                                                  \n",
            " conv4_block6_concat (Concatena  (None, 3, 3, 448)   0           ['conv4_block5_concat[0][0]',    \n",
            " te)                                                              'conv4_block6_2_conv[0][0]']    \n",
            "                                                                                                  \n",
            " conv4_block7_0_bn (BatchNormal  (None, 3, 3, 448)   1792        ['conv4_block6_concat[0][0]']    \n",
            " ization)                                                                                         \n",
            "                                                                                                  \n",
            " conv4_block7_0_relu (Activatio  (None, 3, 3, 448)   0           ['conv4_block7_0_bn[0][0]']      \n",
            " n)                                                                                               \n",
            "                                                                                                  \n",
            " conv4_block7_1_conv (Conv2D)   (None, 3, 3, 128)    57344       ['conv4_block7_0_relu[0][0]']    \n",
            "                                                                                                  \n",
            " conv4_block7_1_bn (BatchNormal  (None, 3, 3, 128)   512         ['conv4_block7_1_conv[0][0]']    \n",
            " ization)                                                                                         \n",
            "                                                                                                  \n",
            " conv4_block7_1_relu (Activatio  (None, 3, 3, 128)   0           ['conv4_block7_1_bn[0][0]']      \n",
            " n)                                                                                               \n",
            "                                                                                                  \n",
            " conv4_block7_2_conv (Conv2D)   (None, 3, 3, 32)     36864       ['conv4_block7_1_relu[0][0]']    \n",
            "                                                                                                  \n",
            " conv4_block7_concat (Concatena  (None, 3, 3, 480)   0           ['conv4_block6_concat[0][0]',    \n",
            " te)                                                              'conv4_block7_2_conv[0][0]']    \n",
            "                                                                                                  \n",
            " conv4_block8_0_bn (BatchNormal  (None, 3, 3, 480)   1920        ['conv4_block7_concat[0][0]']    \n",
            " ization)                                                                                         \n",
            "                                                                                                  \n",
            " conv4_block8_0_relu (Activatio  (None, 3, 3, 480)   0           ['conv4_block8_0_bn[0][0]']      \n",
            " n)                                                                                               \n",
            "                                                                                                  \n",
            " conv4_block8_1_conv (Conv2D)   (None, 3, 3, 128)    61440       ['conv4_block8_0_relu[0][0]']    \n",
            "                                                                                                  \n",
            " conv4_block8_1_bn (BatchNormal  (None, 3, 3, 128)   512         ['conv4_block8_1_conv[0][0]']    \n",
            " ization)                                                                                         \n",
            "                                                                                                  \n",
            " conv4_block8_1_relu (Activatio  (None, 3, 3, 128)   0           ['conv4_block8_1_bn[0][0]']      \n",
            " n)                                                                                               \n",
            "                                                                                                  \n",
            " conv4_block8_2_conv (Conv2D)   (None, 3, 3, 32)     36864       ['conv4_block8_1_relu[0][0]']    \n",
            "                                                                                                  \n",
            " conv4_block8_concat (Concatena  (None, 3, 3, 512)   0           ['conv4_block7_concat[0][0]',    \n",
            " te)                                                              'conv4_block8_2_conv[0][0]']    \n",
            "                                                                                                  \n",
            " conv4_block9_0_bn (BatchNormal  (None, 3, 3, 512)   2048        ['conv4_block8_concat[0][0]']    \n",
            " ization)                                                                                         \n",
            "                                                                                                  \n",
            " conv4_block9_0_relu (Activatio  (None, 3, 3, 512)   0           ['conv4_block9_0_bn[0][0]']      \n",
            " n)                                                                                               \n",
            "                                                                                                  \n",
            " conv4_block9_1_conv (Conv2D)   (None, 3, 3, 128)    65536       ['conv4_block9_0_relu[0][0]']    \n",
            "                                                                                                  \n",
            " conv4_block9_1_bn (BatchNormal  (None, 3, 3, 128)   512         ['conv4_block9_1_conv[0][0]']    \n",
            " ization)                                                                                         \n",
            "                                                                                                  \n",
            " conv4_block9_1_relu (Activatio  (None, 3, 3, 128)   0           ['conv4_block9_1_bn[0][0]']      \n",
            " n)                                                                                               \n",
            "                                                                                                  \n",
            " conv4_block9_2_conv (Conv2D)   (None, 3, 3, 32)     36864       ['conv4_block9_1_relu[0][0]']    \n",
            "                                                                                                  \n",
            " conv4_block9_concat (Concatena  (None, 3, 3, 544)   0           ['conv4_block8_concat[0][0]',    \n",
            " te)                                                              'conv4_block9_2_conv[0][0]']    \n",
            "                                                                                                  \n",
            " conv4_block10_0_bn (BatchNorma  (None, 3, 3, 544)   2176        ['conv4_block9_concat[0][0]']    \n",
            " lization)                                                                                        \n",
            "                                                                                                  \n",
            " conv4_block10_0_relu (Activati  (None, 3, 3, 544)   0           ['conv4_block10_0_bn[0][0]']     \n",
            " on)                                                                                              \n",
            "                                                                                                  \n",
            " conv4_block10_1_conv (Conv2D)  (None, 3, 3, 128)    69632       ['conv4_block10_0_relu[0][0]']   \n",
            "                                                                                                  \n",
            " conv4_block10_1_bn (BatchNorma  (None, 3, 3, 128)   512         ['conv4_block10_1_conv[0][0]']   \n",
            " lization)                                                                                        \n",
            "                                                                                                  \n",
            " conv4_block10_1_relu (Activati  (None, 3, 3, 128)   0           ['conv4_block10_1_bn[0][0]']     \n",
            " on)                                                                                              \n",
            "                                                                                                  \n",
            " conv4_block10_2_conv (Conv2D)  (None, 3, 3, 32)     36864       ['conv4_block10_1_relu[0][0]']   \n",
            "                                                                                                  \n",
            " conv4_block10_concat (Concaten  (None, 3, 3, 576)   0           ['conv4_block9_concat[0][0]',    \n",
            " ate)                                                             'conv4_block10_2_conv[0][0]']   \n",
            "                                                                                                  \n",
            " conv4_block11_0_bn (BatchNorma  (None, 3, 3, 576)   2304        ['conv4_block10_concat[0][0]']   \n",
            " lization)                                                                                        \n",
            "                                                                                                  \n",
            " conv4_block11_0_relu (Activati  (None, 3, 3, 576)   0           ['conv4_block11_0_bn[0][0]']     \n",
            " on)                                                                                              \n",
            "                                                                                                  \n",
            " conv4_block11_1_conv (Conv2D)  (None, 3, 3, 128)    73728       ['conv4_block11_0_relu[0][0]']   \n",
            "                                                                                                  \n",
            " conv4_block11_1_bn (BatchNorma  (None, 3, 3, 128)   512         ['conv4_block11_1_conv[0][0]']   \n",
            " lization)                                                                                        \n",
            "                                                                                                  \n",
            " conv4_block11_1_relu (Activati  (None, 3, 3, 128)   0           ['conv4_block11_1_bn[0][0]']     \n",
            " on)                                                                                              \n",
            "                                                                                                  \n",
            " conv4_block11_2_conv (Conv2D)  (None, 3, 3, 32)     36864       ['conv4_block11_1_relu[0][0]']   \n",
            "                                                                                                  \n",
            " conv4_block11_concat (Concaten  (None, 3, 3, 608)   0           ['conv4_block10_concat[0][0]',   \n",
            " ate)                                                             'conv4_block11_2_conv[0][0]']   \n",
            "                                                                                                  \n",
            " conv4_block12_0_bn (BatchNorma  (None, 3, 3, 608)   2432        ['conv4_block11_concat[0][0]']   \n",
            " lization)                                                                                        \n",
            "                                                                                                  \n",
            " conv4_block12_0_relu (Activati  (None, 3, 3, 608)   0           ['conv4_block12_0_bn[0][0]']     \n",
            " on)                                                                                              \n",
            "                                                                                                  \n",
            " conv4_block12_1_conv (Conv2D)  (None, 3, 3, 128)    77824       ['conv4_block12_0_relu[0][0]']   \n",
            "                                                                                                  \n",
            " conv4_block12_1_bn (BatchNorma  (None, 3, 3, 128)   512         ['conv4_block12_1_conv[0][0]']   \n",
            " lization)                                                                                        \n",
            "                                                                                                  \n",
            " conv4_block12_1_relu (Activati  (None, 3, 3, 128)   0           ['conv4_block12_1_bn[0][0]']     \n",
            " on)                                                                                              \n",
            "                                                                                                  \n",
            " conv4_block12_2_conv (Conv2D)  (None, 3, 3, 32)     36864       ['conv4_block12_1_relu[0][0]']   \n",
            "                                                                                                  \n",
            " conv4_block12_concat (Concaten  (None, 3, 3, 640)   0           ['conv4_block11_concat[0][0]',   \n",
            " ate)                                                             'conv4_block12_2_conv[0][0]']   \n",
            "                                                                                                  \n",
            " conv4_block13_0_bn (BatchNorma  (None, 3, 3, 640)   2560        ['conv4_block12_concat[0][0]']   \n",
            " lization)                                                                                        \n",
            "                                                                                                  \n",
            " conv4_block13_0_relu (Activati  (None, 3, 3, 640)   0           ['conv4_block13_0_bn[0][0]']     \n",
            " on)                                                                                              \n",
            "                                                                                                  \n",
            " conv4_block13_1_conv (Conv2D)  (None, 3, 3, 128)    81920       ['conv4_block13_0_relu[0][0]']   \n",
            "                                                                                                  \n",
            " conv4_block13_1_bn (BatchNorma  (None, 3, 3, 128)   512         ['conv4_block13_1_conv[0][0]']   \n",
            " lization)                                                                                        \n",
            "                                                                                                  \n",
            " conv4_block13_1_relu (Activati  (None, 3, 3, 128)   0           ['conv4_block13_1_bn[0][0]']     \n",
            " on)                                                                                              \n",
            "                                                                                                  \n",
            " conv4_block13_2_conv (Conv2D)  (None, 3, 3, 32)     36864       ['conv4_block13_1_relu[0][0]']   \n",
            "                                                                                                  \n",
            " conv4_block13_concat (Concaten  (None, 3, 3, 672)   0           ['conv4_block12_concat[0][0]',   \n",
            " ate)                                                             'conv4_block13_2_conv[0][0]']   \n",
            "                                                                                                  \n",
            " conv4_block14_0_bn (BatchNorma  (None, 3, 3, 672)   2688        ['conv4_block13_concat[0][0]']   \n",
            " lization)                                                                                        \n",
            "                                                                                                  \n",
            " conv4_block14_0_relu (Activati  (None, 3, 3, 672)   0           ['conv4_block14_0_bn[0][0]']     \n",
            " on)                                                                                              \n",
            "                                                                                                  \n",
            " conv4_block14_1_conv (Conv2D)  (None, 3, 3, 128)    86016       ['conv4_block14_0_relu[0][0]']   \n",
            "                                                                                                  \n",
            " conv4_block14_1_bn (BatchNorma  (None, 3, 3, 128)   512         ['conv4_block14_1_conv[0][0]']   \n",
            " lization)                                                                                        \n",
            "                                                                                                  \n",
            " conv4_block14_1_relu (Activati  (None, 3, 3, 128)   0           ['conv4_block14_1_bn[0][0]']     \n",
            " on)                                                                                              \n",
            "                                                                                                  \n",
            " conv4_block14_2_conv (Conv2D)  (None, 3, 3, 32)     36864       ['conv4_block14_1_relu[0][0]']   \n",
            "                                                                                                  \n",
            " conv4_block14_concat (Concaten  (None, 3, 3, 704)   0           ['conv4_block13_concat[0][0]',   \n",
            " ate)                                                             'conv4_block14_2_conv[0][0]']   \n",
            "                                                                                                  \n",
            " conv4_block15_0_bn (BatchNorma  (None, 3, 3, 704)   2816        ['conv4_block14_concat[0][0]']   \n",
            " lization)                                                                                        \n",
            "                                                                                                  \n",
            " conv4_block15_0_relu (Activati  (None, 3, 3, 704)   0           ['conv4_block15_0_bn[0][0]']     \n",
            " on)                                                                                              \n",
            "                                                                                                  \n",
            " conv4_block15_1_conv (Conv2D)  (None, 3, 3, 128)    90112       ['conv4_block15_0_relu[0][0]']   \n",
            "                                                                                                  \n",
            " conv4_block15_1_bn (BatchNorma  (None, 3, 3, 128)   512         ['conv4_block15_1_conv[0][0]']   \n",
            " lization)                                                                                        \n",
            "                                                                                                  \n",
            " conv4_block15_1_relu (Activati  (None, 3, 3, 128)   0           ['conv4_block15_1_bn[0][0]']     \n",
            " on)                                                                                              \n",
            "                                                                                                  \n",
            " conv4_block15_2_conv (Conv2D)  (None, 3, 3, 32)     36864       ['conv4_block15_1_relu[0][0]']   \n",
            "                                                                                                  \n",
            " conv4_block15_concat (Concaten  (None, 3, 3, 736)   0           ['conv4_block14_concat[0][0]',   \n",
            " ate)                                                             'conv4_block15_2_conv[0][0]']   \n",
            "                                                                                                  \n",
            " conv4_block16_0_bn (BatchNorma  (None, 3, 3, 736)   2944        ['conv4_block15_concat[0][0]']   \n",
            " lization)                                                                                        \n",
            "                                                                                                  \n",
            " conv4_block16_0_relu (Activati  (None, 3, 3, 736)   0           ['conv4_block16_0_bn[0][0]']     \n",
            " on)                                                                                              \n",
            "                                                                                                  \n",
            " conv4_block16_1_conv (Conv2D)  (None, 3, 3, 128)    94208       ['conv4_block16_0_relu[0][0]']   \n",
            "                                                                                                  \n",
            " conv4_block16_1_bn (BatchNorma  (None, 3, 3, 128)   512         ['conv4_block16_1_conv[0][0]']   \n",
            " lization)                                                                                        \n",
            "                                                                                                  \n",
            " conv4_block16_1_relu (Activati  (None, 3, 3, 128)   0           ['conv4_block16_1_bn[0][0]']     \n",
            " on)                                                                                              \n",
            "                                                                                                  \n",
            " conv4_block16_2_conv (Conv2D)  (None, 3, 3, 32)     36864       ['conv4_block16_1_relu[0][0]']   \n",
            "                                                                                                  \n",
            " conv4_block16_concat (Concaten  (None, 3, 3, 768)   0           ['conv4_block15_concat[0][0]',   \n",
            " ate)                                                             'conv4_block16_2_conv[0][0]']   \n",
            "                                                                                                  \n",
            " conv4_block17_0_bn (BatchNorma  (None, 3, 3, 768)   3072        ['conv4_block16_concat[0][0]']   \n",
            " lization)                                                                                        \n",
            "                                                                                                  \n",
            " conv4_block17_0_relu (Activati  (None, 3, 3, 768)   0           ['conv4_block17_0_bn[0][0]']     \n",
            " on)                                                                                              \n",
            "                                                                                                  \n",
            " conv4_block17_1_conv (Conv2D)  (None, 3, 3, 128)    98304       ['conv4_block17_0_relu[0][0]']   \n",
            "                                                                                                  \n",
            " conv4_block17_1_bn (BatchNorma  (None, 3, 3, 128)   512         ['conv4_block17_1_conv[0][0]']   \n",
            " lization)                                                                                        \n",
            "                                                                                                  \n",
            " conv4_block17_1_relu (Activati  (None, 3, 3, 128)   0           ['conv4_block17_1_bn[0][0]']     \n",
            " on)                                                                                              \n",
            "                                                                                                  \n",
            " conv4_block17_2_conv (Conv2D)  (None, 3, 3, 32)     36864       ['conv4_block17_1_relu[0][0]']   \n",
            "                                                                                                  \n",
            " conv4_block17_concat (Concaten  (None, 3, 3, 800)   0           ['conv4_block16_concat[0][0]',   \n",
            " ate)                                                             'conv4_block17_2_conv[0][0]']   \n",
            "                                                                                                  \n",
            " conv4_block18_0_bn (BatchNorma  (None, 3, 3, 800)   3200        ['conv4_block17_concat[0][0]']   \n",
            " lization)                                                                                        \n",
            "                                                                                                  \n",
            " conv4_block18_0_relu (Activati  (None, 3, 3, 800)   0           ['conv4_block18_0_bn[0][0]']     \n",
            " on)                                                                                              \n",
            "                                                                                                  \n",
            " conv4_block18_1_conv (Conv2D)  (None, 3, 3, 128)    102400      ['conv4_block18_0_relu[0][0]']   \n",
            "                                                                                                  \n",
            " conv4_block18_1_bn (BatchNorma  (None, 3, 3, 128)   512         ['conv4_block18_1_conv[0][0]']   \n",
            " lization)                                                                                        \n",
            "                                                                                                  \n",
            " conv4_block18_1_relu (Activati  (None, 3, 3, 128)   0           ['conv4_block18_1_bn[0][0]']     \n",
            " on)                                                                                              \n",
            "                                                                                                  \n",
            " conv4_block18_2_conv (Conv2D)  (None, 3, 3, 32)     36864       ['conv4_block18_1_relu[0][0]']   \n",
            "                                                                                                  \n",
            " conv4_block18_concat (Concaten  (None, 3, 3, 832)   0           ['conv4_block17_concat[0][0]',   \n",
            " ate)                                                             'conv4_block18_2_conv[0][0]']   \n",
            "                                                                                                  \n",
            " conv4_block19_0_bn (BatchNorma  (None, 3, 3, 832)   3328        ['conv4_block18_concat[0][0]']   \n",
            " lization)                                                                                        \n",
            "                                                                                                  \n",
            " conv4_block19_0_relu (Activati  (None, 3, 3, 832)   0           ['conv4_block19_0_bn[0][0]']     \n",
            " on)                                                                                              \n",
            "                                                                                                  \n",
            " conv4_block19_1_conv (Conv2D)  (None, 3, 3, 128)    106496      ['conv4_block19_0_relu[0][0]']   \n",
            "                                                                                                  \n",
            " conv4_block19_1_bn (BatchNorma  (None, 3, 3, 128)   512         ['conv4_block19_1_conv[0][0]']   \n",
            " lization)                                                                                        \n",
            "                                                                                                  \n",
            " conv4_block19_1_relu (Activati  (None, 3, 3, 128)   0           ['conv4_block19_1_bn[0][0]']     \n",
            " on)                                                                                              \n",
            "                                                                                                  \n",
            " conv4_block19_2_conv (Conv2D)  (None, 3, 3, 32)     36864       ['conv4_block19_1_relu[0][0]']   \n",
            "                                                                                                  \n",
            " conv4_block19_concat (Concaten  (None, 3, 3, 864)   0           ['conv4_block18_concat[0][0]',   \n",
            " ate)                                                             'conv4_block19_2_conv[0][0]']   \n",
            "                                                                                                  \n",
            " conv4_block20_0_bn (BatchNorma  (None, 3, 3, 864)   3456        ['conv4_block19_concat[0][0]']   \n",
            " lization)                                                                                        \n",
            "                                                                                                  \n",
            " conv4_block20_0_relu (Activati  (None, 3, 3, 864)   0           ['conv4_block20_0_bn[0][0]']     \n",
            " on)                                                                                              \n",
            "                                                                                                  \n",
            " conv4_block20_1_conv (Conv2D)  (None, 3, 3, 128)    110592      ['conv4_block20_0_relu[0][0]']   \n",
            "                                                                                                  \n",
            " conv4_block20_1_bn (BatchNorma  (None, 3, 3, 128)   512         ['conv4_block20_1_conv[0][0]']   \n",
            " lization)                                                                                        \n",
            "                                                                                                  \n",
            " conv4_block20_1_relu (Activati  (None, 3, 3, 128)   0           ['conv4_block20_1_bn[0][0]']     \n",
            " on)                                                                                              \n",
            "                                                                                                  \n",
            " conv4_block20_2_conv (Conv2D)  (None, 3, 3, 32)     36864       ['conv4_block20_1_relu[0][0]']   \n",
            "                                                                                                  \n",
            " conv4_block20_concat (Concaten  (None, 3, 3, 896)   0           ['conv4_block19_concat[0][0]',   \n",
            " ate)                                                             'conv4_block20_2_conv[0][0]']   \n",
            "                                                                                                  \n",
            " conv4_block21_0_bn (BatchNorma  (None, 3, 3, 896)   3584        ['conv4_block20_concat[0][0]']   \n",
            " lization)                                                                                        \n",
            "                                                                                                  \n",
            " conv4_block21_0_relu (Activati  (None, 3, 3, 896)   0           ['conv4_block21_0_bn[0][0]']     \n",
            " on)                                                                                              \n",
            "                                                                                                  \n",
            " conv4_block21_1_conv (Conv2D)  (None, 3, 3, 128)    114688      ['conv4_block21_0_relu[0][0]']   \n",
            "                                                                                                  \n",
            " conv4_block21_1_bn (BatchNorma  (None, 3, 3, 128)   512         ['conv4_block21_1_conv[0][0]']   \n",
            " lization)                                                                                        \n",
            "                                                                                                  \n",
            " conv4_block21_1_relu (Activati  (None, 3, 3, 128)   0           ['conv4_block21_1_bn[0][0]']     \n",
            " on)                                                                                              \n",
            "                                                                                                  \n",
            " conv4_block21_2_conv (Conv2D)  (None, 3, 3, 32)     36864       ['conv4_block21_1_relu[0][0]']   \n",
            "                                                                                                  \n",
            " conv4_block21_concat (Concaten  (None, 3, 3, 928)   0           ['conv4_block20_concat[0][0]',   \n",
            " ate)                                                             'conv4_block21_2_conv[0][0]']   \n",
            "                                                                                                  \n",
            " conv4_block22_0_bn (BatchNorma  (None, 3, 3, 928)   3712        ['conv4_block21_concat[0][0]']   \n",
            " lization)                                                                                        \n",
            "                                                                                                  \n",
            " conv4_block22_0_relu (Activati  (None, 3, 3, 928)   0           ['conv4_block22_0_bn[0][0]']     \n",
            " on)                                                                                              \n",
            "                                                                                                  \n",
            " conv4_block22_1_conv (Conv2D)  (None, 3, 3, 128)    118784      ['conv4_block22_0_relu[0][0]']   \n",
            "                                                                                                  \n",
            " conv4_block22_1_bn (BatchNorma  (None, 3, 3, 128)   512         ['conv4_block22_1_conv[0][0]']   \n",
            " lization)                                                                                        \n",
            "                                                                                                  \n",
            " conv4_block22_1_relu (Activati  (None, 3, 3, 128)   0           ['conv4_block22_1_bn[0][0]']     \n",
            " on)                                                                                              \n",
            "                                                                                                  \n",
            " conv4_block22_2_conv (Conv2D)  (None, 3, 3, 32)     36864       ['conv4_block22_1_relu[0][0]']   \n",
            "                                                                                                  \n",
            " conv4_block22_concat (Concaten  (None, 3, 3, 960)   0           ['conv4_block21_concat[0][0]',   \n",
            " ate)                                                             'conv4_block22_2_conv[0][0]']   \n",
            "                                                                                                  \n",
            " conv4_block23_0_bn (BatchNorma  (None, 3, 3, 960)   3840        ['conv4_block22_concat[0][0]']   \n",
            " lization)                                                                                        \n",
            "                                                                                                  \n",
            " conv4_block23_0_relu (Activati  (None, 3, 3, 960)   0           ['conv4_block23_0_bn[0][0]']     \n",
            " on)                                                                                              \n",
            "                                                                                                  \n",
            " conv4_block23_1_conv (Conv2D)  (None, 3, 3, 128)    122880      ['conv4_block23_0_relu[0][0]']   \n",
            "                                                                                                  \n",
            " conv4_block23_1_bn (BatchNorma  (None, 3, 3, 128)   512         ['conv4_block23_1_conv[0][0]']   \n",
            " lization)                                                                                        \n",
            "                                                                                                  \n",
            " conv4_block23_1_relu (Activati  (None, 3, 3, 128)   0           ['conv4_block23_1_bn[0][0]']     \n",
            " on)                                                                                              \n",
            "                                                                                                  \n",
            " conv4_block23_2_conv (Conv2D)  (None, 3, 3, 32)     36864       ['conv4_block23_1_relu[0][0]']   \n",
            "                                                                                                  \n",
            " conv4_block23_concat (Concaten  (None, 3, 3, 992)   0           ['conv4_block22_concat[0][0]',   \n",
            " ate)                                                             'conv4_block23_2_conv[0][0]']   \n",
            "                                                                                                  \n",
            " conv4_block24_0_bn (BatchNorma  (None, 3, 3, 992)   3968        ['conv4_block23_concat[0][0]']   \n",
            " lization)                                                                                        \n",
            "                                                                                                  \n",
            " conv4_block24_0_relu (Activati  (None, 3, 3, 992)   0           ['conv4_block24_0_bn[0][0]']     \n",
            " on)                                                                                              \n",
            "                                                                                                  \n",
            " conv4_block24_1_conv (Conv2D)  (None, 3, 3, 128)    126976      ['conv4_block24_0_relu[0][0]']   \n",
            "                                                                                                  \n",
            " conv4_block24_1_bn (BatchNorma  (None, 3, 3, 128)   512         ['conv4_block24_1_conv[0][0]']   \n",
            " lization)                                                                                        \n",
            "                                                                                                  \n",
            " conv4_block24_1_relu (Activati  (None, 3, 3, 128)   0           ['conv4_block24_1_bn[0][0]']     \n",
            " on)                                                                                              \n",
            "                                                                                                  \n",
            " conv4_block24_2_conv (Conv2D)  (None, 3, 3, 32)     36864       ['conv4_block24_1_relu[0][0]']   \n",
            "                                                                                                  \n",
            " conv4_block24_concat (Concaten  (None, 3, 3, 1024)  0           ['conv4_block23_concat[0][0]',   \n",
            " ate)                                                             'conv4_block24_2_conv[0][0]']   \n",
            "                                                                                                  \n",
            " pool4_bn (BatchNormalization)  (None, 3, 3, 1024)   4096        ['conv4_block24_concat[0][0]']   \n",
            "                                                                                                  \n",
            " pool4_relu (Activation)        (None, 3, 3, 1024)   0           ['pool4_bn[0][0]']               \n",
            "                                                                                                  \n",
            " pool4_conv (Conv2D)            (None, 3, 3, 512)    524288      ['pool4_relu[0][0]']             \n",
            "                                                                                                  \n",
            " pool4_pool (AveragePooling2D)  (None, 1, 1, 512)    0           ['pool4_conv[0][0]']             \n",
            "                                                                                                  \n",
            " conv5_block1_0_bn (BatchNormal  (None, 1, 1, 512)   2048        ['pool4_pool[0][0]']             \n",
            " ization)                                                                                         \n",
            "                                                                                                  \n",
            " conv5_block1_0_relu (Activatio  (None, 1, 1, 512)   0           ['conv5_block1_0_bn[0][0]']      \n",
            " n)                                                                                               \n",
            "                                                                                                  \n",
            " conv5_block1_1_conv (Conv2D)   (None, 1, 1, 128)    65536       ['conv5_block1_0_relu[0][0]']    \n",
            "                                                                                                  \n",
            " conv5_block1_1_bn (BatchNormal  (None, 1, 1, 128)   512         ['conv5_block1_1_conv[0][0]']    \n",
            " ization)                                                                                         \n",
            "                                                                                                  \n",
            " conv5_block1_1_relu (Activatio  (None, 1, 1, 128)   0           ['conv5_block1_1_bn[0][0]']      \n",
            " n)                                                                                               \n",
            "                                                                                                  \n",
            " conv5_block1_2_conv (Conv2D)   (None, 1, 1, 32)     36864       ['conv5_block1_1_relu[0][0]']    \n",
            "                                                                                                  \n",
            " conv5_block1_concat (Concatena  (None, 1, 1, 544)   0           ['pool4_pool[0][0]',             \n",
            " te)                                                              'conv5_block1_2_conv[0][0]']    \n",
            "                                                                                                  \n",
            " conv5_block2_0_bn (BatchNormal  (None, 1, 1, 544)   2176        ['conv5_block1_concat[0][0]']    \n",
            " ization)                                                                                         \n",
            "                                                                                                  \n",
            " conv5_block2_0_relu (Activatio  (None, 1, 1, 544)   0           ['conv5_block2_0_bn[0][0]']      \n",
            " n)                                                                                               \n",
            "                                                                                                  \n",
            " conv5_block2_1_conv (Conv2D)   (None, 1, 1, 128)    69632       ['conv5_block2_0_relu[0][0]']    \n",
            "                                                                                                  \n",
            " conv5_block2_1_bn (BatchNormal  (None, 1, 1, 128)   512         ['conv5_block2_1_conv[0][0]']    \n",
            " ization)                                                                                         \n",
            "                                                                                                  \n",
            " conv5_block2_1_relu (Activatio  (None, 1, 1, 128)   0           ['conv5_block2_1_bn[0][0]']      \n",
            " n)                                                                                               \n",
            "                                                                                                  \n",
            " conv5_block2_2_conv (Conv2D)   (None, 1, 1, 32)     36864       ['conv5_block2_1_relu[0][0]']    \n",
            "                                                                                                  \n",
            " conv5_block2_concat (Concatena  (None, 1, 1, 576)   0           ['conv5_block1_concat[0][0]',    \n",
            " te)                                                              'conv5_block2_2_conv[0][0]']    \n",
            "                                                                                                  \n",
            " conv5_block3_0_bn (BatchNormal  (None, 1, 1, 576)   2304        ['conv5_block2_concat[0][0]']    \n",
            " ization)                                                                                         \n",
            "                                                                                                  \n",
            " conv5_block3_0_relu (Activatio  (None, 1, 1, 576)   0           ['conv5_block3_0_bn[0][0]']      \n",
            " n)                                                                                               \n",
            "                                                                                                  \n",
            " conv5_block3_1_conv (Conv2D)   (None, 1, 1, 128)    73728       ['conv5_block3_0_relu[0][0]']    \n",
            "                                                                                                  \n",
            " conv5_block3_1_bn (BatchNormal  (None, 1, 1, 128)   512         ['conv5_block3_1_conv[0][0]']    \n",
            " ization)                                                                                         \n",
            "                                                                                                  \n",
            " conv5_block3_1_relu (Activatio  (None, 1, 1, 128)   0           ['conv5_block3_1_bn[0][0]']      \n",
            " n)                                                                                               \n",
            "                                                                                                  \n",
            " conv5_block3_2_conv (Conv2D)   (None, 1, 1, 32)     36864       ['conv5_block3_1_relu[0][0]']    \n",
            "                                                                                                  \n",
            " conv5_block3_concat (Concatena  (None, 1, 1, 608)   0           ['conv5_block2_concat[0][0]',    \n",
            " te)                                                              'conv5_block3_2_conv[0][0]']    \n",
            "                                                                                                  \n",
            " conv5_block4_0_bn (BatchNormal  (None, 1, 1, 608)   2432        ['conv5_block3_concat[0][0]']    \n",
            " ization)                                                                                         \n",
            "                                                                                                  \n",
            " conv5_block4_0_relu (Activatio  (None, 1, 1, 608)   0           ['conv5_block4_0_bn[0][0]']      \n",
            " n)                                                                                               \n",
            "                                                                                                  \n",
            " conv5_block4_1_conv (Conv2D)   (None, 1, 1, 128)    77824       ['conv5_block4_0_relu[0][0]']    \n",
            "                                                                                                  \n",
            " conv5_block4_1_bn (BatchNormal  (None, 1, 1, 128)   512         ['conv5_block4_1_conv[0][0]']    \n",
            " ization)                                                                                         \n",
            "                                                                                                  \n",
            " conv5_block4_1_relu (Activatio  (None, 1, 1, 128)   0           ['conv5_block4_1_bn[0][0]']      \n",
            " n)                                                                                               \n",
            "                                                                                                  \n",
            " conv5_block4_2_conv (Conv2D)   (None, 1, 1, 32)     36864       ['conv5_block4_1_relu[0][0]']    \n",
            "                                                                                                  \n",
            " conv5_block4_concat (Concatena  (None, 1, 1, 640)   0           ['conv5_block3_concat[0][0]',    \n",
            " te)                                                              'conv5_block4_2_conv[0][0]']    \n",
            "                                                                                                  \n",
            " conv5_block5_0_bn (BatchNormal  (None, 1, 1, 640)   2560        ['conv5_block4_concat[0][0]']    \n",
            " ization)                                                                                         \n",
            "                                                                                                  \n",
            " conv5_block5_0_relu (Activatio  (None, 1, 1, 640)   0           ['conv5_block5_0_bn[0][0]']      \n",
            " n)                                                                                               \n",
            "                                                                                                  \n",
            " conv5_block5_1_conv (Conv2D)   (None, 1, 1, 128)    81920       ['conv5_block5_0_relu[0][0]']    \n",
            "                                                                                                  \n",
            " conv5_block5_1_bn (BatchNormal  (None, 1, 1, 128)   512         ['conv5_block5_1_conv[0][0]']    \n",
            " ization)                                                                                         \n",
            "                                                                                                  \n",
            " conv5_block5_1_relu (Activatio  (None, 1, 1, 128)   0           ['conv5_block5_1_bn[0][0]']      \n",
            " n)                                                                                               \n",
            "                                                                                                  \n",
            " conv5_block5_2_conv (Conv2D)   (None, 1, 1, 32)     36864       ['conv5_block5_1_relu[0][0]']    \n",
            "                                                                                                  \n",
            " conv5_block5_concat (Concatena  (None, 1, 1, 672)   0           ['conv5_block4_concat[0][0]',    \n",
            " te)                                                              'conv5_block5_2_conv[0][0]']    \n",
            "                                                                                                  \n",
            " conv5_block6_0_bn (BatchNormal  (None, 1, 1, 672)   2688        ['conv5_block5_concat[0][0]']    \n",
            " ization)                                                                                         \n",
            "                                                                                                  \n",
            " conv5_block6_0_relu (Activatio  (None, 1, 1, 672)   0           ['conv5_block6_0_bn[0][0]']      \n",
            " n)                                                                                               \n",
            "                                                                                                  \n",
            " conv5_block6_1_conv (Conv2D)   (None, 1, 1, 128)    86016       ['conv5_block6_0_relu[0][0]']    \n",
            "                                                                                                  \n",
            " conv5_block6_1_bn (BatchNormal  (None, 1, 1, 128)   512         ['conv5_block6_1_conv[0][0]']    \n",
            " ization)                                                                                         \n",
            "                                                                                                  \n",
            " conv5_block6_1_relu (Activatio  (None, 1, 1, 128)   0           ['conv5_block6_1_bn[0][0]']      \n",
            " n)                                                                                               \n",
            "                                                                                                  \n",
            " conv5_block6_2_conv (Conv2D)   (None, 1, 1, 32)     36864       ['conv5_block6_1_relu[0][0]']    \n",
            "                                                                                                  \n",
            " conv5_block6_concat (Concatena  (None, 1, 1, 704)   0           ['conv5_block5_concat[0][0]',    \n",
            " te)                                                              'conv5_block6_2_conv[0][0]']    \n",
            "                                                                                                  \n",
            " conv5_block7_0_bn (BatchNormal  (None, 1, 1, 704)   2816        ['conv5_block6_concat[0][0]']    \n",
            " ization)                                                                                         \n",
            "                                                                                                  \n",
            " conv5_block7_0_relu (Activatio  (None, 1, 1, 704)   0           ['conv5_block7_0_bn[0][0]']      \n",
            " n)                                                                                               \n",
            "                                                                                                  \n",
            " conv5_block7_1_conv (Conv2D)   (None, 1, 1, 128)    90112       ['conv5_block7_0_relu[0][0]']    \n",
            "                                                                                                  \n",
            " conv5_block7_1_bn (BatchNormal  (None, 1, 1, 128)   512         ['conv5_block7_1_conv[0][0]']    \n",
            " ization)                                                                                         \n",
            "                                                                                                  \n",
            " conv5_block7_1_relu (Activatio  (None, 1, 1, 128)   0           ['conv5_block7_1_bn[0][0]']      \n",
            " n)                                                                                               \n",
            "                                                                                                  \n",
            " conv5_block7_2_conv (Conv2D)   (None, 1, 1, 32)     36864       ['conv5_block7_1_relu[0][0]']    \n",
            "                                                                                                  \n",
            " conv5_block7_concat (Concatena  (None, 1, 1, 736)   0           ['conv5_block6_concat[0][0]',    \n",
            " te)                                                              'conv5_block7_2_conv[0][0]']    \n",
            "                                                                                                  \n",
            " conv5_block8_0_bn (BatchNormal  (None, 1, 1, 736)   2944        ['conv5_block7_concat[0][0]']    \n",
            " ization)                                                                                         \n",
            "                                                                                                  \n",
            " conv5_block8_0_relu (Activatio  (None, 1, 1, 736)   0           ['conv5_block8_0_bn[0][0]']      \n",
            " n)                                                                                               \n",
            "                                                                                                  \n",
            " conv5_block8_1_conv (Conv2D)   (None, 1, 1, 128)    94208       ['conv5_block8_0_relu[0][0]']    \n",
            "                                                                                                  \n",
            " conv5_block8_1_bn (BatchNormal  (None, 1, 1, 128)   512         ['conv5_block8_1_conv[0][0]']    \n",
            " ization)                                                                                         \n",
            "                                                                                                  \n",
            " conv5_block8_1_relu (Activatio  (None, 1, 1, 128)   0           ['conv5_block8_1_bn[0][0]']      \n",
            " n)                                                                                               \n",
            "                                                                                                  \n",
            " conv5_block8_2_conv (Conv2D)   (None, 1, 1, 32)     36864       ['conv5_block8_1_relu[0][0]']    \n",
            "                                                                                                  \n",
            " conv5_block8_concat (Concatena  (None, 1, 1, 768)   0           ['conv5_block7_concat[0][0]',    \n",
            " te)                                                              'conv5_block8_2_conv[0][0]']    \n",
            "                                                                                                  \n",
            " conv5_block9_0_bn (BatchNormal  (None, 1, 1, 768)   3072        ['conv5_block8_concat[0][0]']    \n",
            " ization)                                                                                         \n",
            "                                                                                                  \n",
            " conv5_block9_0_relu (Activatio  (None, 1, 1, 768)   0           ['conv5_block9_0_bn[0][0]']      \n",
            " n)                                                                                               \n",
            "                                                                                                  \n",
            " conv5_block9_1_conv (Conv2D)   (None, 1, 1, 128)    98304       ['conv5_block9_0_relu[0][0]']    \n",
            "                                                                                                  \n",
            " conv5_block9_1_bn (BatchNormal  (None, 1, 1, 128)   512         ['conv5_block9_1_conv[0][0]']    \n",
            " ization)                                                                                         \n",
            "                                                                                                  \n",
            " conv5_block9_1_relu (Activatio  (None, 1, 1, 128)   0           ['conv5_block9_1_bn[0][0]']      \n",
            " n)                                                                                               \n",
            "                                                                                                  \n",
            " conv5_block9_2_conv (Conv2D)   (None, 1, 1, 32)     36864       ['conv5_block9_1_relu[0][0]']    \n",
            "                                                                                                  \n",
            " conv5_block9_concat (Concatena  (None, 1, 1, 800)   0           ['conv5_block8_concat[0][0]',    \n",
            " te)                                                              'conv5_block9_2_conv[0][0]']    \n",
            "                                                                                                  \n",
            " conv5_block10_0_bn (BatchNorma  (None, 1, 1, 800)   3200        ['conv5_block9_concat[0][0]']    \n",
            " lization)                                                                                        \n",
            "                                                                                                  \n",
            " conv5_block10_0_relu (Activati  (None, 1, 1, 800)   0           ['conv5_block10_0_bn[0][0]']     \n",
            " on)                                                                                              \n",
            "                                                                                                  \n",
            " conv5_block10_1_conv (Conv2D)  (None, 1, 1, 128)    102400      ['conv5_block10_0_relu[0][0]']   \n",
            "                                                                                                  \n",
            " conv5_block10_1_bn (BatchNorma  (None, 1, 1, 128)   512         ['conv5_block10_1_conv[0][0]']   \n",
            " lization)                                                                                        \n",
            "                                                                                                  \n",
            " conv5_block10_1_relu (Activati  (None, 1, 1, 128)   0           ['conv5_block10_1_bn[0][0]']     \n",
            " on)                                                                                              \n",
            "                                                                                                  \n",
            " conv5_block10_2_conv (Conv2D)  (None, 1, 1, 32)     36864       ['conv5_block10_1_relu[0][0]']   \n",
            "                                                                                                  \n",
            " conv5_block10_concat (Concaten  (None, 1, 1, 832)   0           ['conv5_block9_concat[0][0]',    \n",
            " ate)                                                             'conv5_block10_2_conv[0][0]']   \n",
            "                                                                                                  \n",
            " conv5_block11_0_bn (BatchNorma  (None, 1, 1, 832)   3328        ['conv5_block10_concat[0][0]']   \n",
            " lization)                                                                                        \n",
            "                                                                                                  \n",
            " conv5_block11_0_relu (Activati  (None, 1, 1, 832)   0           ['conv5_block11_0_bn[0][0]']     \n",
            " on)                                                                                              \n",
            "                                                                                                  \n",
            " conv5_block11_1_conv (Conv2D)  (None, 1, 1, 128)    106496      ['conv5_block11_0_relu[0][0]']   \n",
            "                                                                                                  \n",
            " conv5_block11_1_bn (BatchNorma  (None, 1, 1, 128)   512         ['conv5_block11_1_conv[0][0]']   \n",
            " lization)                                                                                        \n",
            "                                                                                                  \n",
            " conv5_block11_1_relu (Activati  (None, 1, 1, 128)   0           ['conv5_block11_1_bn[0][0]']     \n",
            " on)                                                                                              \n",
            "                                                                                                  \n",
            " conv5_block11_2_conv (Conv2D)  (None, 1, 1, 32)     36864       ['conv5_block11_1_relu[0][0]']   \n",
            "                                                                                                  \n",
            " conv5_block11_concat (Concaten  (None, 1, 1, 864)   0           ['conv5_block10_concat[0][0]',   \n",
            " ate)                                                             'conv5_block11_2_conv[0][0]']   \n",
            "                                                                                                  \n",
            " conv5_block12_0_bn (BatchNorma  (None, 1, 1, 864)   3456        ['conv5_block11_concat[0][0]']   \n",
            " lization)                                                                                        \n",
            "                                                                                                  \n",
            " conv5_block12_0_relu (Activati  (None, 1, 1, 864)   0           ['conv5_block12_0_bn[0][0]']     \n",
            " on)                                                                                              \n",
            "                                                                                                  \n",
            " conv5_block12_1_conv (Conv2D)  (None, 1, 1, 128)    110592      ['conv5_block12_0_relu[0][0]']   \n",
            "                                                                                                  \n",
            " conv5_block12_1_bn (BatchNorma  (None, 1, 1, 128)   512         ['conv5_block12_1_conv[0][0]']   \n",
            " lization)                                                                                        \n",
            "                                                                                                  \n",
            " conv5_block12_1_relu (Activati  (None, 1, 1, 128)   0           ['conv5_block12_1_bn[0][0]']     \n",
            " on)                                                                                              \n",
            "                                                                                                  \n",
            " conv5_block12_2_conv (Conv2D)  (None, 1, 1, 32)     36864       ['conv5_block12_1_relu[0][0]']   \n",
            "                                                                                                  \n",
            " conv5_block12_concat (Concaten  (None, 1, 1, 896)   0           ['conv5_block11_concat[0][0]',   \n",
            " ate)                                                             'conv5_block12_2_conv[0][0]']   \n",
            "                                                                                                  \n",
            " conv5_block13_0_bn (BatchNorma  (None, 1, 1, 896)   3584        ['conv5_block12_concat[0][0]']   \n",
            " lization)                                                                                        \n",
            "                                                                                                  \n",
            " conv5_block13_0_relu (Activati  (None, 1, 1, 896)   0           ['conv5_block13_0_bn[0][0]']     \n",
            " on)                                                                                              \n",
            "                                                                                                  \n",
            " conv5_block13_1_conv (Conv2D)  (None, 1, 1, 128)    114688      ['conv5_block13_0_relu[0][0]']   \n",
            "                                                                                                  \n",
            " conv5_block13_1_bn (BatchNorma  (None, 1, 1, 128)   512         ['conv5_block13_1_conv[0][0]']   \n",
            " lization)                                                                                        \n",
            "                                                                                                  \n",
            " conv5_block13_1_relu (Activati  (None, 1, 1, 128)   0           ['conv5_block13_1_bn[0][0]']     \n",
            " on)                                                                                              \n",
            "                                                                                                  \n",
            " conv5_block13_2_conv (Conv2D)  (None, 1, 1, 32)     36864       ['conv5_block13_1_relu[0][0]']   \n",
            "                                                                                                  \n",
            " conv5_block13_concat (Concaten  (None, 1, 1, 928)   0           ['conv5_block12_concat[0][0]',   \n",
            " ate)                                                             'conv5_block13_2_conv[0][0]']   \n",
            "                                                                                                  \n",
            " conv5_block14_0_bn (BatchNorma  (None, 1, 1, 928)   3712        ['conv5_block13_concat[0][0]']   \n",
            " lization)                                                                                        \n",
            "                                                                                                  \n",
            " conv5_block14_0_relu (Activati  (None, 1, 1, 928)   0           ['conv5_block14_0_bn[0][0]']     \n",
            " on)                                                                                              \n",
            "                                                                                                  \n",
            " conv5_block14_1_conv (Conv2D)  (None, 1, 1, 128)    118784      ['conv5_block14_0_relu[0][0]']   \n",
            "                                                                                                  \n",
            " conv5_block14_1_bn (BatchNorma  (None, 1, 1, 128)   512         ['conv5_block14_1_conv[0][0]']   \n",
            " lization)                                                                                        \n",
            "                                                                                                  \n",
            " conv5_block14_1_relu (Activati  (None, 1, 1, 128)   0           ['conv5_block14_1_bn[0][0]']     \n",
            " on)                                                                                              \n",
            "                                                                                                  \n",
            " conv5_block14_2_conv (Conv2D)  (None, 1, 1, 32)     36864       ['conv5_block14_1_relu[0][0]']   \n",
            "                                                                                                  \n",
            " conv5_block14_concat (Concaten  (None, 1, 1, 960)   0           ['conv5_block13_concat[0][0]',   \n",
            " ate)                                                             'conv5_block14_2_conv[0][0]']   \n",
            "                                                                                                  \n",
            " conv5_block15_0_bn (BatchNorma  (None, 1, 1, 960)   3840        ['conv5_block14_concat[0][0]']   \n",
            " lization)                                                                                        \n",
            "                                                                                                  \n",
            " conv5_block15_0_relu (Activati  (None, 1, 1, 960)   0           ['conv5_block15_0_bn[0][0]']     \n",
            " on)                                                                                              \n",
            "                                                                                                  \n",
            " conv5_block15_1_conv (Conv2D)  (None, 1, 1, 128)    122880      ['conv5_block15_0_relu[0][0]']   \n",
            "                                                                                                  \n",
            " conv5_block15_1_bn (BatchNorma  (None, 1, 1, 128)   512         ['conv5_block15_1_conv[0][0]']   \n",
            " lization)                                                                                        \n",
            "                                                                                                  \n",
            " conv5_block15_1_relu (Activati  (None, 1, 1, 128)   0           ['conv5_block15_1_bn[0][0]']     \n",
            " on)                                                                                              \n",
            "                                                                                                  \n",
            " conv5_block15_2_conv (Conv2D)  (None, 1, 1, 32)     36864       ['conv5_block15_1_relu[0][0]']   \n",
            "                                                                                                  \n",
            " conv5_block15_concat (Concaten  (None, 1, 1, 992)   0           ['conv5_block14_concat[0][0]',   \n",
            " ate)                                                             'conv5_block15_2_conv[0][0]']   \n",
            "                                                                                                  \n",
            " conv5_block16_0_bn (BatchNorma  (None, 1, 1, 992)   3968        ['conv5_block15_concat[0][0]']   \n",
            " lization)                                                                                        \n",
            "                                                                                                  \n",
            " conv5_block16_0_relu (Activati  (None, 1, 1, 992)   0           ['conv5_block16_0_bn[0][0]']     \n",
            " on)                                                                                              \n",
            "                                                                                                  \n",
            " conv5_block16_1_conv (Conv2D)  (None, 1, 1, 128)    126976      ['conv5_block16_0_relu[0][0]']   \n",
            "                                                                                                  \n",
            " conv5_block16_1_bn (BatchNorma  (None, 1, 1, 128)   512         ['conv5_block16_1_conv[0][0]']   \n",
            " lization)                                                                                        \n",
            "                                                                                                  \n",
            " conv5_block16_1_relu (Activati  (None, 1, 1, 128)   0           ['conv5_block16_1_bn[0][0]']     \n",
            " on)                                                                                              \n",
            "                                                                                                  \n",
            " conv5_block16_2_conv (Conv2D)  (None, 1, 1, 32)     36864       ['conv5_block16_1_relu[0][0]']   \n",
            "                                                                                                  \n",
            " conv5_block16_concat (Concaten  (None, 1, 1, 1024)  0           ['conv5_block15_concat[0][0]',   \n",
            " ate)                                                             'conv5_block16_2_conv[0][0]']   \n",
            "                                                                                                  \n",
            " bn (BatchNormalization)        (None, 1, 1, 1024)   4096        ['conv5_block16_concat[0][0]']   \n",
            "                                                                                                  \n",
            " relu (Activation)              (None, 1, 1, 1024)   0           ['bn[0][0]']                     \n",
            "                                                                                                  \n",
            " dropout_14 (Dropout)           (None, 1, 1, 1024)   0           ['relu[0][0]']                   \n",
            "                                                                                                  \n",
            " global_average_pooling2d_1 (Gl  (None, 1024)        0           ['dropout_14[0][0]']             \n",
            " obalAveragePooling2D)                                                                            \n",
            "                                                                                                  \n",
            " dense_12 (Dense)               (None, 256)          262400      ['global_average_pooling2d_1[0][0\n",
            "                                                                 ]']                              \n",
            "                                                                                                  \n",
            " dropout_15 (Dropout)           (None, 256)          0           ['dense_12[0][0]']               \n",
            "                                                                                                  \n",
            " dense_13 (Dense)               (None, 10)           2570        ['dropout_15[0][0]']             \n",
            "                                                                                                  \n",
            "==================================================================================================\n",
            "Total params: 7,302,474\n",
            "Trainable params: 7,218,826\n",
            "Non-trainable params: 83,648\n",
            "__________________________________________________________________________________________________\n"
          ]
        }
      ]
    },
    {
      "cell_type": "code",
      "metadata": {
        "id": "wOy1jEa3r8p4",
        "colab": {
          "base_uri": "https://localhost:8080/"
        },
        "outputId": "53e06b27-2808-483b-b08c-6f561adbc3da"
      },
      "source": [
        "batch_size = 256\n",
        "epochs = 10\n",
        "\n",
        "history6 = model6.fit(x_train_2, y_train,\n",
        "          batch_size=batch_size,\n",
        "          epochs=epochs,\n",
        "          verbose=1,\n",
        "          validation_data=(x_val_2, y_val))"
      ],
      "execution_count": null,
      "outputs": [
        {
          "output_type": "stream",
          "name": "stdout",
          "text": [
            "Epoch 1/10\n",
            "188/188 [==============================] - 111s 489ms/step - loss: 0.5187 - accuracy: 0.8337 - f1_m: 0.8297 - precision_m: 0.8831 - recall_m: 0.7897 - val_loss: 0.9250 - val_accuracy: 0.7653 - val_f1_m: 0.7621 - val_precision_m: 0.7849 - val_recall_m: 0.7407\n",
            "Epoch 2/10\n",
            "188/188 [==============================] - 84s 448ms/step - loss: 0.2568 - accuracy: 0.9143 - f1_m: 0.9141 - precision_m: 0.9326 - recall_m: 0.8964 - val_loss: 0.2545 - val_accuracy: 0.9105 - val_f1_m: 0.9119 - val_precision_m: 0.9279 - val_recall_m: 0.8965\n",
            "Epoch 3/10\n",
            "188/188 [==============================] - 84s 449ms/step - loss: 0.2096 - accuracy: 0.9300 - f1_m: 0.9297 - precision_m: 0.9429 - recall_m: 0.9168 - val_loss: 0.2082 - val_accuracy: 0.9231 - val_f1_m: 0.9245 - val_precision_m: 0.9345 - val_recall_m: 0.9148\n",
            "Epoch 4/10\n",
            "188/188 [==============================] - 84s 448ms/step - loss: 0.1759 - accuracy: 0.9399 - f1_m: 0.9400 - precision_m: 0.9498 - recall_m: 0.9304 - val_loss: 0.2284 - val_accuracy: 0.9258 - val_f1_m: 0.9269 - val_precision_m: 0.9319 - val_recall_m: 0.9221\n",
            "Epoch 5/10\n",
            "188/188 [==============================] - 84s 449ms/step - loss: 0.1633 - accuracy: 0.9432 - f1_m: 0.9434 - precision_m: 0.9525 - recall_m: 0.9345 - val_loss: 0.2099 - val_accuracy: 0.9268 - val_f1_m: 0.9262 - val_precision_m: 0.9392 - val_recall_m: 0.9136\n",
            "Epoch 6/10\n",
            "188/188 [==============================] - 84s 448ms/step - loss: 0.1448 - accuracy: 0.9494 - f1_m: 0.9492 - precision_m: 0.9561 - recall_m: 0.9423 - val_loss: 0.4110 - val_accuracy: 0.8620 - val_f1_m: 0.8624 - val_precision_m: 0.8703 - val_recall_m: 0.8547\n",
            "Epoch 7/10\n",
            "188/188 [==============================] - 84s 447ms/step - loss: 0.1358 - accuracy: 0.9528 - f1_m: 0.9533 - precision_m: 0.9594 - recall_m: 0.9474 - val_loss: 0.2444 - val_accuracy: 0.9220 - val_f1_m: 0.9230 - val_precision_m: 0.9296 - val_recall_m: 0.9165\n",
            "Epoch 8/10\n",
            "188/188 [==============================] - 84s 446ms/step - loss: 0.1288 - accuracy: 0.9554 - f1_m: 0.9553 - precision_m: 0.9611 - recall_m: 0.9496 - val_loss: 0.2343 - val_accuracy: 0.9173 - val_f1_m: 0.9188 - val_precision_m: 0.9259 - val_recall_m: 0.9118\n",
            "Epoch 9/10\n",
            "188/188 [==============================] - 84s 446ms/step - loss: 0.1065 - accuracy: 0.9634 - f1_m: 0.9631 - precision_m: 0.9675 - recall_m: 0.9588 - val_loss: 0.2333 - val_accuracy: 0.9260 - val_f1_m: 0.9266 - val_precision_m: 0.9315 - val_recall_m: 0.9219\n",
            "Epoch 10/10\n",
            "188/188 [==============================] - 84s 446ms/step - loss: 0.1033 - accuracy: 0.9645 - f1_m: 0.9646 - precision_m: 0.9683 - recall_m: 0.9609 - val_loss: 0.2771 - val_accuracy: 0.9171 - val_f1_m: 0.9172 - val_precision_m: 0.9235 - val_recall_m: 0.9110\n"
          ]
        }
      ]
    },
    {
      "cell_type": "code",
      "metadata": {
        "id": "rHD-cVV0uCm9",
        "colab": {
          "base_uri": "https://localhost:8080/"
        },
        "outputId": "f35bc4c3-214e-4b44-e74c-baa64dc06ac4"
      },
      "source": [
        "# evaluate the model\n",
        "loss, accuracy, f1_score, precision, recall = model6.evaluate(x_test_2, y_test, verbose=0)\n",
        "print('Test loss:',loss)\n",
        "print('Test accuracy:', accuracy)\n",
        "print('Test f1_score:', f1_score)\n",
        "print('Test precision:', precision)\n",
        "print('Test recall:', recall)"
      ],
      "execution_count": null,
      "outputs": [
        {
          "output_type": "stream",
          "name": "stdout",
          "text": [
            "Test loss: 0.3201328217983246\n",
            "Test accuracy: 0.9088000059127808\n",
            "Test f1_score: 0.9092434644699097\n",
            "Test precision: 0.9155828356742859\n",
            "Test recall: 0.9031549692153931\n"
          ]
        }
      ]
    },
    {
      "cell_type": "markdown",
      "metadata": {
        "id": "g2YXzU5_J71w"
      },
      "source": [
        "Las siguientes partes se han intentado, están al final porque daban errores y no podía seguir ejecutando la práctica. "
      ]
    },
    {
      "cell_type": "markdown",
      "metadata": {
        "id": "vU58hPs98s7w"
      },
      "source": [
        "## Visualización de capas"
      ]
    },
    {
      "cell_type": "code",
      "metadata": {
        "id": "it9aye6dA963",
        "colab": {
          "base_uri": "https://localhost:8080/"
        },
        "outputId": "caaacd10-ce28-4d14-d1f2-5bfb22c4c71c"
      },
      "source": [
        "img = x_train[0]\n",
        "\n",
        "img_tensor = np.expand_dims(img, axis=0)\n",
        "\n",
        "\n",
        "\n",
        "print(img_tensor.shape)"
      ],
      "execution_count": null,
      "outputs": [
        {
          "output_type": "stream",
          "name": "stdout",
          "text": [
            "(1, 28, 28, 1)\n"
          ]
        }
      ]
    },
    {
      "cell_type": "code",
      "metadata": {
        "id": "fDPnDEZ4_H6X",
        "colab": {
          "base_uri": "https://localhost:8080/"
        },
        "outputId": "a2d81df7-ab28-4dba-cd80-c5816095b8e0"
      },
      "source": [
        "from keras import models\n",
        "layer_outputs = [layer.output for layer in model.layers[:12]] # Extracts the outputs of the top 12 layers\n",
        "layer_outputs"
      ],
      "execution_count": null,
      "outputs": [
        {
          "output_type": "execute_result",
          "data": {
            "text/plain": [
              "[<KerasTensor: shape=(None, 26, 26, 32) dtype=float32 (created by layer 'conv2d')>,\n",
              " <KerasTensor: shape=(None, 24, 24, 64) dtype=float32 (created by layer 'conv2d_1')>,\n",
              " <KerasTensor: shape=(None, 12, 12, 64) dtype=float32 (created by layer 'max_pooling2d')>,\n",
              " <KerasTensor: shape=(None, 12, 12, 64) dtype=float32 (created by layer 'dropout')>,\n",
              " <KerasTensor: shape=(None, 9216) dtype=float32 (created by layer 'flatten')>,\n",
              " <KerasTensor: shape=(None, 128) dtype=float32 (created by layer 'dense')>,\n",
              " <KerasTensor: shape=(None, 128) dtype=float32 (created by layer 'dropout_1')>,\n",
              " <KerasTensor: shape=(None, 10) dtype=float32 (created by layer 'dense_1')>,\n",
              " <KerasTensor: shape=(None, 10) dtype=float32 (created by layer 'dropout_9')>]"
            ]
          },
          "metadata": {},
          "execution_count": 68
        }
      ]
    },
    {
      "cell_type": "code",
      "metadata": {
        "id": "WhtBwQInlMFf"
      },
      "source": [
        "activation_model = models.Model(inputs=model.input, outputs=layer_outputs) # Creates a model that will return these outputs, given the model input"
      ],
      "execution_count": null,
      "outputs": []
    },
    {
      "cell_type": "code",
      "metadata": {
        "id": "2e5WeeQk82fg"
      },
      "source": [
        "activations = activation_model.predict(img_tensor) # Returns a list of five Numpy arrays: one array per layer activation\n"
      ],
      "execution_count": null,
      "outputs": []
    },
    {
      "cell_type": "code",
      "metadata": {
        "id": "BbqF5DT-82VY",
        "colab": {
          "base_uri": "https://localhost:8080/"
        },
        "outputId": "9e497412-7e2f-4fbe-e852-b5b42d5eb990"
      },
      "source": [
        "first_layer_activation = activations[0]\n",
        "print(first_layer_activation.shape)"
      ],
      "execution_count": null,
      "outputs": [
        {
          "output_type": "stream",
          "name": "stdout",
          "text": [
            "(1, 26, 26, 32)\n"
          ]
        }
      ]
    },
    {
      "cell_type": "code",
      "metadata": {
        "id": "gtJwi2f08srJ",
        "colab": {
          "base_uri": "https://localhost:8080/",
          "height": 451
        },
        "outputId": "fd9f91b4-761e-4955-a633-9c95ce6ea96a"
      },
      "source": [
        "layer_names = []\n",
        "for layer in model.layers[:12]:\n",
        "    layer_names.append(layer.name) # Names of the layers, so you can have them as part of your plot\n",
        "    \n",
        "images_per_row = 16\n",
        "\n",
        "for layer_name, layer_activation in zip(layer_names, activations): # Displays the feature maps\n",
        "  if (layer_name.find('conv') !=-1):\n",
        "      n_features = layer_activation.shape[-1] # Number of features in the feature map\n",
        "      size = layer_activation.shape[1] #The feature map has shape (1, size, size, n_features).\n",
        "      n_cols = n_features // images_per_row # Tiles the activation channels in this matrix\n",
        "      display_grid = np.zeros((size * n_cols, images_per_row * size))\n",
        "      for col in range(n_cols): # Tiles each filter into a big horizontal grid\n",
        "          for row in range(images_per_row):\n",
        "              channel_image = layer_activation[0,\n",
        "                                              :, :,\n",
        "                                              col * images_per_row + row]\n",
        "              channel_image -= channel_image.mean() # Post-processes the feature to make it visually palatable\n",
        "              channel_image /= channel_image.std()\n",
        "              channel_image *= 64\n",
        "              channel_image += 128\n",
        "              channel_image = np.clip(channel_image, 0, 255).astype('uint8')\n",
        "              display_grid[col * size : (col + 1) * size, # Displays the grid\n",
        "                          row * size : (row + 1) * size] = channel_image\n",
        "      scale = 1. / size\n",
        "      plt.figure(figsize=(scale * display_grid.shape[1],\n",
        "                          scale * display_grid.shape[0]))\n",
        "      plt.title(layer_name)\n",
        "      plt.grid(False)\n",
        "      plt.imshow(display_grid, aspect='auto', cmap='viridis')"
      ],
      "execution_count": null,
      "outputs": [
        {
          "output_type": "stream",
          "name": "stderr",
          "text": [
            "/usr/local/lib/python3.7/dist-packages/ipykernel_launcher.py:19: RuntimeWarning: invalid value encountered in true_divide\n"
          ]
        },
        {
          "output_type": "display_data",
          "data": {
            "image/png": "[encoded data removed]",
            "text/plain": [
              "<Figure size 1152x144 with 1 Axes>"
            ]
          },
          "metadata": {
            "needs_background": "light"
          }
        },
        {
          "output_type": "display_data",
          "data": {
            "image/png": "[encoded data removed]",
            "text/plain": [
              "<Figure size 1152x288 with 1 Axes>"
            ]
          },
          "metadata": {
            "needs_background": "light"
          }
        }
      ]
    },
    {
      "cell_type": "markdown",
      "metadata": {
        "id": "kTNrj-K1CNcI"
      },
      "source": [
        "## Data Augmentation "
      ]
    },
    {
      "cell_type": "code",
      "metadata": {
        "id": "d3yJ_kQuoe1Z"
      },
      "source": [
        "import pandas as pd"
      ],
      "execution_count": null,
      "outputs": []
    },
    {
      "cell_type": "markdown",
      "metadata": {
        "id": "1hnxe9XPCB_f"
      },
      "source": [
        "Este método se encarga de realizar cambios en las imagenes y generar un nuevo data con imagenes \"editadas\", giradas o movidas. Lo hago con el modelo 1 que es el más simple de todos y suele dar un accuracy de alrededor del 50, además es de los que mñas rápido termina. "
      ]
    },
    {
      "cell_type": "code",
      "metadata": {
        "id": "PGd__K0jCKl0"
      },
      "source": [
        "datagen = tf.keras.preprocessing.image.ImageDataGenerator(\n",
        "    featurewise_center=True,\n",
        "    featurewise_std_normalization=True,\n",
        "    rotation_range=20,\n",
        "    width_shift_range=0.2,\n",
        "    height_shift_range=0.2,\n",
        "    horizontal_flip=True,\n",
        "    validation_split=0.2)\n",
        "# compute quantities required for featurewise normalization\n",
        "# (std, mean, and principal components if ZCA whitening is applied)\n",
        "datagen.fit(x_train)"
      ],
      "execution_count": null,
      "outputs": []
    },
    {
      "cell_type": "code",
      "metadata": {
        "id": "tZmYgaE8CWca",
        "colab": {
          "base_uri": "https://localhost:8080/"
        },
        "outputId": "7b21c74d-202d-4d25-e36a-0b62f3d39b20"
      },
      "source": [
        "epochs=10\n",
        "model.fit(datagen.flow(x_train, y_train, batch_size=32,\n",
        "         subset='training'),\n",
        "         validation_data=datagen.flow(x_train, y_train,\n",
        "         batch_size=8, subset='validation'),\n",
        "         steps_per_epoch=len(x_train) / 320, epochs=epochs)"
      ],
      "execution_count": null,
      "outputs": [
        {
          "output_type": "stream",
          "name": "stdout",
          "text": [
            "Epoch 1/10\n",
            "150/150 [==============================] - 12s 74ms/step - loss: 6.3374 - accuracy: 0.1760 - f1_m: 0.0613 - precision_m: 0.3098 - recall_m: 0.0350 - val_loss: 2.0701 - val_accuracy: 0.2940 - val_f1_m: 0.0109 - val_precision_m: 0.0475 - val_recall_m: 0.0061\n",
            "Epoch 2/10\n",
            "150/150 [==============================] - 11s 72ms/step - loss: 6.2410 - accuracy: 0.1927 - f1_m: 0.0600 - precision_m: 0.3392 - recall_m: 0.0338 - val_loss: 2.0578 - val_accuracy: 0.2991 - val_f1_m: 0.0103 - val_precision_m: 0.0446 - val_recall_m: 0.0058\n",
            "Epoch 3/10\n",
            "150/150 [==============================] - 11s 71ms/step - loss: 6.1508 - accuracy: 0.1931 - f1_m: 0.0532 - precision_m: 0.3389 - recall_m: 0.0296 - val_loss: 2.0325 - val_accuracy: 0.3146 - val_f1_m: 0.0086 - val_precision_m: 0.0379 - val_recall_m: 0.0049\n",
            "Epoch 4/10\n",
            "150/150 [==============================] - 11s 71ms/step - loss: 5.7847 - accuracy: 0.2077 - f1_m: 0.0539 - precision_m: 0.3305 - recall_m: 0.0300 - val_loss: 2.0213 - val_accuracy: 0.3275 - val_f1_m: 0.0053 - val_precision_m: 0.0233 - val_recall_m: 0.0030\n",
            "Epoch 5/10\n",
            "150/150 [==============================] - 11s 72ms/step - loss: 6.0961 - accuracy: 0.2029 - f1_m: 0.0550 - precision_m: 0.3709 - recall_m: 0.0302 - val_loss: 2.0190 - val_accuracy: 0.3271 - val_f1_m: 0.0042 - val_precision_m: 0.0179 - val_recall_m: 0.0024\n",
            "Epoch 6/10\n",
            "150/150 [==============================] - 11s 71ms/step - loss: 6.0879 - accuracy: 0.2060 - f1_m: 0.0476 - precision_m: 0.3087 - recall_m: 0.0262 - val_loss: 1.9983 - val_accuracy: 0.3398 - val_f1_m: 0.0052 - val_precision_m: 0.0233 - val_recall_m: 0.0029\n",
            "Epoch 7/10\n",
            "150/150 [==============================] - 11s 73ms/step - loss: 6.1041 - accuracy: 0.2135 - f1_m: 0.0523 - precision_m: 0.3791 - recall_m: 0.0285 - val_loss: 1.9881 - val_accuracy: 0.3352 - val_f1_m: 0.0035 - val_precision_m: 0.0158 - val_recall_m: 0.0020\n",
            "Epoch 8/10\n",
            "150/150 [==============================] - 11s 72ms/step - loss: 5.9617 - accuracy: 0.2215 - f1_m: 0.0450 - precision_m: 0.3323 - recall_m: 0.0246 - val_loss: 1.9857 - val_accuracy: 0.3468 - val_f1_m: 0.0030 - val_precision_m: 0.0133 - val_recall_m: 0.0017\n",
            "Epoch 9/10\n",
            "150/150 [==============================] - 11s 72ms/step - loss: 5.8857 - accuracy: 0.2446 - f1_m: 0.0487 - precision_m: 0.3817 - recall_m: 0.0265 - val_loss: 1.9711 - val_accuracy: 0.3516 - val_f1_m: 0.0035 - val_precision_m: 0.0158 - val_recall_m: 0.0020\n",
            "Epoch 10/10\n",
            "150/150 [==============================] - 11s 71ms/step - loss: 5.9991 - accuracy: 0.2325 - f1_m: 0.0410 - precision_m: 0.3481 - recall_m: 0.0223 - val_loss: 1.9674 - val_accuracy: 0.3498 - val_f1_m: 0.0028 - val_precision_m: 0.0125 - val_recall_m: 0.0016\n"
          ]
        },
        {
          "output_type": "execute_result",
          "data": {
            "text/plain": [
              "<keras.callbacks.History at 0x7f214aaa6250>"
            ]
          },
          "metadata": {},
          "execution_count": 77
        }
      ]
    },
    {
      "cell_type": "code",
      "metadata": {
        "colab": {
          "base_uri": "https://localhost:8080/"
        },
        "id": "rQS7TJhHOWQv",
        "outputId": "f49349cf-808c-4c38-e05d-331ca6596e80"
      },
      "source": [
        "loss, accuracy, f1_score, precision, recall = model.evaluate(x_test, y_test, verbose=0)\n",
        "print('Test loss:',loss)\n",
        "print('Test accuracy:', accuracy)\n"
      ],
      "execution_count": null,
      "outputs": [
        {
          "output_type": "stream",
          "name": "stdout",
          "text": [
            "Test loss: 1.7389041185379028\n",
            "Test accuracy: 0.6026999950408936\n"
          ]
        }
      ]
    },
    {
      "cell_type": "markdown",
      "metadata": {
        "id": "GERbK1mhPDpL"
      },
      "source": [
        "El resultado es algo mejor, llega al 60 por lo que podemos demostrar que dataaugmentation si que mejora un poco la precisión del modelo "
      ]
    },
    {
      "cell_type": "markdown",
      "metadata": {
        "id": "mEsuH0z8PskS"
      },
      "source": [
        "Otra forma similar de hacer lo mismo sacado del siguiente enlace: https://cnvrg.io/cnn-tensorflow/\n"
      ]
    },
    {
      "cell_type": "code",
      "metadata": {
        "id": "EeDDC8tVOfRA"
      },
      "source": [
        "'''\n",
        "data_augmentation = keras.Sequential(\n",
        "  [\n",
        "    tf.keras.layers.experimental.preprocessing.RandomFlip(\"horizontal\",\n",
        "                                                 input_shape=( 28, 28, 1)),\n",
        "    tf.keras.layers.experimental.preprocessing.RandomRotation(0.2),\n",
        "    tf.keras.layers.experimental.preprocessing.RandomZoom(0.2),\n",
        "  ]\n",
        ")\n",
        "\n",
        "import tensorflow as tf\n",
        "from tensorflow import keras\n",
        "from tensorflow.keras import Sequential\n",
        "from tensorflow.keras.layers import Dense,Conv2D,MaxPooling2D,Flatten,Dropout\n",
        "from tensorflow.keras.preprocessing.image import ImageDataGenerator\n",
        "model = Sequential([\n",
        "    data_augmentation,\n",
        "    tf.keras.layers.experimental.preprocessing.Rescaling(1./255),\n",
        "    Conv2D(filters=32,kernel_size=(3,3), activation='relu'),\n",
        "    MaxPooling2D(pool_size=(2,2)),\n",
        "\n",
        "    Conv2D(filters=32,kernel_size=(3,3), activation='relu'),\n",
        "    MaxPooling2D(pool_size=(2,2)),\n",
        "    Dropout(0.25),\n",
        "\n",
        "    Conv2D(filters=64,kernel_size=(3,3), activation='relu'),\n",
        "    MaxPooling2D(pool_size=(2,2)),\n",
        "    Dropout(0.25),\n",
        "\n",
        "    Flatten(),\n",
        "    Dense(128, activation='relu'),\n",
        "    Dropout(0.25),\n",
        "    Dense(1, activation='sigmoid')\n",
        "])\n",
        "\n",
        "model.compile(optimizer='adam',\n",
        "              loss=keras.losses.BinaryCrossentropy(from_logits=True),\n",
        "              metrics=[keras.metrics.BinaryAccuracy()])\n",
        "\n",
        "epochs=10\n",
        "history = model.fit(x_train_2, y_train,\n",
        "          batch_size=batch_size,\n",
        "          epochs=epochs,\n",
        "          verbose=1,\n",
        "          validation_data=(x_test_2, y_test))\n",
        "\n",
        "'''"
      ],
      "execution_count": null,
      "outputs": []
    },
    {
      "cell_type": "markdown",
      "metadata": {
        "id": "ap7qoXP9oZoR"
      },
      "source": [
        "## Análisis de resultados"
      ]
    },
    {
      "cell_type": "code",
      "metadata": {
        "id": "5zW-M4qcwqDs",
        "colab": {
          "base_uri": "https://localhost:8080/",
          "height": 372
        },
        "outputId": "ab51c2fe-6847-4685-d002-515e4c244374"
      },
      "source": [
        "df_h1 = pd.DataFrame(history1.history)\n",
        "df_h1 = df_h1.rename(columns={\"loss\": \"loss1\", \"accuracy\":\"accuracy1\", \"val_loss\":\"val_loss1\", \"val_accuracy\":\"val_accuracy1\"})\n",
        "\n",
        "df_h2 = pd.DataFrame(history2.history)\n",
        "df_h2 = df_h2.rename(columns={\"loss\": \"loss2\", \"accuracy\":\"accuracy2\", \"val_loss\":\"val_loss2\", \"val_accuracy\":\"val_accuracy2\"})\n",
        "\n",
        "df_h3 = pd.DataFrame(history3.history)\n",
        "df_h3 = df_h3.rename(columns={\"loss\": \"loss3\", \"accuracy\":\"accuracy3\", \"val_loss\":\"val_loss3\", \"val_accuracy\":\"val_accuracy3\"})\n",
        "\n",
        "df_h4 = pd.DataFrame(history4.history)\n",
        "df_h4 = df_h4.rename(columns={\"loss\": \"loss4\", \"accuracy\":\"accuracy4\", \"val_loss\":\"val_loss4\", \"val_accuracy\":\"val_accuracy4\"})\n",
        "\n",
        "df_h5 = pd.DataFrame(history5.history)\n",
        "df_h5 = df_h5.rename(columns={\"loss\": \"loss5\", \"accuracy\":\"accuracy5\", \"val_loss\":\"val_loss5\", \"val_accuracy\":\"val_accuracy5\"})\n",
        "\n",
        "df_h6 = pd.DataFrame(history6.history)\n",
        "df_h6 = df_h6.rename(columns={\"loss\": \"loss6\", \"accuracy\":\"accuracy6\", \"val_loss\":\"val_loss6\", \"val_accuracy\":\"val_accuracy6\"})\n",
        "\n",
        "\n",
        "df_h = pd.concat([df_h1,df_h2,df_h3,df_h4,df_h5,df_h6], axis=1)\n",
        "df_h"
      ],
      "execution_count": null,
      "outputs": [
        {
          "output_type": "execute_result",
          "data": {
            "text/html": [
              "<div>\n",
              "<style scoped>\n",
              "    .dataframe tbody tr th:only-of-type {\n",
              "        vertical-align: middle;\n",
              "    }\n",
              "\n",
              "    .dataframe tbody tr th {\n",
              "        vertical-align: top;\n",
              "    }\n",
              "\n",
              "    .dataframe thead th {\n",
              "        text-align: right;\n",
              "    }\n",
              "</style>\n",
              "<table border=\"1\" class=\"dataframe\">\n",
              "  <thead>\n",
              "    <tr style=\"text-align: right;\">\n",
              "      <th></th>\n",
              "      <th>loss1</th>\n",
              "      <th>accuracy1</th>\n",
              "      <th>f1_m</th>\n",
              "      <th>precision_m</th>\n",
              "      <th>recall_m</th>\n",
              "      <th>val_loss1</th>\n",
              "      <th>val_accuracy1</th>\n",
              "      <th>val_f1_m</th>\n",
              "      <th>val_precision_m</th>\n",
              "      <th>val_recall_m</th>\n",
              "      <th>loss2</th>\n",
              "      <th>accuracy2</th>\n",
              "      <th>f1_m</th>\n",
              "      <th>precision_m</th>\n",
              "      <th>recall_m</th>\n",
              "      <th>val_loss2</th>\n",
              "      <th>val_accuracy2</th>\n",
              "      <th>val_f1_m</th>\n",
              "      <th>val_precision_m</th>\n",
              "      <th>val_recall_m</th>\n",
              "      <th>loss3</th>\n",
              "      <th>accuracy3</th>\n",
              "      <th>f1_m</th>\n",
              "      <th>precision_m</th>\n",
              "      <th>recall_m</th>\n",
              "      <th>val_loss3</th>\n",
              "      <th>val_accuracy3</th>\n",
              "      <th>val_f1_m</th>\n",
              "      <th>val_precision_m</th>\n",
              "      <th>val_recall_m</th>\n",
              "      <th>loss4</th>\n",
              "      <th>accuracy4</th>\n",
              "      <th>f1_m</th>\n",
              "      <th>precision_m</th>\n",
              "      <th>recall_m</th>\n",
              "      <th>val_loss4</th>\n",
              "      <th>val_accuracy4</th>\n",
              "      <th>val_f1_m</th>\n",
              "      <th>val_precision_m</th>\n",
              "      <th>val_recall_m</th>\n",
              "      <th>loss5</th>\n",
              "      <th>accuracy5</th>\n",
              "      <th>f1_m</th>\n",
              "      <th>precision_m</th>\n",
              "      <th>recall_m</th>\n",
              "      <th>val_loss5</th>\n",
              "      <th>val_accuracy5</th>\n",
              "      <th>val_f1_m</th>\n",
              "      <th>val_precision_m</th>\n",
              "      <th>val_recall_m</th>\n",
              "      <th>loss6</th>\n",
              "      <th>accuracy6</th>\n",
              "      <th>f1_m</th>\n",
              "      <th>precision_m</th>\n",
              "      <th>recall_m</th>\n",
              "      <th>val_loss6</th>\n",
              "      <th>val_accuracy6</th>\n",
              "      <th>val_f1_m</th>\n",
              "      <th>val_precision_m</th>\n",
              "      <th>val_recall_m</th>\n",
              "    </tr>\n",
              "  </thead>\n",
              "  <tbody>\n",
              "    <tr>\n",
              "      <th>0</th>\n",
              "      <td>2.309587</td>\n",
              "      <td>0.085479</td>\n",
              "      <td>0.000000</td>\n",
              "      <td>0.000000</td>\n",
              "      <td>0.000000</td>\n",
              "      <td>14.127604</td>\n",
              "      <td>0.101000</td>\n",
              "      <td>0.099792</td>\n",
              "      <td>0.101000</td>\n",
              "      <td>0.098618</td>\n",
              "      <td>2.636696</td>\n",
              "      <td>0.251812</td>\n",
              "      <td>0.208254</td>\n",
              "      <td>0.318871</td>\n",
              "      <td>0.154920</td>\n",
              "      <td>78.771805</td>\n",
              "      <td>0.115333</td>\n",
              "      <td>0.115357</td>\n",
              "      <td>0.115367</td>\n",
              "      <td>0.115347</td>\n",
              "      <td>2.891851</td>\n",
              "      <td>0.127771</td>\n",
              "      <td>0.053493</td>\n",
              "      <td>0.137175</td>\n",
              "      <td>0.033375</td>\n",
              "      <td>69.414009</td>\n",
              "      <td>0.124500</td>\n",
              "      <td>0.124626</td>\n",
              "      <td>0.124696</td>\n",
              "      <td>0.124557</td>\n",
              "      <td>0.753816</td>\n",
              "      <td>0.722562</td>\n",
              "      <td>0.712961</td>\n",
              "      <td>0.794324</td>\n",
              "      <td>0.651346</td>\n",
              "      <td>2.399611</td>\n",
              "      <td>0.175333</td>\n",
              "      <td>0.000000</td>\n",
              "      <td>0.000000</td>\n",
              "      <td>0.000000</td>\n",
              "      <td>0.678008</td>\n",
              "      <td>0.799625</td>\n",
              "      <td>0.801097</td>\n",
              "      <td>0.845242</td>\n",
              "      <td>0.762384</td>\n",
              "      <td>0.777968</td>\n",
              "      <td>0.667583</td>\n",
              "      <td>0.654587</td>\n",
              "      <td>0.697911</td>\n",
              "      <td>0.616451</td>\n",
              "      <td>0.518688</td>\n",
              "      <td>0.833708</td>\n",
              "      <td>0.829666</td>\n",
              "      <td>0.883087</td>\n",
              "      <td>0.789665</td>\n",
              "      <td>0.924992</td>\n",
              "      <td>0.765250</td>\n",
              "      <td>0.762116</td>\n",
              "      <td>0.784939</td>\n",
              "      <td>0.740656</td>\n",
              "    </tr>\n",
              "    <tr>\n",
              "      <th>1</th>\n",
              "      <td>2.275094</td>\n",
              "      <td>0.137708</td>\n",
              "      <td>0.000000</td>\n",
              "      <td>0.000000</td>\n",
              "      <td>0.000000</td>\n",
              "      <td>10.564034</td>\n",
              "      <td>0.258750</td>\n",
              "      <td>0.258819</td>\n",
              "      <td>0.261690</td>\n",
              "      <td>0.256020</td>\n",
              "      <td>1.705894</td>\n",
              "      <td>0.450750</td>\n",
              "      <td>0.426488</td>\n",
              "      <td>0.581078</td>\n",
              "      <td>0.337600</td>\n",
              "      <td>318.642548</td>\n",
              "      <td>0.120750</td>\n",
              "      <td>0.120856</td>\n",
              "      <td>0.120856</td>\n",
              "      <td>0.120856</td>\n",
              "      <td>2.602994</td>\n",
              "      <td>0.179063</td>\n",
              "      <td>0.088132</td>\n",
              "      <td>0.222842</td>\n",
              "      <td>0.055188</td>\n",
              "      <td>165.821198</td>\n",
              "      <td>0.210250</td>\n",
              "      <td>0.210425</td>\n",
              "      <td>0.210439</td>\n",
              "      <td>0.210411</td>\n",
              "      <td>0.484150</td>\n",
              "      <td>0.821604</td>\n",
              "      <td>0.818919</td>\n",
              "      <td>0.860499</td>\n",
              "      <td>0.781375</td>\n",
              "      <td>0.965741</td>\n",
              "      <td>0.677583</td>\n",
              "      <td>0.633269</td>\n",
              "      <td>0.859385</td>\n",
              "      <td>0.502042</td>\n",
              "      <td>0.293603</td>\n",
              "      <td>0.899938</td>\n",
              "      <td>0.899973</td>\n",
              "      <td>0.920529</td>\n",
              "      <td>0.880423</td>\n",
              "      <td>0.361182</td>\n",
              "      <td>0.865750</td>\n",
              "      <td>0.855805</td>\n",
              "      <td>0.906753</td>\n",
              "      <td>0.810422</td>\n",
              "      <td>0.256844</td>\n",
              "      <td>0.914333</td>\n",
              "      <td>0.914120</td>\n",
              "      <td>0.932606</td>\n",
              "      <td>0.896443</td>\n",
              "      <td>0.254545</td>\n",
              "      <td>0.910500</td>\n",
              "      <td>0.911930</td>\n",
              "      <td>0.927949</td>\n",
              "      <td>0.896502</td>\n",
              "    </tr>\n",
              "    <tr>\n",
              "      <th>2</th>\n",
              "      <td>2.240052</td>\n",
              "      <td>0.194375</td>\n",
              "      <td>0.000000</td>\n",
              "      <td>0.000000</td>\n",
              "      <td>0.000000</td>\n",
              "      <td>9.764501</td>\n",
              "      <td>0.393083</td>\n",
              "      <td>0.393545</td>\n",
              "      <td>0.395568</td>\n",
              "      <td>0.391551</td>\n",
              "      <td>1.347876</td>\n",
              "      <td>0.554125</td>\n",
              "      <td>0.538274</td>\n",
              "      <td>0.674695</td>\n",
              "      <td>0.448284</td>\n",
              "      <td>592.186829</td>\n",
              "      <td>0.203333</td>\n",
              "      <td>0.203469</td>\n",
              "      <td>0.203469</td>\n",
              "      <td>0.203469</td>\n",
              "      <td>2.377160</td>\n",
              "      <td>0.230438</td>\n",
              "      <td>0.127912</td>\n",
              "      <td>0.304766</td>\n",
              "      <td>0.081292</td>\n",
              "      <td>169.084900</td>\n",
              "      <td>0.254417</td>\n",
              "      <td>0.254627</td>\n",
              "      <td>0.254627</td>\n",
              "      <td>0.254627</td>\n",
              "      <td>0.406110</td>\n",
              "      <td>0.849604</td>\n",
              "      <td>0.850363</td>\n",
              "      <td>0.880636</td>\n",
              "      <td>0.822224</td>\n",
              "      <td>0.808915</td>\n",
              "      <td>0.729000</td>\n",
              "      <td>0.729180</td>\n",
              "      <td>0.797138</td>\n",
              "      <td>0.672160</td>\n",
              "      <td>0.230479</td>\n",
              "      <td>0.920458</td>\n",
              "      <td>0.920757</td>\n",
              "      <td>0.936120</td>\n",
              "      <td>0.905959</td>\n",
              "      <td>0.236844</td>\n",
              "      <td>0.915667</td>\n",
              "      <td>0.914842</td>\n",
              "      <td>0.937035</td>\n",
              "      <td>0.893759</td>\n",
              "      <td>0.209600</td>\n",
              "      <td>0.930000</td>\n",
              "      <td>0.929662</td>\n",
              "      <td>0.942944</td>\n",
              "      <td>0.916826</td>\n",
              "      <td>0.208225</td>\n",
              "      <td>0.923083</td>\n",
              "      <td>0.924506</td>\n",
              "      <td>0.934496</td>\n",
              "      <td>0.914763</td>\n",
              "    </tr>\n",
              "    <tr>\n",
              "      <th>3</th>\n",
              "      <td>2.201238</td>\n",
              "      <td>0.243479</td>\n",
              "      <td>0.000000</td>\n",
              "      <td>0.000000</td>\n",
              "      <td>0.000000</td>\n",
              "      <td>9.820928</td>\n",
              "      <td>0.464667</td>\n",
              "      <td>0.464618</td>\n",
              "      <td>0.466156</td>\n",
              "      <td>0.463098</td>\n",
              "      <td>1.168978</td>\n",
              "      <td>0.607458</td>\n",
              "      <td>0.596196</td>\n",
              "      <td>0.714509</td>\n",
              "      <td>0.511843</td>\n",
              "      <td>736.216614</td>\n",
              "      <td>0.292167</td>\n",
              "      <td>0.292280</td>\n",
              "      <td>0.292280</td>\n",
              "      <td>0.292280</td>\n",
              "      <td>2.183882</td>\n",
              "      <td>0.276646</td>\n",
              "      <td>0.177148</td>\n",
              "      <td>0.386861</td>\n",
              "      <td>0.115375</td>\n",
              "      <td>169.016006</td>\n",
              "      <td>0.289500</td>\n",
              "      <td>0.289644</td>\n",
              "      <td>0.289644</td>\n",
              "      <td>0.289644</td>\n",
              "      <td>0.366493</td>\n",
              "      <td>0.865562</td>\n",
              "      <td>0.865972</td>\n",
              "      <td>0.892631</td>\n",
              "      <td>0.840945</td>\n",
              "      <td>1.233525</td>\n",
              "      <td>0.621417</td>\n",
              "      <td>0.620161</td>\n",
              "      <td>0.664780</td>\n",
              "      <td>0.581295</td>\n",
              "      <td>0.191247</td>\n",
              "      <td>0.935792</td>\n",
              "      <td>0.935322</td>\n",
              "      <td>0.946235</td>\n",
              "      <td>0.924701</td>\n",
              "      <td>0.233494</td>\n",
              "      <td>0.918083</td>\n",
              "      <td>0.918509</td>\n",
              "      <td>0.929970</td>\n",
              "      <td>0.907378</td>\n",
              "      <td>0.175878</td>\n",
              "      <td>0.939937</td>\n",
              "      <td>0.939980</td>\n",
              "      <td>0.949764</td>\n",
              "      <td>0.930435</td>\n",
              "      <td>0.228397</td>\n",
              "      <td>0.925750</td>\n",
              "      <td>0.926933</td>\n",
              "      <td>0.931857</td>\n",
              "      <td>0.922077</td>\n",
              "    </tr>\n",
              "    <tr>\n",
              "      <th>4</th>\n",
              "      <td>2.154754</td>\n",
              "      <td>0.290688</td>\n",
              "      <td>0.000000</td>\n",
              "      <td>0.000000</td>\n",
              "      <td>0.000000</td>\n",
              "      <td>10.959538</td>\n",
              "      <td>0.520000</td>\n",
              "      <td>0.520332</td>\n",
              "      <td>0.521426</td>\n",
              "      <td>0.519246</td>\n",
              "      <td>1.053974</td>\n",
              "      <td>0.641375</td>\n",
              "      <td>0.633354</td>\n",
              "      <td>0.742827</td>\n",
              "      <td>0.552298</td>\n",
              "      <td>759.270264</td>\n",
              "      <td>0.361167</td>\n",
              "      <td>0.361298</td>\n",
              "      <td>0.361298</td>\n",
              "      <td>0.361298</td>\n",
              "      <td>2.024390</td>\n",
              "      <td>0.324229</td>\n",
              "      <td>0.226680</td>\n",
              "      <td>0.450207</td>\n",
              "      <td>0.152104</td>\n",
              "      <td>172.424026</td>\n",
              "      <td>0.303667</td>\n",
              "      <td>0.303773</td>\n",
              "      <td>0.303773</td>\n",
              "      <td>0.303773</td>\n",
              "      <td>0.341291</td>\n",
              "      <td>0.875792</td>\n",
              "      <td>0.874982</td>\n",
              "      <td>0.898182</td>\n",
              "      <td>0.853038</td>\n",
              "      <td>1.651706</td>\n",
              "      <td>0.523333</td>\n",
              "      <td>0.521986</td>\n",
              "      <td>0.555782</td>\n",
              "      <td>0.492152</td>\n",
              "      <td>0.172547</td>\n",
              "      <td>0.940750</td>\n",
              "      <td>0.940713</td>\n",
              "      <td>0.950229</td>\n",
              "      <td>0.931433</td>\n",
              "      <td>0.212800</td>\n",
              "      <td>0.925917</td>\n",
              "      <td>0.926783</td>\n",
              "      <td>0.935616</td>\n",
              "      <td>0.918147</td>\n",
              "      <td>0.163269</td>\n",
              "      <td>0.943229</td>\n",
              "      <td>0.943402</td>\n",
              "      <td>0.952474</td>\n",
              "      <td>0.934550</td>\n",
              "      <td>0.209855</td>\n",
              "      <td>0.926833</td>\n",
              "      <td>0.926173</td>\n",
              "      <td>0.939213</td>\n",
              "      <td>0.913552</td>\n",
              "    </tr>\n",
              "    <tr>\n",
              "      <th>5</th>\n",
              "      <td>2.102962</td>\n",
              "      <td>0.332979</td>\n",
              "      <td>0.000000</td>\n",
              "      <td>0.000000</td>\n",
              "      <td>0.000000</td>\n",
              "      <td>12.739243</td>\n",
              "      <td>0.572250</td>\n",
              "      <td>0.572590</td>\n",
              "      <td>0.573198</td>\n",
              "      <td>0.571987</td>\n",
              "      <td>0.977939</td>\n",
              "      <td>0.663042</td>\n",
              "      <td>0.655845</td>\n",
              "      <td>0.755254</td>\n",
              "      <td>0.579870</td>\n",
              "      <td>771.424561</td>\n",
              "      <td>0.387167</td>\n",
              "      <td>0.387289</td>\n",
              "      <td>0.387289</td>\n",
              "      <td>0.387289</td>\n",
              "      <td>1.889194</td>\n",
              "      <td>0.365792</td>\n",
              "      <td>0.273594</td>\n",
              "      <td>0.502333</td>\n",
              "      <td>0.188729</td>\n",
              "      <td>172.544815</td>\n",
              "      <td>0.322500</td>\n",
              "      <td>0.322640</td>\n",
              "      <td>0.322640</td>\n",
              "      <td>0.322640</td>\n",
              "      <td>0.322537</td>\n",
              "      <td>0.882688</td>\n",
              "      <td>0.881898</td>\n",
              "      <td>0.903469</td>\n",
              "      <td>0.861411</td>\n",
              "      <td>3.115910</td>\n",
              "      <td>0.390583</td>\n",
              "      <td>0.391714</td>\n",
              "      <td>0.406512</td>\n",
              "      <td>0.378004</td>\n",
              "      <td>0.152685</td>\n",
              "      <td>0.947917</td>\n",
              "      <td>0.948535</td>\n",
              "      <td>0.957101</td>\n",
              "      <td>0.940160</td>\n",
              "      <td>0.233811</td>\n",
              "      <td>0.921167</td>\n",
              "      <td>0.921727</td>\n",
              "      <td>0.928681</td>\n",
              "      <td>0.914905</td>\n",
              "      <td>0.144773</td>\n",
              "      <td>0.949437</td>\n",
              "      <td>0.949155</td>\n",
              "      <td>0.956117</td>\n",
              "      <td>0.942320</td>\n",
              "      <td>0.411043</td>\n",
              "      <td>0.862000</td>\n",
              "      <td>0.862441</td>\n",
              "      <td>0.870336</td>\n",
              "      <td>0.854721</td>\n",
              "    </tr>\n",
              "    <tr>\n",
              "      <th>6</th>\n",
              "      <td>2.040483</td>\n",
              "      <td>0.365000</td>\n",
              "      <td>0.000000</td>\n",
              "      <td>0.000000</td>\n",
              "      <td>0.000000</td>\n",
              "      <td>15.461655</td>\n",
              "      <td>0.592583</td>\n",
              "      <td>0.592718</td>\n",
              "      <td>0.593029</td>\n",
              "      <td>0.592408</td>\n",
              "      <td>0.913473</td>\n",
              "      <td>0.682979</td>\n",
              "      <td>0.677957</td>\n",
              "      <td>0.775017</td>\n",
              "      <td>0.602830</td>\n",
              "      <td>763.728638</td>\n",
              "      <td>0.412333</td>\n",
              "      <td>0.412495</td>\n",
              "      <td>0.412495</td>\n",
              "      <td>0.412495</td>\n",
              "      <td>1.774785</td>\n",
              "      <td>0.401333</td>\n",
              "      <td>0.319526</td>\n",
              "      <td>0.550157</td>\n",
              "      <td>0.225854</td>\n",
              "      <td>175.767059</td>\n",
              "      <td>0.332000</td>\n",
              "      <td>0.332142</td>\n",
              "      <td>0.332142</td>\n",
              "      <td>0.332142</td>\n",
              "      <td>0.303515</td>\n",
              "      <td>0.889833</td>\n",
              "      <td>0.889682</td>\n",
              "      <td>0.909625</td>\n",
              "      <td>0.870678</td>\n",
              "      <td>1.844440</td>\n",
              "      <td>0.626417</td>\n",
              "      <td>0.623668</td>\n",
              "      <td>0.644572</td>\n",
              "      <td>0.604139</td>\n",
              "      <td>0.139078</td>\n",
              "      <td>0.953167</td>\n",
              "      <td>0.953175</td>\n",
              "      <td>0.959872</td>\n",
              "      <td>0.946601</td>\n",
              "      <td>0.209528</td>\n",
              "      <td>0.930000</td>\n",
              "      <td>0.930725</td>\n",
              "      <td>0.940800</td>\n",
              "      <td>0.920901</td>\n",
              "      <td>0.135826</td>\n",
              "      <td>0.952792</td>\n",
              "      <td>0.953341</td>\n",
              "      <td>0.959378</td>\n",
              "      <td>0.947411</td>\n",
              "      <td>0.244384</td>\n",
              "      <td>0.922000</td>\n",
              "      <td>0.923019</td>\n",
              "      <td>0.929640</td>\n",
              "      <td>0.916520</td>\n",
              "    </tr>\n",
              "    <tr>\n",
              "      <th>7</th>\n",
              "      <td>1.969991</td>\n",
              "      <td>0.390042</td>\n",
              "      <td>0.000041</td>\n",
              "      <td>0.005319</td>\n",
              "      <td>0.000021</td>\n",
              "      <td>18.636410</td>\n",
              "      <td>0.599083</td>\n",
              "      <td>0.599159</td>\n",
              "      <td>0.599284</td>\n",
              "      <td>0.599034</td>\n",
              "      <td>0.867396</td>\n",
              "      <td>0.696354</td>\n",
              "      <td>0.692762</td>\n",
              "      <td>0.787057</td>\n",
              "      <td>0.618912</td>\n",
              "      <td>765.977844</td>\n",
              "      <td>0.420833</td>\n",
              "      <td>0.420973</td>\n",
              "      <td>0.420973</td>\n",
              "      <td>0.420973</td>\n",
              "      <td>1.680793</td>\n",
              "      <td>0.431750</td>\n",
              "      <td>0.354268</td>\n",
              "      <td>0.575881</td>\n",
              "      <td>0.256542</td>\n",
              "      <td>178.879776</td>\n",
              "      <td>0.340833</td>\n",
              "      <td>0.340952</td>\n",
              "      <td>0.340952</td>\n",
              "      <td>0.340952</td>\n",
              "      <td>0.289483</td>\n",
              "      <td>0.893854</td>\n",
              "      <td>0.894245</td>\n",
              "      <td>0.913175</td>\n",
              "      <td>0.876164</td>\n",
              "      <td>1.942979</td>\n",
              "      <td>0.545500</td>\n",
              "      <td>0.537285</td>\n",
              "      <td>0.555411</td>\n",
              "      <td>0.520374</td>\n",
              "      <td>0.130568</td>\n",
              "      <td>0.956250</td>\n",
              "      <td>0.956345</td>\n",
              "      <td>0.962757</td>\n",
              "      <td>0.950050</td>\n",
              "      <td>0.245919</td>\n",
              "      <td>0.919333</td>\n",
              "      <td>0.920026</td>\n",
              "      <td>0.927471</td>\n",
              "      <td>0.912733</td>\n",
              "      <td>0.128755</td>\n",
              "      <td>0.955417</td>\n",
              "      <td>0.955333</td>\n",
              "      <td>0.961150</td>\n",
              "      <td>0.949614</td>\n",
              "      <td>0.234277</td>\n",
              "      <td>0.917333</td>\n",
              "      <td>0.918774</td>\n",
              "      <td>0.925862</td>\n",
              "      <td>0.911819</td>\n",
              "    </tr>\n",
              "    <tr>\n",
              "      <th>8</th>\n",
              "      <td>1.894839</td>\n",
              "      <td>0.410000</td>\n",
              "      <td>0.000497</td>\n",
              "      <td>0.063830</td>\n",
              "      <td>0.000249</td>\n",
              "      <td>22.152945</td>\n",
              "      <td>0.605500</td>\n",
              "      <td>0.605501</td>\n",
              "      <td>0.605630</td>\n",
              "      <td>0.605374</td>\n",
              "      <td>0.828488</td>\n",
              "      <td>0.709417</td>\n",
              "      <td>0.705339</td>\n",
              "      <td>0.795762</td>\n",
              "      <td>0.633623</td>\n",
              "      <td>771.735901</td>\n",
              "      <td>0.431583</td>\n",
              "      <td>0.431718</td>\n",
              "      <td>0.431718</td>\n",
              "      <td>0.431718</td>\n",
              "      <td>1.590289</td>\n",
              "      <td>0.462604</td>\n",
              "      <td>0.395937</td>\n",
              "      <td>0.612607</td>\n",
              "      <td>0.293208</td>\n",
              "      <td>174.005188</td>\n",
              "      <td>0.358000</td>\n",
              "      <td>0.358073</td>\n",
              "      <td>0.358073</td>\n",
              "      <td>0.358073</td>\n",
              "      <td>0.278307</td>\n",
              "      <td>0.899708</td>\n",
              "      <td>0.900347</td>\n",
              "      <td>0.918247</td>\n",
              "      <td>0.883207</td>\n",
              "      <td>3.948125</td>\n",
              "      <td>0.271333</td>\n",
              "      <td>0.274353</td>\n",
              "      <td>0.286645</td>\n",
              "      <td>0.263120</td>\n",
              "      <td>0.112139</td>\n",
              "      <td>0.962500</td>\n",
              "      <td>0.962355</td>\n",
              "      <td>0.967635</td>\n",
              "      <td>0.957156</td>\n",
              "      <td>0.274680</td>\n",
              "      <td>0.916333</td>\n",
              "      <td>0.917980</td>\n",
              "      <td>0.925825</td>\n",
              "      <td>0.910299</td>\n",
              "      <td>0.106530</td>\n",
              "      <td>0.963417</td>\n",
              "      <td>0.963102</td>\n",
              "      <td>0.967510</td>\n",
              "      <td>0.958756</td>\n",
              "      <td>0.233257</td>\n",
              "      <td>0.926000</td>\n",
              "      <td>0.926616</td>\n",
              "      <td>0.931454</td>\n",
              "      <td>0.921851</td>\n",
              "    </tr>\n",
              "    <tr>\n",
              "      <th>9</th>\n",
              "      <td>1.811453</td>\n",
              "      <td>0.431854</td>\n",
              "      <td>0.007213</td>\n",
              "      <td>0.567376</td>\n",
              "      <td>0.003636</td>\n",
              "      <td>25.734808</td>\n",
              "      <td>0.612917</td>\n",
              "      <td>0.612858</td>\n",
              "      <td>0.612911</td>\n",
              "      <td>0.612806</td>\n",
              "      <td>0.796029</td>\n",
              "      <td>0.719938</td>\n",
              "      <td>0.714977</td>\n",
              "      <td>0.803723</td>\n",
              "      <td>0.644178</td>\n",
              "      <td>775.023926</td>\n",
              "      <td>0.437417</td>\n",
              "      <td>0.437512</td>\n",
              "      <td>0.437512</td>\n",
              "      <td>0.437512</td>\n",
              "      <td>1.510722</td>\n",
              "      <td>0.485271</td>\n",
              "      <td>0.423410</td>\n",
              "      <td>0.628247</td>\n",
              "      <td>0.320062</td>\n",
              "      <td>174.593521</td>\n",
              "      <td>0.371083</td>\n",
              "      <td>0.371149</td>\n",
              "      <td>0.371149</td>\n",
              "      <td>0.371149</td>\n",
              "      <td>0.273889</td>\n",
              "      <td>0.900250</td>\n",
              "      <td>0.900967</td>\n",
              "      <td>0.917767</td>\n",
              "      <td>0.884828</td>\n",
              "      <td>1.795212</td>\n",
              "      <td>0.528333</td>\n",
              "      <td>0.545412</td>\n",
              "      <td>0.591993</td>\n",
              "      <td>0.505794</td>\n",
              "      <td>0.114487</td>\n",
              "      <td>0.962417</td>\n",
              "      <td>0.962258</td>\n",
              "      <td>0.967116</td>\n",
              "      <td>0.957468</td>\n",
              "      <td>0.244934</td>\n",
              "      <td>0.926750</td>\n",
              "      <td>0.927555</td>\n",
              "      <td>0.935546</td>\n",
              "      <td>0.919726</td>\n",
              "      <td>0.103332</td>\n",
              "      <td>0.964458</td>\n",
              "      <td>0.964584</td>\n",
              "      <td>0.968276</td>\n",
              "      <td>0.960938</td>\n",
              "      <td>0.277143</td>\n",
              "      <td>0.917083</td>\n",
              "      <td>0.917211</td>\n",
              "      <td>0.923489</td>\n",
              "      <td>0.911035</td>\n",
              "    </tr>\n",
              "  </tbody>\n",
              "</table>\n",
              "</div>"
            ],
            "text/plain": [
              "      loss1  accuracy1      f1_m  ...  val_f1_m  val_precision_m  val_recall_m\n",
              "0  2.309587   0.085479  0.000000  ...  0.762116         0.784939      0.740656\n",
              "1  2.275094   0.137708  0.000000  ...  0.911930         0.927949      0.896502\n",
              "2  2.240052   0.194375  0.000000  ...  0.924506         0.934496      0.914763\n",
              "3  2.201238   0.243479  0.000000  ...  0.926933         0.931857      0.922077\n",
              "4  2.154754   0.290688  0.000000  ...  0.926173         0.939213      0.913552\n",
              "5  2.102962   0.332979  0.000000  ...  0.862441         0.870336      0.854721\n",
              "6  2.040483   0.365000  0.000000  ...  0.923019         0.929640      0.916520\n",
              "7  1.969991   0.390042  0.000041  ...  0.918774         0.925862      0.911819\n",
              "8  1.894839   0.410000  0.000497  ...  0.926616         0.931454      0.921851\n",
              "9  1.811453   0.431854  0.007213  ...  0.917211         0.923489      0.911035\n",
              "\n",
              "[10 rows x 60 columns]"
            ]
          },
          "metadata": {},
          "execution_count": 79
        }
      ]
    },
    {
      "cell_type": "markdown",
      "metadata": {
        "id": "AruwohDfqgma"
      },
      "source": [
        "Filtros para poder analziar cada variable de forma independiente "
      ]
    },
    {
      "cell_type": "code",
      "metadata": {
        "id": "Wlu50kmCp8l5"
      },
      "source": [
        "loss_df = [col for col in df_h if col.startswith('loss')]\n",
        "accuracy_df = [col for col in df_h if col.startswith('accuracy')]\n",
        "val_loss_df = [col for col in df_h if col.startswith('val_loss')]\n",
        "val_accuracy_df = [col for col in df_h if col.startswith('val_accuracy')]\n"
      ],
      "execution_count": null,
      "outputs": []
    },
    {
      "cell_type": "code",
      "metadata": {
        "id": "aa3rsiXl2emr",
        "colab": {
          "base_uri": "https://localhost:8080/",
          "height": 291
        },
        "outputId": "5ab424e1-4941-4c4f-a1e4-a4a52a4552ca"
      },
      "source": [
        "df_h[loss_df].describe()"
      ],
      "execution_count": null,
      "outputs": [
        {
          "output_type": "execute_result",
          "data": {
            "text/html": [
              "<div>\n",
              "<style scoped>\n",
              "    .dataframe tbody tr th:only-of-type {\n",
              "        vertical-align: middle;\n",
              "    }\n",
              "\n",
              "    .dataframe tbody tr th {\n",
              "        vertical-align: top;\n",
              "    }\n",
              "\n",
              "    .dataframe thead th {\n",
              "        text-align: right;\n",
              "    }\n",
              "</style>\n",
              "<table border=\"1\" class=\"dataframe\">\n",
              "  <thead>\n",
              "    <tr style=\"text-align: right;\">\n",
              "      <th></th>\n",
              "      <th>loss1</th>\n",
              "      <th>loss2</th>\n",
              "      <th>loss3</th>\n",
              "      <th>loss4</th>\n",
              "      <th>loss5</th>\n",
              "      <th>loss6</th>\n",
              "    </tr>\n",
              "  </thead>\n",
              "  <tbody>\n",
              "    <tr>\n",
              "      <th>count</th>\n",
              "      <td>10.000000</td>\n",
              "      <td>10.000000</td>\n",
              "      <td>10.000000</td>\n",
              "      <td>10.000000</td>\n",
              "      <td>10.000000</td>\n",
              "      <td>10.000000</td>\n",
              "    </tr>\n",
              "    <tr>\n",
              "      <th>mean</th>\n",
              "      <td>2.100045</td>\n",
              "      <td>1.229674</td>\n",
              "      <td>2.052606</td>\n",
              "      <td>0.381959</td>\n",
              "      <td>0.221484</td>\n",
              "      <td>0.194350</td>\n",
              "    </tr>\n",
              "    <tr>\n",
              "      <th>std</th>\n",
              "      <td>0.167746</td>\n",
              "      <td>0.567511</td>\n",
              "      <td>0.457060</td>\n",
              "      <td>0.146005</td>\n",
              "      <td>0.170033</td>\n",
              "      <td>0.123298</td>\n",
              "    </tr>\n",
              "    <tr>\n",
              "      <th>min</th>\n",
              "      <td>1.811453</td>\n",
              "      <td>0.796029</td>\n",
              "      <td>1.510722</td>\n",
              "      <td>0.273889</td>\n",
              "      <td>0.112139</td>\n",
              "      <td>0.103332</td>\n",
              "    </tr>\n",
              "    <tr>\n",
              "      <th>25%</th>\n",
              "      <td>1.987614</td>\n",
              "      <td>0.878915</td>\n",
              "      <td>1.704291</td>\n",
              "      <td>0.292991</td>\n",
              "      <td>0.132696</td>\n",
              "      <td>0.130523</td>\n",
              "    </tr>\n",
              "    <tr>\n",
              "      <th>50%</th>\n",
              "      <td>2.128858</td>\n",
              "      <td>1.015956</td>\n",
              "      <td>1.956792</td>\n",
              "      <td>0.331914</td>\n",
              "      <td>0.162616</td>\n",
              "      <td>0.154021</td>\n",
              "    </tr>\n",
              "    <tr>\n",
              "      <th>75%</th>\n",
              "      <td>2.230349</td>\n",
              "      <td>1.303152</td>\n",
              "      <td>2.328841</td>\n",
              "      <td>0.396206</td>\n",
              "      <td>0.220671</td>\n",
              "      <td>0.201170</td>\n",
              "    </tr>\n",
              "    <tr>\n",
              "      <th>max</th>\n",
              "      <td>2.309587</td>\n",
              "      <td>2.636696</td>\n",
              "      <td>2.891851</td>\n",
              "      <td>0.753816</td>\n",
              "      <td>0.678008</td>\n",
              "      <td>0.518688</td>\n",
              "    </tr>\n",
              "  </tbody>\n",
              "</table>\n",
              "</div>"
            ],
            "text/plain": [
              "           loss1      loss2      loss3      loss4      loss5      loss6\n",
              "count  10.000000  10.000000  10.000000  10.000000  10.000000  10.000000\n",
              "mean    2.100045   1.229674   2.052606   0.381959   0.221484   0.194350\n",
              "std     0.167746   0.567511   0.457060   0.146005   0.170033   0.123298\n",
              "min     1.811453   0.796029   1.510722   0.273889   0.112139   0.103332\n",
              "25%     1.987614   0.878915   1.704291   0.292991   0.132696   0.130523\n",
              "50%     2.128858   1.015956   1.956792   0.331914   0.162616   0.154021\n",
              "75%     2.230349   1.303152   2.328841   0.396206   0.220671   0.201170\n",
              "max     2.309587   2.636696   2.891851   0.753816   0.678008   0.518688"
            ]
          },
          "metadata": {},
          "execution_count": 81
        }
      ]
    },
    {
      "cell_type": "code",
      "metadata": {
        "id": "buySdgL1238m",
        "colab": {
          "base_uri": "https://localhost:8080/",
          "height": 291
        },
        "outputId": "9436da36-43d5-4308-c8e0-99504b0cec08"
      },
      "source": [
        "df_h[accuracy_df].describe()"
      ],
      "execution_count": null,
      "outputs": [
        {
          "output_type": "execute_result",
          "data": {
            "text/html": [
              "<div>\n",
              "<style scoped>\n",
              "    .dataframe tbody tr th:only-of-type {\n",
              "        vertical-align: middle;\n",
              "    }\n",
              "\n",
              "    .dataframe tbody tr th {\n",
              "        vertical-align: top;\n",
              "    }\n",
              "\n",
              "    .dataframe thead th {\n",
              "        text-align: right;\n",
              "    }\n",
              "</style>\n",
              "<table border=\"1\" class=\"dataframe\">\n",
              "  <thead>\n",
              "    <tr style=\"text-align: right;\">\n",
              "      <th></th>\n",
              "      <th>accuracy1</th>\n",
              "      <th>accuracy2</th>\n",
              "      <th>accuracy3</th>\n",
              "      <th>accuracy4</th>\n",
              "      <th>accuracy5</th>\n",
              "      <th>accuracy6</th>\n",
              "    </tr>\n",
              "  </thead>\n",
              "  <tbody>\n",
              "    <tr>\n",
              "      <th>count</th>\n",
              "      <td>10.000000</td>\n",
              "      <td>10.000000</td>\n",
              "      <td>10.000000</td>\n",
              "      <td>10.000000</td>\n",
              "      <td>10.000000</td>\n",
              "      <td>10.000000</td>\n",
              "    </tr>\n",
              "    <tr>\n",
              "      <th>mean</th>\n",
              "      <td>0.288160</td>\n",
              "      <td>0.597725</td>\n",
              "      <td>0.328490</td>\n",
              "      <td>0.860146</td>\n",
              "      <td>0.927881</td>\n",
              "      <td>0.934673</td>\n",
              "    </tr>\n",
              "    <tr>\n",
              "      <th>std</th>\n",
              "      <td>0.119396</td>\n",
              "      <td>0.146754</td>\n",
              "      <td>0.122413</td>\n",
              "      <td>0.054262</td>\n",
              "      <td>0.049160</td>\n",
              "      <td>0.038615</td>\n",
              "    </tr>\n",
              "    <tr>\n",
              "      <th>min</th>\n",
              "      <td>0.085479</td>\n",
              "      <td>0.251812</td>\n",
              "      <td>0.127771</td>\n",
              "      <td>0.722562</td>\n",
              "      <td>0.799625</td>\n",
              "      <td>0.833708</td>\n",
              "    </tr>\n",
              "    <tr>\n",
              "      <th>25%</th>\n",
              "      <td>0.206651</td>\n",
              "      <td>0.567458</td>\n",
              "      <td>0.241990</td>\n",
              "      <td>0.853594</td>\n",
              "      <td>0.924292</td>\n",
              "      <td>0.932484</td>\n",
              "    </tr>\n",
              "    <tr>\n",
              "      <th>50%</th>\n",
              "      <td>0.311833</td>\n",
              "      <td>0.652208</td>\n",
              "      <td>0.345010</td>\n",
              "      <td>0.879240</td>\n",
              "      <td>0.944333</td>\n",
              "      <td>0.946333</td>\n",
              "    </tr>\n",
              "    <tr>\n",
              "      <th>75%</th>\n",
              "      <td>0.383781</td>\n",
              "      <td>0.693010</td>\n",
              "      <td>0.424146</td>\n",
              "      <td>0.892849</td>\n",
              "      <td>0.955479</td>\n",
              "      <td>0.954760</td>\n",
              "    </tr>\n",
              "    <tr>\n",
              "      <th>max</th>\n",
              "      <td>0.431854</td>\n",
              "      <td>0.719938</td>\n",
              "      <td>0.485271</td>\n",
              "      <td>0.900250</td>\n",
              "      <td>0.962500</td>\n",
              "      <td>0.964458</td>\n",
              "    </tr>\n",
              "  </tbody>\n",
              "</table>\n",
              "</div>"
            ],
            "text/plain": [
              "       accuracy1  accuracy2  accuracy3  accuracy4  accuracy5  accuracy6\n",
              "count  10.000000  10.000000  10.000000  10.000000  10.000000  10.000000\n",
              "mean    0.288160   0.597725   0.328490   0.860146   0.927881   0.934673\n",
              "std     0.119396   0.146754   0.122413   0.054262   0.049160   0.038615\n",
              "min     0.085479   0.251812   0.127771   0.722562   0.799625   0.833708\n",
              "25%     0.206651   0.567458   0.241990   0.853594   0.924292   0.932484\n",
              "50%     0.311833   0.652208   0.345010   0.879240   0.944333   0.946333\n",
              "75%     0.383781   0.693010   0.424146   0.892849   0.955479   0.954760\n",
              "max     0.431854   0.719938   0.485271   0.900250   0.962500   0.964458"
            ]
          },
          "metadata": {},
          "execution_count": 82
        }
      ]
    },
    {
      "cell_type": "code",
      "metadata": {
        "id": "UBIw0dq028h_",
        "colab": {
          "base_uri": "https://localhost:8080/",
          "height": 291
        },
        "outputId": "87e76d22-c390-459f-df09-33b0a40e8de0"
      },
      "source": [
        "df_h[val_loss_df].describe()"
      ],
      "execution_count": null,
      "outputs": [
        {
          "output_type": "execute_result",
          "data": {
            "text/html": [
              "<div>\n",
              "<style scoped>\n",
              "    .dataframe tbody tr th:only-of-type {\n",
              "        vertical-align: middle;\n",
              "    }\n",
              "\n",
              "    .dataframe tbody tr th {\n",
              "        vertical-align: top;\n",
              "    }\n",
              "\n",
              "    .dataframe thead th {\n",
              "        text-align: right;\n",
              "    }\n",
              "</style>\n",
              "<table border=\"1\" class=\"dataframe\">\n",
              "  <thead>\n",
              "    <tr style=\"text-align: right;\">\n",
              "      <th></th>\n",
              "      <th>val_loss1</th>\n",
              "      <th>val_loss2</th>\n",
              "      <th>val_loss3</th>\n",
              "      <th>val_loss4</th>\n",
              "      <th>val_loss5</th>\n",
              "      <th>val_loss6</th>\n",
              "    </tr>\n",
              "  </thead>\n",
              "  <tbody>\n",
              "    <tr>\n",
              "      <th>count</th>\n",
              "      <td>10.000000</td>\n",
              "      <td>10.000000</td>\n",
              "      <td>10.000000</td>\n",
              "      <td>10.000000</td>\n",
              "      <td>10.000000</td>\n",
              "      <td>10.000000</td>\n",
              "    </tr>\n",
              "    <tr>\n",
              "      <th>mean</th>\n",
              "      <td>14.996166</td>\n",
              "      <td>633.297893</td>\n",
              "      <td>162.155050</td>\n",
              "      <td>1.970616</td>\n",
              "      <td>0.303116</td>\n",
              "      <td>0.322612</td>\n",
              "    </tr>\n",
              "    <tr>\n",
              "      <th>std</th>\n",
              "      <td>5.537204</td>\n",
              "      <td>242.121426</td>\n",
              "      <td>32.800712</td>\n",
              "      <td>0.969425</td>\n",
              "      <td>0.172330</td>\n",
              "      <td>0.219587</td>\n",
              "    </tr>\n",
              "    <tr>\n",
              "      <th>min</th>\n",
              "      <td>9.764501</td>\n",
              "      <td>78.771805</td>\n",
              "      <td>69.414009</td>\n",
              "      <td>0.808915</td>\n",
              "      <td>0.209528</td>\n",
              "      <td>0.208225</td>\n",
              "    </tr>\n",
              "    <tr>\n",
              "      <th>25%</th>\n",
              "      <td>10.662910</td>\n",
              "      <td>628.194275</td>\n",
              "      <td>169.033230</td>\n",
              "      <td>1.338070</td>\n",
              "      <td>0.233574</td>\n",
              "      <td>0.229612</td>\n",
              "    </tr>\n",
              "    <tr>\n",
              "      <th>50%</th>\n",
              "      <td>13.433424</td>\n",
              "      <td>761.499451</td>\n",
              "      <td>172.484421</td>\n",
              "      <td>1.819826</td>\n",
              "      <td>0.240889</td>\n",
              "      <td>0.239331</td>\n",
              "    </tr>\n",
              "    <tr>\n",
              "      <th>75%</th>\n",
              "      <td>17.842721</td>\n",
              "      <td>770.062881</td>\n",
              "      <td>174.446438</td>\n",
              "      <td>2.285453</td>\n",
              "      <td>0.267490</td>\n",
              "      <td>0.271494</td>\n",
              "    </tr>\n",
              "    <tr>\n",
              "      <th>max</th>\n",
              "      <td>25.734808</td>\n",
              "      <td>775.023926</td>\n",
              "      <td>178.879776</td>\n",
              "      <td>3.948125</td>\n",
              "      <td>0.777968</td>\n",
              "      <td>0.924992</td>\n",
              "    </tr>\n",
              "  </tbody>\n",
              "</table>\n",
              "</div>"
            ],
            "text/plain": [
              "       val_loss1   val_loss2   val_loss3  val_loss4  val_loss5  val_loss6\n",
              "count  10.000000   10.000000   10.000000  10.000000  10.000000  10.000000\n",
              "mean   14.996166  633.297893  162.155050   1.970616   0.303116   0.322612\n",
              "std     5.537204  242.121426   32.800712   0.969425   0.172330   0.219587\n",
              "min     9.764501   78.771805   69.414009   0.808915   0.209528   0.208225\n",
              "25%    10.662910  628.194275  169.033230   1.338070   0.233574   0.229612\n",
              "50%    13.433424  761.499451  172.484421   1.819826   0.240889   0.239331\n",
              "75%    17.842721  770.062881  174.446438   2.285453   0.267490   0.271494\n",
              "max    25.734808  775.023926  178.879776   3.948125   0.777968   0.924992"
            ]
          },
          "metadata": {},
          "execution_count": 83
        }
      ]
    },
    {
      "cell_type": "code",
      "metadata": {
        "id": "jrDXv3j_3Dlt",
        "colab": {
          "base_uri": "https://localhost:8080/",
          "height": 291
        },
        "outputId": "3a040163-5726-488f-c56d-44ab20bf260d"
      },
      "source": [
        "df_h[val_accuracy_df].describe()"
      ],
      "execution_count": null,
      "outputs": [
        {
          "output_type": "execute_result",
          "data": {
            "text/html": [
              "<div>\n",
              "<style scoped>\n",
              "    .dataframe tbody tr th:only-of-type {\n",
              "        vertical-align: middle;\n",
              "    }\n",
              "\n",
              "    .dataframe tbody tr th {\n",
              "        vertical-align: top;\n",
              "    }\n",
              "\n",
              "    .dataframe thead th {\n",
              "        text-align: right;\n",
              "    }\n",
              "</style>\n",
              "<table border=\"1\" class=\"dataframe\">\n",
              "  <thead>\n",
              "    <tr style=\"text-align: right;\">\n",
              "      <th></th>\n",
              "      <th>val_accuracy1</th>\n",
              "      <th>val_accuracy2</th>\n",
              "      <th>val_accuracy3</th>\n",
              "      <th>val_accuracy4</th>\n",
              "      <th>val_accuracy5</th>\n",
              "      <th>val_accuracy6</th>\n",
              "    </tr>\n",
              "  </thead>\n",
              "  <tbody>\n",
              "    <tr>\n",
              "      <th>count</th>\n",
              "      <td>10.000000</td>\n",
              "      <td>10.000000</td>\n",
              "      <td>10.000000</td>\n",
              "      <td>10.000000</td>\n",
              "      <td>10.000000</td>\n",
              "      <td>10.000000</td>\n",
              "    </tr>\n",
              "    <tr>\n",
              "      <th>mean</th>\n",
              "      <td>0.471983</td>\n",
              "      <td>0.318208</td>\n",
              "      <td>0.290675</td>\n",
              "      <td>0.508883</td>\n",
              "      <td>0.890658</td>\n",
              "      <td>0.899583</td>\n",
              "    </tr>\n",
              "    <tr>\n",
              "      <th>std</th>\n",
              "      <td>0.173244</td>\n",
              "      <td>0.127836</td>\n",
              "      <td>0.075867</td>\n",
              "      <td>0.178574</td>\n",
              "      <td>0.080461</td>\n",
              "      <td>0.050967</td>\n",
              "    </tr>\n",
              "    <tr>\n",
              "      <th>min</th>\n",
              "      <td>0.101000</td>\n",
              "      <td>0.115333</td>\n",
              "      <td>0.124500</td>\n",
              "      <td>0.175333</td>\n",
              "      <td>0.667583</td>\n",
              "      <td>0.765250</td>\n",
              "    </tr>\n",
              "    <tr>\n",
              "      <th>25%</th>\n",
              "      <td>0.410979</td>\n",
              "      <td>0.225542</td>\n",
              "      <td>0.263188</td>\n",
              "      <td>0.423771</td>\n",
              "      <td>0.915833</td>\n",
              "      <td>0.912146</td>\n",
              "    </tr>\n",
              "    <tr>\n",
              "      <th>50%</th>\n",
              "      <td>0.546125</td>\n",
              "      <td>0.374167</td>\n",
              "      <td>0.313083</td>\n",
              "      <td>0.536917</td>\n",
              "      <td>0.918708</td>\n",
              "      <td>0.919667</td>\n",
              "    </tr>\n",
              "    <tr>\n",
              "      <th>75%</th>\n",
              "      <td>0.597458</td>\n",
              "      <td>0.418708</td>\n",
              "      <td>0.338625</td>\n",
              "      <td>0.625167</td>\n",
              "      <td>0.924729</td>\n",
              "      <td>0.925083</td>\n",
              "    </tr>\n",
              "    <tr>\n",
              "      <th>max</th>\n",
              "      <td>0.612917</td>\n",
              "      <td>0.437417</td>\n",
              "      <td>0.371083</td>\n",
              "      <td>0.729000</td>\n",
              "      <td>0.930000</td>\n",
              "      <td>0.926833</td>\n",
              "    </tr>\n",
              "  </tbody>\n",
              "</table>\n",
              "</div>"
            ],
            "text/plain": [
              "       val_accuracy1  val_accuracy2  ...  val_accuracy5  val_accuracy6\n",
              "count      10.000000      10.000000  ...      10.000000      10.000000\n",
              "mean        0.471983       0.318208  ...       0.890658       0.899583\n",
              "std         0.173244       0.127836  ...       0.080461       0.050967\n",
              "min         0.101000       0.115333  ...       0.667583       0.765250\n",
              "25%         0.410979       0.225542  ...       0.915833       0.912146\n",
              "50%         0.546125       0.374167  ...       0.918708       0.919667\n",
              "75%         0.597458       0.418708  ...       0.924729       0.925083\n",
              "max         0.612917       0.437417  ...       0.930000       0.926833\n",
              "\n",
              "[8 rows x 6 columns]"
            ]
          },
          "metadata": {},
          "execution_count": 84
        }
      ]
    },
    {
      "cell_type": "markdown",
      "metadata": {
        "id": "Ys4oNQ57rrr8"
      },
      "source": [
        "## CONCLUSIONES \n",
        "\n",
        "En los resultados finales se observa como los modelos que mejores resultados muestran son los que utilizan arquitecturas como MobileNet. Tiene sentido ya que como vimos en clase son modelos preentrenados y preparados, no es sorprendente que sean mejores que nuestros modelos. \n",
        "\n",
        "Si ponemos la atención en lo que ocurre dentro de los **4 primeros modelos** vemos lo siguiente:\n",
        "\n",
        "- La función de activación tiene un efecto importante. Esto lo vemos en el modelo 4 y 42 que están basados en los anteriores 2 y 3 cambiando la función de activación y los resultados del accuracy empeoran bastante. (El modelo 4 está basado en el 3 y el modelo 42 en el 2.) \n",
        "\n",
        "- Añadirle profundidad al modelo mejora su rendimiento. Si miramos el 1 y el 2, pasamos de un 50 a un 70 de accuracy. \n",
        "\n",
        "- Si pasamos al tercer modelo, en el que \"mejoramos\" el segundo añadiendole capas del tipo Max Pooling y dropout la realidad es que esto no ocurre, el modelo empeora bajando de nuevo a un 50 de accuracy. El dropout no tiene porque ser siempre postivo y las capas que se añaden tienen que relaizarse con cierto conocimiento porque añadir más puede derivar en empeorar el modelo. Es por esto que decimos que utilizar modelos preentrenados y **arquitecturas puede ser mejor** idea ya que los modelos están creados con más detalle y probados en muchos casos. \n",
        "\n",
        "\n",
        "Una de las cosas que aprendimos en clase que se refleja bien en la práctica es el uso de los **tres subsets de datos --> train, validate y test.** \n",
        "\n",
        "Entrenamos el modelo con train, conjunto con mayor cantidad de datos y lo evaluamos en el mismo instante con evaluate. \n",
        "\n",
        "Para sacar las métricas no usamos estos sets, usamos test, datos que nuestro modelo no ha visto hasta el momento logrando de esta manera evaluar de forma más precisa la eficiencia del modelo. \n",
        "\n",
        "La parte de **DataAugmentation** tiene la finalidad de mejorar los resultados ya que permite realizando pequeños cambios en los datos como rotaciones, desplazamientos a la derecha o izquierda entre otras cosas aumentar nuestro conjunto de datos de entrenamiento. Esta parte nos permite mejorar la precision de los modelos. \n",
        "\n",
        "\n",
        "Otro de los puntos a tener en cuenta es el tiempo. Los modelos más profundos, el que más en este caso DenseNet121 tardan bastante. Algunos llegando a los 20/30 minutos lo que tiene sentido pero también es algo a tener en cuenta a la hora de decidir que modelo preferimos. Si dos tienen una accuracy similares podemos considerar cual es el mejor dependiendo del tiempo que tarda en ejecutarse y más preciso el tiempo que tarda en cada epoch. \n",
        "\n"
      ]
    }
  ]
}