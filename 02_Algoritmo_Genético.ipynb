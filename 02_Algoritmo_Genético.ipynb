{
  "nbformat": 4,
  "nbformat_minor": 0,
  "metadata": {
    "colab": {
      "name": "02 - Algoritmo Genético.ipynb",
      "provenance": [],
      "collapsed_sections": []
    },
    "kernelspec": {
      "name": "python3",
      "display_name": "Python 3"
    },
    "language_info": {
      "name": "python"
    }
  },
  "cells": [
    {
      "cell_type": "markdown",
      "metadata": {
        "id": "48txrMHGTK91"
      },
      "source": [
        "## 🛑 Complete los siguientes datos \n",
        "\n",
        "- Nombre y Apellidos: **Haizea Rodriguez**\n",
        "- Entrega: **Algoritmo genético**\n",
        "- Fecha: 22/10/2021\n",
        "- Tiempo dedicado a la entrega: 4 horas\n",
        "- Principales dudas y dificultades encontrados en el desarrollo: \n",
        "\n",
        "> Dificultad para implementar la función Rastrigin\n",
        ">\n",
        "> Dificultad para entender alguna parte del enunciado como el método de mutación "
      ]
    },
    {
      "cell_type": "markdown",
      "metadata": {
        "id": "JzBiXMLnKXwu"
      },
      "source": [
        "#Instrucciones Generales\n",
        "\n",
        "**Laboratorio de IA**"
      ]
    },
    {
      "cell_type": "markdown",
      "metadata": {
        "id": "eUhMN-zEVOQf"
      },
      "source": [
        "**Contexto de la práctica, preliminares e instrucciones**\n",
        "\n",
        "Este es el cuaderno que utilizarás como **plantilla** para entrega de la asignatura Laboratorio de IA del tema correpondiente.\n",
        "\n",
        "La práctica está **alineada** con las sesiones de teoría y el ejemplo de código visto en el aula, por lo que es recomendable un repaso al material del tema previo a la implementación de la práctica. \n",
        "\n",
        "Por favor, **lee atentamente** el enunciado. Si tienes alguna duda, utiliza el foro o ponte en contacto con el profesor (pero no compartas código). \n",
        "\n",
        "Consideraciones generales sobre el código:\n",
        "- Cuando se le pida que presente un valor o resultado, muéstrelo con el contexto y la precisión adecuados, es decir, \"La tabla tiene 100 filas y 4 columnas\" en lugar de mostrar \"100 4\" por pantalla o \"precisión del 66,7%\" en lugar de simplemente imprimir \"0,66666666\".\n",
        "- Utilice tantas celdas (de texto o de código) como considere para dar una respuesta legible y clara a las preguntas planteadas.\n",
        "- Mostrar resultados intermedios o finales (tablas, contenido de las variables...) que demuestren que la solución es correcta si fuera necesario.\n",
        "- No olvide importar todas las librerías necesarias para la correcta ejecución del código, incluyendo la instalación de las mismas, si fuera necesario. \n",
        "\n",
        "\n",
        "**Para entregar el cuaderno:**\n",
        "- Imprímelo en un archivo PDF con todas las secciones expandidas y todas las celdas ejecutadas, de forma que se pueda ver todo el código y se muestren todos los resultados.\n",
        "- Guardar el cuaderno como archivo ipynb.\n",
        "\n",
        "Envía ambos archivos en una carpeta zip a ALUD. Nombre los ficheros con su nombre, apellidos y el número de práctica.\n",
        "\n",
        "**Evaluación:**  Esta práctica cuenta un 12.5% de la evaluación final de la asignatura.\n",
        "\n",
        "En las indicaciones, hay instrucciones extra indicadas con el símbolo 🤖. No son requisitos para superar la práctica, sino acciones que puedes realizar para mejorar la calificación.\n",
        "\n",
        "La calificación de los ejercicios se hará con los siguientes criterios:\n",
        "- [9 a 10] puntos: La solución aportada cumple con los requisitos de forma excelente y existen aspectos positivos o extras (🤖) que avalan su excelencia.\n",
        "- [7 a 9] puntos: La solución aportada cumple con los requisitos, pero algunas cuestiones menores son susceptibles de ser mejoradas, tales como: presentación de la solución, justificación de la decisión tomada, eficiencia del código...\n",
        "- [5 a 7] puntos: Las soluciones aportadas no cumplen alguno de los requisitos, como por ejemplo: no se responde a una pregunta, no se aporta la solución a una parte...\n",
        "- [1 a 5] puntos: La solución aportada no cumple con varios requisitos.\n",
        "- [0] puntos: solución no aportada o solución plagiada.\n",
        "\n",
        "La limpieza y la eficiencia del código, así como las explicaciones dadas serán tenidas en cuenta  para la evaluación.\n",
        "\n",
        "**Plazo:** El plazo de entrega de la práctica son dos semanas tras la presentación de la misma en el aula.\n",
        "\n",
        "Tenga presente que la práctica puede entregarse pasado el plazo dado, en cualquier momento del cuatrimestre, teniendo en cuenta que, la entrega pasado el plazo será evaluada sobre el 75% de la calificación.\n"
      ]
    },
    {
      "cell_type": "markdown",
      "metadata": {
        "id": "-YPrfQZnS4_6"
      },
      "source": [
        "# 🛑 Desarrollo a realizar\n",
        "\n",
        "A lo largo de las próximas celdas, tendrá que implementar un algoritmo genético con codificación real para localizar el valor mínimo de la función matemática conocida como [Rastrigin](https://en.wikipedia.org/wiki/Test_functions_for_optimization), para vectores de 10 elementos.\n",
        "\n",
        "\n",
        "**Requisitos básicos**\n",
        " - Implementar la función Rastrigin como función objetivo (sustituyendo a *onemax* en el ejemplo dado).\n",
        " - Definir una función de inicialización que genere un número determinado (n_pop) de individuos de 10 elemenos reales aleatorios en el rango [-5.12, 5,12].\n",
        " - Definir una función de Selección de Torneo (como la dada en el ejemplo).\n",
        " - Definir un operador de cruce aritmético que, dados dos individuos, genere dos hijos aleatorios en el rango definido por sus padres. \n",
        "  - Es decir si un padre tiene, en una posición el valor 3, y el otro el valor -1, ambos hijos tendrán en esa posición un valor aleatorio en el rango [-1,3].\n",
        "  - Los hijos se generarán con una probabilidad *r_cross*.\n",
        " - Definir un operador de mutación que, dado un hijo, para cada posición, y con una probabilidad *r_mut* cambie el valor por un valor aleatorio en el rango de la función.\n",
        " - Implemente y pruebe la función *genetic_algorithm* para 1000 iteraciones. \n",
        "\n",
        "**Consideraciones deseables**\n",
        " - Compruebe el resultado de cada función definida con un ejemplo de llamada sencillo, donde pueda comprobarse el correcto funcionamiento del método (como se ha hecho en el ejemplo).\n",
        " - Al igual que en el ejemplo, dentro del bucle de generaciones, muestre por pantalla cada vez que se obtiene un nuevo mejor individuo.\n",
        "\n",
        "**🤖Requisitos extra**\n",
        " - Cruce: En lugar del operador de cruce aritmético, implemente el operador BLX-alfa visto en clase, y ejecute para un valor alfa = 0.5.\n",
        " - Elitismo: asegúrese que, al final del bucle de la función *genetic_algorithm* el mejor individuo encontrado hasta el momento se encuentre en la población. De no ser así, insértelo en sustitución de uno elegido aleatoriamente. \n"
      ]
    },
    {
      "cell_type": "markdown",
      "metadata": {
        "id": "-HvWCUQ1BVcu"
      },
      "source": [
        "Importar librerías"
      ]
    },
    {
      "cell_type": "code",
      "metadata": {
        "id": "3KR_Et2uBVrn"
      },
      "source": [
        "from numpy.random import randint\n",
        "from numpy.random import rand\n",
        "import numpy as np\n",
        "from math import cos\n",
        "from math import pi"
      ],
      "execution_count": null,
      "outputs": []
    },
    {
      "cell_type": "markdown",
      "metadata": {
        "id": "7TalAupjBd2o"
      },
      "source": [
        "Definición de la función objetivo y prueba de su funcionamiento."
      ]
    },
    {
      "cell_type": "markdown",
      "metadata": {
        "id": "3uv1HJBTLIj4"
      },
      "source": [
        "La función objetivo en este caso se trata de Rastrigin.  \n",
        "\n",
        "\n",
        "> In mathematical optimization, the Rastrigin function is a non-convex function used as a performance test problem for optimization algorithms. [(Wikipedia)](https://en.wikipedia.org/wiki/Rastrigin_function)"
      ]
    },
    {
      "cell_type": "markdown",
      "metadata": {
        "id": "U_kha3z_hZ70"
      },
      "source": [
        "![image.png](data:image/png;base64,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)"
      ]
    },
    {
      "cell_type": "code",
      "metadata": {
        "id": "y3H8r6l9Bd2p"
      },
      "source": [
        "def rastrigin(cs):\n",
        "  return 10 * len(cs) + sum([((x)**2 - 10 * cos(2 * pi * (x))) for x in cs])\n"
      ],
      "execution_count": null,
      "outputs": []
    },
    {
      "cell_type": "code",
      "metadata": {
        "colab": {
          "base_uri": "https://localhost:8080/"
        },
        "id": "wlEDaSGlKNvu",
        "outputId": "d1b16756-e325-4af0-e07a-1de2e808ed80"
      },
      "source": [
        "rastrigin([1,2,3,4,5,6,7,8,9,10])"
      ],
      "execution_count": null,
      "outputs": [
        {
          "output_type": "execute_result",
          "data": {
            "text/plain": [
              "385.0"
            ]
          },
          "metadata": {},
          "execution_count": 3
        }
      ]
    },
    {
      "cell_type": "markdown",
      "metadata": {
        "id": "-0u1IZwiBeZl"
      },
      "source": [
        "Definición de la función de inicialización y prueba de su funcionamiento."
      ]
    },
    {
      "cell_type": "code",
      "metadata": {
        "id": "ZXC7rmAXBeZn"
      },
      "source": [
        "def initialize(n_pop, n_bits):\n",
        "\n",
        "  ## Sin decimales\n",
        "  #return [randint(-5.12, 5.12) for _ in range(n_pop)]\n",
        "\n",
        "  ## Sin redondear a dos decimales\n",
        "\t#return [np.random.uniform(-5.12, 5.12) for _ in range(n_pop)]\n",
        "\n",
        "  ## Redondeando a dos decimales\n",
        "  #return [round(np.random.uniform(-5.12, 5.12, 2) for _ in range(n_pop)]\n",
        "\n",
        "  \n",
        "\treturn [np.random.uniform(-5.12, 5.12,  n_bits).tolist() for _ in range(n_pop)]"
      ],
      "execution_count": null,
      "outputs": []
    },
    {
      "cell_type": "markdown",
      "metadata": {
        "id": "MTMmW9s6hgu8"
      },
      "source": [
        "Prueba de que la inicialización funciona correctamente, se crean 3 vectores de 10 elementos cada uno. "
      ]
    },
    {
      "cell_type": "code",
      "metadata": {
        "colab": {
          "base_uri": "https://localhost:8080/"
        },
        "id": "435XjPiKNKXI",
        "outputId": "0c76b074-aff0-4706-eab1-40063f16b702"
      },
      "source": [
        "initial_pop = initialize(3,10)\n",
        "initial_pop"
      ],
      "execution_count": null,
      "outputs": [
        {
          "output_type": "execute_result",
          "data": {
            "text/plain": [
              "[[-4.0100421469291545,\n",
              "  -0.04768808724565954,\n",
              "  -4.161834225225331,\n",
              "  -2.852230422640446,\n",
              "  4.608591643006981,\n",
              "  -3.6120229556876984,\n",
              "  2.0020195824391624,\n",
              "  2.4835212877513255,\n",
              "  3.2429939551418405,\n",
              "  3.3358578228270135],\n",
              " [2.296466959832533,\n",
              "  0.6923311452226519,\n",
              "  -1.9635919442426415,\n",
              "  4.309801488197107,\n",
              "  -3.74306622561656,\n",
              "  1.9136233454804845,\n",
              "  3.46445794751265,\n",
              "  1.3175886073451695,\n",
              "  -4.4097734451277555,\n",
              "  4.572238935916192],\n",
              " [-3.6836609616827265,\n",
              "  1.517736239699758,\n",
              "  -2.451149428266283,\n",
              "  1.0942452469487058,\n",
              "  -2.2700230260685705,\n",
              "  3.6422186127347542,\n",
              "  -1.2803625780293544,\n",
              "  -2.6512793376501667,\n",
              "  -1.6271782062016587,\n",
              "  2.668428544943522]]"
            ]
          },
          "metadata": {},
          "execution_count": 5
        }
      ]
    },
    {
      "cell_type": "markdown",
      "metadata": {
        "id": "k-dmO7fWhsIb"
      },
      "source": [
        "Calculamos el score de cada uno de ellos utilizando la función rastrigin definida en las primeras celdas"
      ]
    },
    {
      "cell_type": "code",
      "metadata": {
        "colab": {
          "base_uri": "https://localhost:8080/"
        },
        "id": "2cMFiDR2O5ic",
        "outputId": "79048594-01cb-458b-9800-6e7320c01282"
      },
      "source": [
        "scores = [rastrigin(c) for c in initial_pop]\n",
        "scores"
      ],
      "execution_count": null,
      "outputs": [
        {
          "output_type": "execute_result",
          "data": {
            "text/plain": [
              "[196.88838485667932, 223.46625493942742, 202.2630258691633]"
            ]
          },
          "metadata": {},
          "execution_count": 6
        }
      ]
    },
    {
      "cell_type": "markdown",
      "metadata": {
        "id": "kHaMg6vSBe2M"
      },
      "source": [
        "Implementación de la función de selección y prueba del funcionamiento.\n",
        "\n"
      ]
    },
    {
      "cell_type": "code",
      "metadata": {
        "id": "sEX-6y1QBe2N"
      },
      "source": [
        "def selection(pop, scores, k=3):\n",
        "\tselection_ix = randint(len(pop))\n",
        "\tfor ix in randint(0, len(pop), k-1):\n",
        "\t\tif scores[ix] < scores[selection_ix]:\n",
        "\t\t\tselection_ix = ix\n",
        "\treturn pop[selection_ix]"
      ],
      "execution_count": null,
      "outputs": []
    },
    {
      "cell_type": "code",
      "metadata": {
        "colab": {
          "base_uri": "https://localhost:8080/"
        },
        "id": "ygiXcguaOv1X",
        "outputId": "d6bf23a5-840b-4c86-cc14-3c2b8979b72d"
      },
      "source": [
        "selected = selection(initial_pop, scores, 3)\n",
        "score = rastrigin(selected)\n",
        "print('f(%s) = %f' % (selected, score))"
      ],
      "execution_count": null,
      "outputs": [
        {
          "output_type": "stream",
          "name": "stdout",
          "text": [
            "f([-4.0100421469291545, -0.04768808724565954, -4.161834225225331, -2.852230422640446, 4.608591643006981, -3.6120229556876984, 2.0020195824391624, 2.4835212877513255, 3.2429939551418405, 3.3358578228270135]) = 196.888385\n"
          ]
        }
      ]
    },
    {
      "cell_type": "code",
      "metadata": {
        "colab": {
          "base_uri": "https://localhost:8080/"
        },
        "id": "M_lY2it7rWiv",
        "outputId": "e10ad164-e505-4d43-e020-8b5d52ad692e"
      },
      "source": [
        "[rastrigin(selection(initial_pop, scores, 2)) for c in list(range(1,20))]"
      ],
      "execution_count": null,
      "outputs": [
        {
          "output_type": "execute_result",
          "data": {
            "text/plain": [
              "[202.2630258691633,\n",
              " 223.46625493942742,\n",
              " 202.2630258691633,\n",
              " 196.88838485667932,\n",
              " 223.46625493942742,\n",
              " 196.88838485667932,\n",
              " 196.88838485667932,\n",
              " 202.2630258691633,\n",
              " 223.46625493942742,\n",
              " 196.88838485667932,\n",
              " 196.88838485667932,\n",
              " 202.2630258691633,\n",
              " 196.88838485667932,\n",
              " 196.88838485667932,\n",
              " 196.88838485667932,\n",
              " 196.88838485667932,\n",
              " 196.88838485667932,\n",
              " 196.88838485667932,\n",
              " 196.88838485667932]"
            ]
          },
          "metadata": {},
          "execution_count": 9
        }
      ]
    },
    {
      "cell_type": "markdown",
      "metadata": {
        "id": "oWRYR4QVBfJ4"
      },
      "source": [
        "Implementación de la función de cruce (Aritmético ó BLX a su elección) y prueba del funcionamiento."
      ]
    },
    {
      "cell_type": "markdown",
      "metadata": {
        "id": "gHQqkRXuQY55"
      },
      "source": [
        "Mira para cada padre p1, p2 el valor en la posición X y asigna a los hijos c1, c2 un valor de forma random dentro de ese rango. Se repite el proceso para cada una de las posiciones. \n",
        "\n",
        "\n",
        "c1 = [1,2,1,1]\n",
        "c2= [2,1,3,2]\n",
        "\n",
        "El primer valor de p1 y p2 tiene que estar comprendido entre 1 y 2 \n",
        "\n",
        "El segundo valor de p1 y p2 tiene que estar comprendido entre 1 y 2\n",
        "\n",
        "... \n",
        "\n"
      ]
    },
    {
      "cell_type": "code",
      "metadata": {
        "id": "XLaCjngLJjw0"
      },
      "source": [
        "#Ahora mismo no está siendo utilizado ya que se utiliza el segundo método de Crossover basado en BLX-alfa\n",
        "def crossover1(p1, p2, r_cross):\n",
        "  c1, c2 = p1.copy(), p2.copy()\n",
        "  if rand() < r_cross:\n",
        "    #Para cada valor \n",
        "    i = 0\n",
        "    while i < len(c1):\n",
        "      #Mira si es mayor el valor de p1 o de p2 para poder asignar el rango correctamente\n",
        "      if (p1[i]<p2[i]):\n",
        "        c1[i] = np.random.uniform(p1[i], p2[i])\n",
        "        c2[i] = np.random.uniform(p1[i], p2[i])\n",
        "\n",
        "      else: \n",
        "         c1[i] = np.random.uniform(p2[i], p1[i])\n",
        "         c2[i] = np.random.uniform(p2[i], p1[i])\n",
        "      i+=1\n",
        "\n",
        "  return [c1, c2]"
      ],
      "execution_count": null,
      "outputs": []
    },
    {
      "cell_type": "markdown",
      "metadata": {
        "id": "qGYakbI_bQ0b"
      },
      "source": [
        "Operador de cruce utilizando la codificación real de BLX-alfa\n",
        "\n"
      ]
    },
    {
      "cell_type": "markdown",
      "metadata": {
        "id": "FxMz2uitbc47"
      },
      "source": [
        "Alfa según el enunciado tiene un valor de 0,5 que está hardcodeado. "
      ]
    },
    {
      "cell_type": "markdown",
      "metadata": {
        "id": "qCBYKKGubZvl"
      },
      "source": [
        "![image.png](data:image/png;base64,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)"
      ]
    },
    {
      "cell_type": "code",
      "metadata": {
        "id": "s1CrJ0myY8KW"
      },
      "source": [
        "def crossover(p1, p2, r_cross, alfa):\n",
        "  c1, c2 = p1.copy(), p2.copy()\n",
        "  if rand() < r_cross:\n",
        "    #Para cada valor \n",
        "    x = 0\n",
        "    while x < len(c1):\n",
        "      #Mira si es mayor el valor de p1 o de p2 para poder asignar el rango correctamente\n",
        "      if (p1[x]<p2[x]):\n",
        "        i = p2[x] - p1[x]\n",
        "        c1[x] = np.random.uniform(p1[x] - (alfa*i), p2[x] + (alfa*i))\n",
        "        c2[x] = np.random.uniform(p1[x] - (alfa*i), p2[x] + (alfa*i))\n",
        "      \n",
        "      else: \n",
        "        i = p1[x] - p2[x]\n",
        "        c1[x] = np.random.uniform(p2[x] - (alfa*i), p1[x] + (alfa*i))\n",
        "        c2[x] = np.random.uniform(p2[x] - (alfa*i), p1[x] + (alfa*i))\n",
        "      x+=1\n",
        "      \n",
        "  return [c1, c2]"
      ],
      "execution_count": null,
      "outputs": []
    },
    {
      "cell_type": "markdown",
      "metadata": {
        "id": "Pnn7Oq8niRmT"
      },
      "source": [
        "Prueba de que todo funciona correctamente conociendo dos padres devolver dos hijos generados en este caso usando el crossover del tipo BLX-alfa"
      ]
    },
    {
      "cell_type": "code",
      "metadata": {
        "colab": {
          "base_uri": "https://localhost:8080/"
        },
        "id": "5e4N2GwpskY3",
        "outputId": "396a5ba9-2a3e-4d6b-c445-21e05ced81e3"
      },
      "source": [
        "[p1, p2] = [initial_pop[1], initial_pop[2]]\n",
        "[c1, c2] = crossover(p1, p2, 0.9, 0.5)\n",
        "print(\"Padre 1: %s\\nPadre 2: %s\\nHijo  1: %s\\nHijo  2: %s\" % (p1,p2,c1,c2))"
      ],
      "execution_count": null,
      "outputs": [
        {
          "output_type": "stream",
          "name": "stdout",
          "text": [
            "Padre 1: [2.296466959832533, 0.6923311452226519, -1.9635919442426415, 4.309801488197107, -3.74306622561656, 1.9136233454804845, 3.46445794751265, 1.3175886073451695, -4.4097734451277555, 4.572238935916192]\n",
            "Padre 2: [-3.6836609616827265, 1.517736239699758, -2.451149428266283, 1.0942452469487058, -2.2700230260685705, 3.6422186127347542, -1.2803625780293544, -2.6512793376501667, -1.6271782062016587, 2.668428544943522]\n",
            "Hijo  1: [3.2780198984220235, 1.8571676717779626, -1.9978458813187787, 4.6654644696926635, -3.9594971353566537, 4.364926775207421, -1.094393149201351, 0.9836701956237848, -1.2765389412467947, 2.5455838515584537]\n",
            "Hijo  2: [-0.15506292114108877, 1.6899109507982457, -1.9116516036312508, 5.64684720479851, -4.440161189291344, 1.5919395694221974, -2.899585230822874, -0.6823817311072209, -0.691740080782755, 2.471638067871917]\n"
          ]
        }
      ]
    },
    {
      "cell_type": "markdown",
      "metadata": {
        "id": "h6Q4yMbqBfaX"
      },
      "source": [
        "Implementación y prueba de la función de mutación."
      ]
    },
    {
      "cell_type": "markdown",
      "metadata": {
        "id": "DhoS459YWInL"
      },
      "source": [
        "En este caso la mutación para cada valor del individuo y con una probabilidad definida en la variable r_mut cambie el valor por uno comprendido en el rango de la función, en nuestro caso es [ -5.12, 5.12 ] "
      ]
    },
    {
      "cell_type": "code",
      "metadata": {
        "id": "zJ5yrfEKsrSY"
      },
      "source": [
        "def mutation(bitstring, r_mut, MIN, MAX):\n",
        "\n",
        "  for i in range(len(bitstring)):\n",
        "    if rand() < r_mut:\n",
        "      #cambia por un valor radnom dentro del rango del individuo\n",
        "      bitstring[i] = np.random.uniform(MIN, MAX)\n",
        "\n",
        "      #Implementación del ejemplo de clase\n",
        "      #bitstring[i] = 1 - bitstring[i]\n",
        "  return bitstring "
      ],
      "execution_count": null,
      "outputs": []
    },
    {
      "cell_type": "code",
      "metadata": {
        "colab": {
          "base_uri": "https://localhost:8080/"
        },
        "id": "b3LajnemsvKq",
        "outputId": "dc53aa9f-8b58-4a35-97bb-213a08f28ae7"
      },
      "source": [
        "ind = initial_pop[2]\n",
        "print(\"Individuo: %s\" % (ind))\n",
        "res = mutation(ind, 0.2, -5.12, 5.12)\n",
        "print(\"Mutado:    %s\" % (res))"
      ],
      "execution_count": null,
      "outputs": [
        {
          "output_type": "stream",
          "name": "stdout",
          "text": [
            "Individuo: [-3.6836609616827265, 1.517736239699758, -2.451149428266283, 1.0942452469487058, -2.2700230260685705, 3.6422186127347542, -1.2803625780293544, -2.6512793376501667, -1.6271782062016587, 2.668428544943522]\n",
            "Mutado:    [-3.6836609616827265, 0.28600867140076236, -2.451149428266283, 1.0942452469487058, -2.2700230260685705, 3.6422186127347542, -1.2803625780293544, 1.2960167249773713, -1.6271782062016587, 2.668428544943522]\n"
          ]
        }
      ]
    },
    {
      "cell_type": "markdown",
      "metadata": {
        "id": "uh5bS-eQBfq0"
      },
      "source": [
        "Implementación de la función *genetic_algorithm* (incluyendo el Elitismo, si así lo desea)."
      ]
    },
    {
      "cell_type": "code",
      "metadata": {
        "id": "HiSJ4Db0Bfq1"
      },
      "source": [
        "def genetic_algorithm(objective, n_bits, n_iter, n_pop, k, r_cross, r_mut, MIN, MAX, alfa):\n",
        "\tpop = initialize(n_pop, n_bits)\n",
        "\tbest, best_eval = 0, objective(pop[0])\n",
        "\tfor gen in range(n_iter):\n",
        "\t\tscores = [objective(c) for c in pop]\n",
        "\t\tfor i in range(n_pop):\n",
        "\t\t\tif scores[i] < best_eval:\n",
        "\t\t\t\tbest, best_eval = pop[i], scores[i]\n",
        "\t\t\t\tprint(\">%d, new best f(%s) = %.3f\" % (gen,  pop[i], scores[i]))\n",
        "\t\tselected = [selection(pop, scores) for _ in range(n_pop)]\n",
        "\t\tchildren = list()\n",
        "\t\tfor i in range(0, n_pop, 2):\n",
        "\t\t\tp1, p2 = selected[i], selected[i+1]\n",
        "\t\t\tfor c in crossover(p1, p2, r_cross, alfa):\n",
        "\t\t\t\tmutation(c, r_mut, MIN, MAX)\n",
        "\t\t\t\tchildren.append(c)\n",
        "\t\tpop = children\n",
        "\treturn [best, best_eval]"
      ],
      "execution_count": null,
      "outputs": []
    },
    {
      "cell_type": "markdown",
      "metadata": {
        "id": "cLHmDbBzBf7W"
      },
      "source": [
        "Prueba de método."
      ]
    },
    {
      "cell_type": "markdown",
      "metadata": {
        "id": "gZkWEtSEiyA7"
      },
      "source": [
        "En esta celda se introducen los valores de las variables fundamentales y se ejecuta el método principal genetic_algorithm "
      ]
    },
    {
      "cell_type": "code",
      "metadata": {
        "id": "2MGM78LDBf7W",
        "colab": {
          "base_uri": "https://localhost:8080/"
        },
        "outputId": "dac15ce1-cd2c-4d63-8d5a-e78796ef2eac"
      },
      "source": [
        "n_iter = 1000\n",
        "n_bits = 10\n",
        "n_pop = 100\n",
        "k = 3\n",
        "r_cross = 0.8\n",
        "r_mut = 1.0 / float(n_bits)\n",
        "MIN = -5.12\n",
        "MAX = 5.12\n",
        "alfa = 0.5\n",
        "best, score = genetic_algorithm(rastrigin, n_bits, n_iter, n_pop, k, r_cross, r_mut, MIN, MAX, alfa)\n",
        "print('Done!')"
      ],
      "execution_count": null,
      "outputs": [
        {
          "output_type": "stream",
          "name": "stdout",
          "text": [
            ">0, new best f([0.17691652378044598, 0.07884845141119623, 4.059451379997172, 1.0377556457845394, 2.657891111493491, -3.2762523339232588, -2.6536171353056353, -0.8257697882762383, 0.18105242111906605, 2.519072567606881]) = 131.185\n",
            ">0, new best f([3.211068461827735, 0.03233452254525826, -0.08137580227191243, 4.803695087856238, -1.214769278349364, -0.06283139118136649, -0.34277051209367393, 1.751987095402578, -0.21188570868991974, -1.7713787616056722]) = 107.238\n",
            ">2, new best f([2.005782234918267, -4.3398446150437415, 0.4172755242718497, 1.4913364520864523, -0.7992014363485178, -1.9079912053017942, -0.8914000024812001, 0.0703102849668168, -1.8567469326531623, 0.8982895911217081]) = 106.150\n",
            ">2, new best f([-2.0835369206508894, 1.022259740451839, -2.8568273631059657, 0.9804031120292489, -4.623374834482128, 1.370593524585073, -0.07110627658619695, -2.0030989525623997, 0.9517478400865897, -0.9840935921425825]) = 84.460\n",
            ">2, new best f([0.7812230717407944, 3.0663049503715936, -0.808805618828953, 1.7449233977336562, -0.7707693931043123, -1.2662818733496561, -1.8923794666248361, -0.05218395087390615, -1.078447712414646, -0.9403316013396168]) = 71.492\n",
            ">4, new best f([1.2171687337688386, 0.2132148004382537, 0.9505904672660583, 1.9606366378278681, -0.32986537638708, -1.9778761355104777, 2.0933938554049414, 0.07456486821912461, -2.0483366291520433, 0.861267000895025]) = 57.743\n",
            ">15, new best f([0.21543644032782683, -0.11223210710109263, 0.8230996694692589, 0.8238320442142086, -1.873893221596731, 0.7677442842278099, -2.8653418250624703, 0.05036895607819508, 0.0009119712722801265, 2.0344912409845]) = 55.158\n",
            ">16, new best f([-0.0657763050236313, 0.22088429839145174, -0.8138642804612015, 1.0028646066362348, -1.8233278355094047, -0.9977948684983234, -0.9761402341053187, -1.6722132502870377, -0.1918337955063722, -0.8936071321136247]) = 54.685\n",
            ">20, new best f([0.1807748773932607, 1.0445839424324226, 0.9628876337930915, 0.08184989721078254, 0.022917002295298694, 2.0648333195131157, -1.9599028807140872, 2.8524955880513154, 0.1436148776216601, 1.1098364220857357]) = 38.617\n",
            ">267, new best f([-0.807598420327433, 0.9619467254708605, 0.12113915819681965, -2.9155012389693047, -0.14805519644677628, 1.074665838215961, 0.8802720299595796, -0.9261713030581652, -1.0193613649367634, -0.8607898350636668]) = 38.083\n",
            ">456, new best f([1.0092300691552782, -0.8344552720576706, -1.068553782029302, 0.987603015759752, -0.9382054511609746, -0.09455205510964193, -2.1488998694244303, 0.03188127233632379, -1.1001508981883559, 1.1990156238477632]) = 33.378\n",
            ">668, new best f([1.905398063623723, 0.03558562696238621, 1.9528398706027001, -0.944049214418099, -0.9195400320679892, 0.06942209440741409, -1.7855342343769331, 0.039379047573715464, 1.029582689419387, 0.9047793559414505]) = 29.454\n",
            "Done!\n"
          ]
        }
      ]
    },
    {
      "cell_type": "markdown",
      "metadata": {
        "id": "ZxZLmXJ6jL2t"
      },
      "source": [
        "Celda creada para visualizar el resultado final, es decir, el mejor resultado de esta ejecución. "
      ]
    },
    {
      "cell_type": "code",
      "metadata": {
        "colab": {
          "base_uri": "https://localhost:8080/"
        },
        "id": "muWOPSaItMNV",
        "outputId": "93d1c072-a186-4e0c-f7cd-a36214d36881"
      },
      "source": [
        "print(\"El mejor resultado es: %s\" % (best))\n",
        "print(\"El mejor score es: %s\" %(score))"
      ],
      "execution_count": null,
      "outputs": [
        {
          "output_type": "stream",
          "name": "stdout",
          "text": [
            "El mejor resultado es: [1.905398063623723, 0.03558562696238621, 1.9528398706027001, -0.944049214418099, -0.9195400320679892, 0.06942209440741409, -1.7855342343769331, 0.039379047573715464, 1.029582689419387, 0.9047793559414505]\n",
            "El mejor score es: 29.453663971815544\n"
          ]
        }
      ]
    }
  ]
}